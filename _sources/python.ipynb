{
 "cells": [
  {
   "cell_type": "markdown",
   "id": "classical-sampling",
   "metadata": {},
   "source": [
    "# Python"
   ]
  },
  {
   "cell_type": "markdown",
   "id": "attached-compression",
   "metadata": {},
   "source": [
    "## Basics"
   ]
  },
  {
   "cell_type": "markdown",
   "id": "amino-hours",
   "metadata": {},
   "source": [
    "### Lists\n",
    "Methods: \n",
    "\n",
    "* `append()`\n",
    "* `clear()`\n",
    "* `copy()`\n",
    "* `count()`\n",
    "* `extend()`\n",
    "* `index()`\n",
    "* `insert()`\n",
    "* `pop()`\n",
    "* `remove()`\n",
    "* `reverse()`\n",
    "* `sort()`\n"
   ]
  },
  {
   "cell_type": "code",
   "execution_count": 59,
   "id": "dress-scenario",
   "metadata": {},
   "outputs": [
    {
     "name": "stdout",
     "output_type": "stream",
     "text": [
      "['apple', 'banana', 'orange', 'kiwi']\n"
     ]
    }
   ],
   "source": [
    "demoList = [\"apple\", \"banana\", \"orange\", \"kiwi\"]\n",
    "print(demoList)"
   ]
  },
  {
   "cell_type": "markdown",
   "id": "restricted-executive",
   "metadata": {},
   "source": [
    "Adding/Removing items"
   ]
  },
  {
   "cell_type": "code",
   "execution_count": 60,
   "id": "periodic-tackle",
   "metadata": {},
   "outputs": [
    {
     "name": "stdout",
     "output_type": "stream",
     "text": [
      "['apple', 'banana', 'orange', 'kiwi', 'cherry']\n",
      "['apple', 'grape', 'banana', 'orange', 'kiwi', 'cherry']\n"
     ]
    }
   ],
   "source": [
    "demoList.append('cherry')\n",
    "print(demoList) \n",
    "\n",
    "demoList.insert(1, 'grape')\n",
    "print(demoList) "
   ]
  },
  {
   "cell_type": "markdown",
   "id": "enclosed-paraguay",
   "metadata": {},
   "source": [
    "join 2 lists"
   ]
  },
  {
   "cell_type": "code",
   "execution_count": 61,
   "id": "amateur-chicago",
   "metadata": {},
   "outputs": [
    {
     "name": "stdout",
     "output_type": "stream",
     "text": [
      "['apple', 'banana', 'cherry', 'mango', 'pineapple', 'papaya']\n"
     ]
    }
   ],
   "source": [
    "thislist = [\"apple\", \"banana\", \"cherry\"]\n",
    "tropical = [\"mango\", \"pineapple\", \"papaya\"]\n",
    "thislist.extend(tropical)\n",
    "print(thislist)"
   ]
  },
  {
   "cell_type": "markdown",
   "id": "precious-palace",
   "metadata": {},
   "source": [
    "or..."
   ]
  },
  {
   "cell_type": "code",
   "execution_count": 62,
   "id": "established-consumer",
   "metadata": {},
   "outputs": [
    {
     "data": {
      "text/plain": [
       "['apple', 'banana', 'cherry', 'mango', 'pineapple', 'papaya']"
      ]
     },
     "execution_count": 62,
     "metadata": {},
     "output_type": "execute_result"
    }
   ],
   "source": [
    "thislist = [\"apple\", \"banana\", \"cherry\"]\n",
    "tropical = [\"mango\", \"pineapple\", \"papaya\"]\n",
    "\n",
    "thislist + tropical"
   ]
  },
  {
   "cell_type": "markdown",
   "id": "lesser-library",
   "metadata": {},
   "source": [
    "Removing items"
   ]
  },
  {
   "cell_type": "code",
   "execution_count": 63,
   "id": "whole-stanley",
   "metadata": {},
   "outputs": [
    {
     "name": "stdout",
     "output_type": "stream",
     "text": [
      "['banana', 'orange', 'kiwi']\n",
      "['banana', 'kiwi']\n",
      "['kiwi']\n",
      "[]\n"
     ]
    }
   ],
   "source": [
    "demoList = [\"apple\", \"banana\", \"orange\", \"kiwi\"]\n",
    "\n",
    "demoList.remove('apple')\n",
    "print(demoList)\n",
    "\n",
    "demoList.pop(1)\n",
    "print(demoList)\n",
    "\n",
    "del demoList[0]\n",
    "print(demoList)\n",
    "\n",
    "demoList.clear() # removes all items\n",
    "print(demoList)"
   ]
  },
  {
   "cell_type": "markdown",
   "id": "positive-trace",
   "metadata": {},
   "source": [
    "### Copying a list\n",
    "make sure the lists aren't linked, with a deep copy"
   ]
  },
  {
   "cell_type": "code",
   "execution_count": 69,
   "id": "talented-worthy",
   "metadata": {},
   "outputs": [
    {
     "name": "stdout",
     "output_type": "stream",
     "text": [
      "['apple', 'banana', 'cherry']\n",
      "['apple', 'cherry']\n",
      "['apple', 'banana', 'cherry']\n"
     ]
    }
   ],
   "source": [
    "thislist = [\"apple\", \"banana\", \"cherry\"]\n",
    "mylist = thislist.copy()\n",
    "print(mylist)\n",
    "\n",
    "del thislist[1]\n",
    "print(thislist)\n",
    "print(mylist)"
   ]
  },
  {
   "cell_type": "markdown",
   "id": "extra-junior",
   "metadata": {},
   "source": [
    "### Tuples\n",
    "\n",
    "unchangeable\n",
    "\n",
    "`count()` and `index()`\n"
   ]
  },
  {
   "cell_type": "code",
   "execution_count": 70,
   "id": "cardiac-developer",
   "metadata": {},
   "outputs": [
    {
     "data": {
      "text/plain": [
       "(1, 2, 3)"
      ]
     },
     "execution_count": 70,
     "metadata": {},
     "output_type": "execute_result"
    }
   ],
   "source": [
    "tupExample = (1, 2, 3)\n",
    "tupExample"
   ]
  },
  {
   "cell_type": "markdown",
   "id": "wrong-chester",
   "metadata": {},
   "source": [
    "### Sets\n",
    "unordered and unindexed, adding/removing is possible but not changing\n",
    "\n",
    "\n"
   ]
  },
  {
   "cell_type": "code",
   "execution_count": 71,
   "id": "intelligent-economics",
   "metadata": {},
   "outputs": [
    {
     "name": "stdout",
     "output_type": "stream",
     "text": [
      "{'apple', 'banana', 'orange', 'cherry'}\n"
     ]
    }
   ],
   "source": [
    "thisset = {\"apple\", \"banana\", \"cherry\"}\n",
    "\n",
    "thisset.add(\"orange\")\n",
    "\n",
    "print(thisset) "
   ]
  },
  {
   "cell_type": "markdown",
   "id": "headed-diploma",
   "metadata": {},
   "source": [
    "### Dictionaries"
   ]
  },
  {
   "cell_type": "code",
   "execution_count": 72,
   "id": "hairy-filling",
   "metadata": {},
   "outputs": [
    {
     "name": "stdout",
     "output_type": "stream",
     "text": [
      "{'type': 'apple', 'colour': ['red', 'green'], 'weight': 200}\n",
      "apple\n"
     ]
    }
   ],
   "source": [
    "fruitDict = {\n",
    "    \"type\" : \"apple\",\n",
    "    \"colour\" : [\"red\", \"green\"],\n",
    "    \"weight\" : 200\n",
    "}\n",
    "\n",
    "print(fruitDict)\n",
    "\n",
    "print(fruitDict[\"type\"])\n",
    "\n",
    "\n"
   ]
  },
  {
   "cell_type": "code",
   "execution_count": 73,
   "id": "french-killing",
   "metadata": {},
   "outputs": [
    {
     "data": {
      "text/plain": [
       "200"
      ]
     },
     "execution_count": 73,
     "metadata": {},
     "output_type": "execute_result"
    }
   ],
   "source": [
    "fruitDict.get(\"weight\")"
   ]
  },
  {
   "cell_type": "code",
   "execution_count": 74,
   "id": "traditional-cargo",
   "metadata": {},
   "outputs": [
    {
     "data": {
      "text/plain": [
       "dict_keys(['type', 'colour', 'weight'])"
      ]
     },
     "execution_count": 74,
     "metadata": {},
     "output_type": "execute_result"
    }
   ],
   "source": [
    "fruitDict.keys()"
   ]
  },
  {
   "cell_type": "code",
   "execution_count": 75,
   "id": "organic-canada",
   "metadata": {},
   "outputs": [
    {
     "data": {
      "text/plain": [
       "dict_values(['apple', ['red', 'green'], 200])"
      ]
     },
     "execution_count": 75,
     "metadata": {},
     "output_type": "execute_result"
    }
   ],
   "source": [
    "fruitDict.values()"
   ]
  },
  {
   "cell_type": "code",
   "execution_count": 76,
   "id": "boxed-shipping",
   "metadata": {},
   "outputs": [
    {
     "data": {
      "text/plain": [
       "dict_items([('type', 'apple'), ('colour', ['red', 'green']), ('weight', 200)])"
      ]
     },
     "execution_count": 76,
     "metadata": {},
     "output_type": "execute_result"
    }
   ],
   "source": [
    "fruitDict.items()"
   ]
  },
  {
   "cell_type": "markdown",
   "id": "relevant-humor",
   "metadata": {},
   "source": [
    "Changing, adding, and removing items in a dictionary"
   ]
  },
  {
   "cell_type": "code",
   "execution_count": 80,
   "id": "latest-somalia",
   "metadata": {},
   "outputs": [
    {
     "name": "stdout",
     "output_type": "stream",
     "text": [
      "{'type': 'apple', 'colour': ['red', 'green'], 'weight': 500}\n",
      "{'type': 'apple', 'colour': ['red', 'green'], 'weight': 500, 'smell': 'appley'}\n",
      "summer\n",
      "{'type': 'apple', 'weight': 500, 'smell': 'appley', 'season': 'summer'}\n"
     ]
    }
   ],
   "source": [
    "fruitDict = {\n",
    "    \"type\" : \"apple\",\n",
    "    \"colour\" : [\"red\", \"green\"],\n",
    "    \"weight\" : 200\n",
    "}\n",
    "\n",
    "fruitDict[\"weight\"] = 500\n",
    "print(fruitDict)\n",
    "\n",
    "fruitDict.update({\"smell\" : \"appley\"})\n",
    "print(fruitDict)\n",
    "\n",
    "fruitDict[\"season\"] = \"summer\"\n",
    "print(fruitDict[\"season\"])\n",
    "\n",
    "del fruitDict[\"colour\"]\n",
    "print(fruitDict)"
   ]
  },
  {
   "cell_type": "markdown",
   "id": "secure-trout",
   "metadata": {},
   "source": [
    "### Loops\n"
   ]
  },
  {
   "cell_type": "code",
   "execution_count": 64,
   "id": "parliamentary-literature",
   "metadata": {},
   "outputs": [
    {
     "name": "stdout",
     "output_type": "stream",
     "text": [
      "0\n",
      "1\n",
      "2\n",
      "3\n",
      "4\n"
     ]
    }
   ],
   "source": [
    "for i in range(0,5):\n",
    "    print(i)"
   ]
  },
  {
   "cell_type": "code",
   "execution_count": 92,
   "id": "dietary-cinema",
   "metadata": {},
   "outputs": [
    {
     "name": "stdout",
     "output_type": "stream",
     "text": [
      "0\n",
      "1\n",
      "2\n",
      "3\n",
      "4\n",
      "5\n"
     ]
    }
   ],
   "source": [
    "x = 0\n",
    "while x < 6:\n",
    "    print(x)\n",
    "    x = x + 1\n",
    "    "
   ]
  },
  {
   "cell_type": "markdown",
   "id": "leading-hardwood",
   "metadata": {},
   "source": [
    "breaks within loops"
   ]
  },
  {
   "cell_type": "code",
   "execution_count": 94,
   "id": "hispanic-leeds",
   "metadata": {},
   "outputs": [
    {
     "name": "stdout",
     "output_type": "stream",
     "text": [
      "0\n",
      "1\n",
      "2\n",
      "3\n",
      "4\n"
     ]
    }
   ],
   "source": [
    "x = 0\n",
    "while x < 6:\n",
    "    print(x)\n",
    "    \n",
    "    if x == 4:\n",
    "        break\n",
    "    \n",
    "    x = x + 1"
   ]
  },
  {
   "cell_type": "markdown",
   "id": "given-month",
   "metadata": {},
   "source": [
    "continue jumps back to the start of the loop"
   ]
  },
  {
   "cell_type": "code",
   "execution_count": 97,
   "id": "hybrid-rotation",
   "metadata": {},
   "outputs": [
    {
     "name": "stdout",
     "output_type": "stream",
     "text": [
      "1\n",
      "2\n",
      "3\n",
      "5\n",
      "6\n"
     ]
    }
   ],
   "source": [
    "x = 0\n",
    "while x < 6:\n",
    "    x += 1\n",
    "    if x == 4:\n",
    "        continue\n",
    "    print(x)"
   ]
  },
  {
   "cell_type": "code",
   "execution_count": 98,
   "id": "signal-adolescent",
   "metadata": {},
   "outputs": [
    {
     "name": "stdout",
     "output_type": "stream",
     "text": [
      "1\n",
      "2\n",
      "3\n",
      "4\n",
      "5\n",
      "i is no longer less than 6\n"
     ]
    }
   ],
   "source": [
    "i = 1\n",
    "while i < 6:\n",
    "  print(i)\n",
    "  i += 1\n",
    "else:\n",
    "  print(\"i is no longer less than 6\")"
   ]
  },
  {
   "cell_type": "markdown",
   "id": "relevant-depression",
   "metadata": {},
   "source": [
    "### Conditions (If..Else)"
   ]
  },
  {
   "cell_type": "code",
   "execution_count": 85,
   "id": "complex-premium",
   "metadata": {},
   "outputs": [
    {
     "name": "stdout",
     "output_type": "stream",
     "text": [
      "b is larger\n"
     ]
    }
   ],
   "source": [
    "a = 2\n",
    "b = 20\n",
    "\n",
    "if a > b:\n",
    "    print(\"a is larger\")\n",
    "elif a == b:\n",
    "    print(\"they are equal\")\n",
    "else:\n",
    "    print(\"b is larger\")\n",
    "    \n"
   ]
  },
  {
   "cell_type": "code",
   "execution_count": 88,
   "id": "natural-poetry",
   "metadata": {},
   "outputs": [
    {
     "name": "stdout",
     "output_type": "stream",
     "text": [
      "At least one of the conditions is True\n"
     ]
    }
   ],
   "source": [
    "a = 200\n",
    "b = 33\n",
    "c = 500\n",
    "\n",
    "if a > b or a > c:\n",
    "  print(\"At least one of the conditions is True\")"
   ]
  },
  {
   "cell_type": "markdown",
   "id": "focal-sewing",
   "metadata": {},
   "source": [
    "use `pass` to avoid an error."
   ]
  },
  {
   "cell_type": "code",
   "execution_count": 89,
   "id": "august-cooking",
   "metadata": {},
   "outputs": [],
   "source": [
    "if 1 > 10:\n",
    "    pass"
   ]
  },
  {
   "cell_type": "markdown",
   "id": "immune-programming",
   "metadata": {},
   "source": [
    "### List Comprehension"
   ]
  },
  {
   "cell_type": "code",
   "execution_count": 66,
   "id": "therapeutic-brazilian",
   "metadata": {},
   "outputs": [
    {
     "data": {
      "text/plain": [
       "['banana', 'cherry']"
      ]
     },
     "execution_count": 66,
     "metadata": {},
     "output_type": "execute_result"
    }
   ],
   "source": [
    "newList = [\"apple\", \"banana\", \"cherry\"]\n",
    "\n",
    "[x for x in newList]\n",
    "\n",
    "[x for x in newList if x != 'apple']"
   ]
  },
  {
   "cell_type": "code",
   "execution_count": 67,
   "id": "broken-spoke",
   "metadata": {},
   "outputs": [
    {
     "data": {
      "text/plain": [
       "['banana', 'cherry']"
      ]
     },
     "execution_count": 67,
     "metadata": {},
     "output_type": "execute_result"
    }
   ],
   "source": [
    "[x for x in newList if x != 'apple']"
   ]
  },
  {
   "cell_type": "code",
   "execution_count": 99,
   "id": "ongoing-audience",
   "metadata": {},
   "outputs": [
    {
     "data": {
      "text/plain": [
       "['APPLE', 'BANANA', 'CHERRY']"
      ]
     },
     "execution_count": 99,
     "metadata": {},
     "output_type": "execute_result"
    }
   ],
   "source": [
    "[x.upper() for x in newList]"
   ]
  },
  {
   "cell_type": "markdown",
   "id": "direct-state",
   "metadata": {},
   "source": [
    "### Functions and lambda\n",
    "\n",
    "lambda can have only one expression"
   ]
  },
  {
   "cell_type": "code",
   "execution_count": 100,
   "id": "parliamentary-intention",
   "metadata": {},
   "outputs": [
    {
     "name": "stdout",
     "output_type": "stream",
     "text": [
      "Hello\n"
     ]
    }
   ],
   "source": [
    "def printHello():\n",
    "    print(\"Hello\")\n",
    "\n",
    "printHello()"
   ]
  },
  {
   "cell_type": "code",
   "execution_count": 101,
   "id": "frank-india",
   "metadata": {},
   "outputs": [
    {
     "data": {
      "text/plain": [
       "12"
      ]
     },
     "execution_count": 101,
     "metadata": {},
     "output_type": "execute_result"
    }
   ],
   "source": [
    "addTen = lambda x : x  + 10\n",
    "\n",
    "addTen(2)"
   ]
  },
  {
   "cell_type": "code",
   "execution_count": 102,
   "id": "strange-chassis",
   "metadata": {},
   "outputs": [
    {
     "name": "stdout",
     "output_type": "stream",
     "text": [
      "30\n"
     ]
    }
   ],
   "source": [
    "x = lambda a, b : a * b\n",
    "print(x(5, 6)) "
   ]
  },
  {
   "cell_type": "markdown",
   "id": "annual-contractor",
   "metadata": {},
   "source": [
    "## Classes/Objects\n",
    "**Classes** are like blueprints for creating objects.\n",
    "\n",
    "**Instances** are what is built using the class.\n",
    "\n",
    "The `__init__()` function is found in all **classes**. It is used to assign values to object properties, or  other operations when the *object is being created*.\n",
    "\n",
    "`self` is used to reference the current instance of the class, and is used to access variables that belong to the class. *it doesn't need to be named self*\n",
    "\n",
    "Classes can contain **methods** (in object functions)\n"
   ]
  },
  {
   "cell_type": "code",
   "execution_count": 112,
   "id": "helpful-hurricane",
   "metadata": {},
   "outputs": [
    {
     "name": "stdout",
     "output_type": "stream",
     "text": [
      "Ford\n",
      "150\n"
     ]
    }
   ],
   "source": [
    "class car:\n",
    "    def __init__(self, make, topspeed):\n",
    "        self.make = make\n",
    "        self.topspeed = topspeed\n",
    "\n",
    "blueCar = car(\"Ford\", \"150\")\n",
    "\n",
    "print(blueCar.make)\n",
    "print(blueCar.topspeed)"
   ]
  },
  {
   "cell_type": "markdown",
   "id": "every-finder",
   "metadata": {},
   "source": [
    "add a method to the class"
   ]
  },
  {
   "cell_type": "code",
   "execution_count": 127,
   "id": "ceramic-variable",
   "metadata": {},
   "outputs": [
    {
     "name": "stdout",
     "output_type": "stream",
     "text": [
      "Hello I am a tiger\n"
     ]
    }
   ],
   "source": [
    "class animal:\n",
    "    def __init__(self, name, weight, habitat):\n",
    "        self.name = name\n",
    "        self.weight = weight\n",
    "        self.habitat = habitat\n",
    "    \n",
    "    def sayHello(self):\n",
    "        print(\"Hello I am a \" + self.name)\n",
    "\n",
    "        \n",
    "tiger =  animal(\"tiger\", 200, \"forest\")\n",
    "\n",
    "tiger.sayHello()"
   ]
  },
  {
   "cell_type": "markdown",
   "id": "dirty-humanitarian",
   "metadata": {},
   "source": [
    "modifying object parameters is similar to normal python sytax  "
   ]
  },
  {
   "cell_type": "code",
   "execution_count": 128,
   "id": "desperate-coverage",
   "metadata": {},
   "outputs": [
    {
     "name": "stdout",
     "output_type": "stream",
     "text": [
      "220\n",
      "{'name': 'tiger', 'weight': 220}\n"
     ]
    }
   ],
   "source": [
    "tiger.weight = 220\n",
    "print(tiger.weight)\n",
    "\n",
    "del tiger.habitat\n",
    "print(tiger.__dict__) # quick investigation"
   ]
  },
  {
   "cell_type": "markdown",
   "id": "lyric-closure",
   "metadata": {},
   "source": [
    "### Inheritance\n",
    "Inheritance allows us to define a class that inherits methods and properties from another class. \n",
    "\n",
    "**parent** and **child** classes will be used.\n",
    "\n"
   ]
  },
  {
   "cell_type": "code",
   "execution_count": 5,
   "id": "reduced-pepper",
   "metadata": {},
   "outputs": [
    {
     "name": "stdout",
     "output_type": "stream",
     "text": [
      "Great White\n"
     ]
    }
   ],
   "source": [
    "# Parent class\n",
    "\n",
    "class animal:\n",
    "    def __init__(self, name, weight, habitat):\n",
    "        self.name = name\n",
    "        self.weight = weight\n",
    "        self.habitat = habitat\n",
    "    \n",
    "    def sayHello(self):\n",
    "        print(\"Hello I am a \" + self.name)\n",
    "\n",
    "        \n",
    "# Child class\n",
    "\n",
    "class fish(animal):\n",
    "    pass # used for empty classes\n",
    "\n",
    "shark = fish(\"Great White\", \"1000\", \"tropical ocean\")\n",
    "\n",
    "print(shark.name)\n",
    "\n"
   ]
  },
  {
   "cell_type": "markdown",
   "id": "nonprofit-jungle",
   "metadata": {},
   "source": [
    "if we were to add the `__init__()` function, the child overrides that of the parents class.\n",
    "\n",
    "To keep it, add a call to the parents `__init__()` directly or use `super()`"
   ]
  },
  {
   "cell_type": "code",
   "execution_count": 16,
   "id": "leading-premiere",
   "metadata": {},
   "outputs": [
    {
     "name": "stdout",
     "output_type": "stream",
     "text": [
      "{'name': 'Golden', 'weight': 2, 'habitat': 'mountains'}\n",
      "{'name': 'Grizzly', 'weight': 500, 'habitat': 'forest'}\n"
     ]
    }
   ],
   "source": [
    "class animal:\n",
    "    def __init__(self, name, weight, habitat):\n",
    "        self.name = name\n",
    "        self.weight = weight\n",
    "        self.habitat = habitat\n",
    "\n",
    "\n",
    "# explicitly calling\n",
    "class bird(animal):\n",
    "    def __init__(self, name, weight, habitat):\n",
    "        animal.__init__(self, name, weight, habitat)\n",
    "\n",
    "        \n",
    "# using super()\n",
    "class mammal(animal):\n",
    "    def __init__(self, name, weight, habitat):\n",
    "        super().__init__(name, weight, habitat)\n",
    "\n",
    "        \n",
    "        \n",
    "eagle = bird(\"Golden\", 2, \"mountains\")\n",
    "print(eagle.__dict__)\n",
    "\n",
    "bear = mammal(\"Grizzly\", 500, \"forest\")\n",
    "print(bear.__dict__)"
   ]
  },
  {
   "cell_type": "markdown",
   "id": "contemporary-stage",
   "metadata": {},
   "source": [
    "properties can also be added at the inheritance stage"
   ]
  },
  {
   "cell_type": "code",
   "execution_count": 24,
   "id": "diverse-following",
   "metadata": {},
   "outputs": [
    {
     "name": "stdout",
     "output_type": "stream",
     "text": [
      "The  fire ant  has a colony size of  100000\n"
     ]
    },
    {
     "data": {
      "text/plain": [
       "{'name': 'fire ant',\n",
       " 'weight': 0.001,\n",
       " 'habitat': 'tropical forest',\n",
       " 'colonySize': 100000,\n",
       " 'exoskeleton': True}"
      ]
     },
     "execution_count": 24,
     "metadata": {},
     "output_type": "execute_result"
    }
   ],
   "source": [
    "class animal:\n",
    "    def __init__(self, name, weight, habitat):\n",
    "        self.name = name\n",
    "        self.weight = weight\n",
    "        self.habitat = habitat\n",
    "\n",
    "        \n",
    "class insect(animal):\n",
    "    def __init__(self, name, weight, habitat, colonySize):\n",
    "        super().__init__(name, weight, habitat)\n",
    "        self.colonySize = colonySize\n",
    "        self.exoskeleton = True # you can also add properties that aren't assigned\n",
    "    \n",
    "    def printColonySize(self):\n",
    "        print(\"The \", self.name, \" has a colony size of \", self.colonySize)\n",
    "\n",
    "        \n",
    "        \n",
    "ant = insect(\"fire ant\", 0.001, \"tropical forest\", 100000)\n",
    "\n",
    "ant.printColonySize()\n",
    "\n",
    "ant.__dict__"
   ]
  },
  {
   "cell_type": "markdown",
   "id": "scientific-comfort",
   "metadata": {},
   "source": [
    "### Iterators\n",
    "Is an object that can be iterated upon. \n",
    "\n",
    "Specifically consitsting of the metods `__iter__()` and `__next__()`\n",
    "\n",
    "`__iter__()` - returns the iterator object\n",
    "\n",
    "`__next__()` - returns the next item in the sequence\n",
    "\n"
   ]
  },
  {
   "cell_type": "code",
   "execution_count": 5,
   "id": "following-doctor",
   "metadata": {},
   "outputs": [
    {
     "name": "stdout",
     "output_type": "stream",
     "text": [
      "1\n",
      "2\n",
      "3\n"
     ]
    }
   ],
   "source": [
    "class numbers:\n",
    "    def __iter__(self):\n",
    "        self.a = 1\n",
    "        return self\n",
    "    \n",
    "    def __next__(self):\n",
    "        x = self.a\n",
    "        self.a += 1\n",
    "        return x\n",
    "\n",
    "myclass = numbers()\n",
    "myiter = iter(myclass)\n",
    "print(next(myiter))\n",
    "print(next(myiter))\n",
    "print(next(myiter))\n",
    "\n"
   ]
  },
  {
   "cell_type": "markdown",
   "id": "affected-fifth",
   "metadata": {},
   "source": [
    "to stop the iteration use `StopIteration`"
   ]
  },
  {
   "cell_type": "code",
   "execution_count": 1,
   "id": "maritime-ceramic",
   "metadata": {},
   "outputs": [
    {
     "name": "stdout",
     "output_type": "stream",
     "text": [
      "1\n",
      "2\n",
      "3\n",
      "4\n",
      "5\n",
      "6\n",
      "7\n",
      "8\n",
      "9\n",
      "10\n"
     ]
    }
   ],
   "source": [
    "class numbers:\n",
    "    def __iter__(self):\n",
    "        self.a = 1\n",
    "        return self\n",
    "    \n",
    "    def __next__(self):\n",
    "        if self.a <= 10:\n",
    "            x = self.a\n",
    "            self.a += 1\n",
    "            return x\n",
    "        else:\n",
    "            raise StopIteration\n",
    "\n",
    "myclass = numbers()\n",
    "myiter = iter(myclass)\n",
    "\n",
    "for x in myiter:\n",
    "    print(x)"
   ]
  },
  {
   "cell_type": "markdown",
   "id": "sonic-place",
   "metadata": {},
   "source": [
    "## Class Concepts\n",
    "\n",
    "classes have a number of key concepts\n",
    "* inheritance - creating a new class from a parent\n",
    "* encapsulation - being unable to effect the core data, unless a function specifices this \n",
    "* Polymorphism - to use a common interface for multiple forms"
   ]
  },
  {
   "cell_type": "markdown",
   "id": "regional-basket",
   "metadata": {},
   "source": [
    "### Inheritance"
   ]
  },
  {
   "cell_type": "code",
   "execution_count": 4,
   "id": "fewer-input",
   "metadata": {},
   "outputs": [
    {
     "name": "stdout",
     "output_type": "stream",
     "text": [
      "hello I am a skate\n",
      "bubble bubble bubble\n",
      "I am a skate\n"
     ]
    }
   ],
   "source": [
    "# Parent class\n",
    "class animal:\n",
    "    def __init__(self, species, habitat, size):\n",
    "        self.species = species\n",
    "        self.habitat = habitat\n",
    "        self.size = size\n",
    "\n",
    "    def __str__(self):\n",
    "        return \"I am a \" + self.species\n",
    "\n",
    "    def sayHelloSpecies(self):\n",
    "        print(\"hello I am a \" + self.species)\n",
    "\n",
    "# child class\n",
    "class fish(animal):\n",
    "    def __init__(self, species, habitat, size):\n",
    "        super().__init__(species, habitat, size)\n",
    "\n",
    "    def fishSpeak(self):\n",
    "        print(\"bubble bubble bubble\")\n",
    "        \n",
    "        \n",
    "        \n",
    "        \n",
    "skate = fish(\"skate\", \"north sea\", 4)\n",
    "skate.sayHelloSpecies()\n",
    "skate.fishSpeak()\n",
    "print(skate)"
   ]
  },
  {
   "cell_type": "markdown",
   "id": "settled-forum",
   "metadata": {},
   "source": [
    "### Encapsulation \n",
    "\n",
    "note how the `__maxprice` cannot be changed without the use of the specificed function."
   ]
  },
  {
   "cell_type": "code",
   "execution_count": 2,
   "id": "perfect-bumper",
   "metadata": {},
   "outputs": [
    {
     "name": "stdout",
     "output_type": "stream",
     "text": [
      "selling at price 900\n",
      "selling at price 900\n",
      "selling at price 1000\n"
     ]
    }
   ],
   "source": [
    "class Computer:\n",
    "    def __init__(self):\n",
    "        self.__maxprice = 900\n",
    "\n",
    "    def sell(self):\n",
    "        print(\"selling at price {}\".format(self.__maxprice))\n",
    "\n",
    "    def setMaxPrice(self, price):\n",
    "        self.__maxprice = price\n",
    "\n",
    "\n",
    "c = Computer()\n",
    "\n",
    "c.sell()\n",
    "\n",
    "# change the price - doesn't work! good\n",
    "c.__maxprice = 9\n",
    "c.sell()\n",
    "\n",
    "# using setter function - works\n",
    "c.setMaxPrice(1000)\n",
    "c.sell()"
   ]
  },
  {
   "cell_type": "markdown",
   "id": "steady-killing",
   "metadata": {},
   "source": [
    "### Polymorphism\n",
    "\n",
    "We can have multiple common classes, that can be used by other functions/class/etc.\n",
    "\n",
    "the `flying_test()` function uses the `fly()` method in both the parrot and emu classes. "
   ]
  },
  {
   "cell_type": "code",
   "execution_count": 5,
   "id": "brutal-marijuana",
   "metadata": {},
   "outputs": [
    {
     "name": "stdout",
     "output_type": "stream",
     "text": [
      "can fly\n",
      "cannot fly\n"
     ]
    }
   ],
   "source": [
    "# parent\n",
    "class animal:\n",
    "    def __init__(self, species, habitat, size):\n",
    "        self.species = species\n",
    "        self.habitat = habitat\n",
    "        self.size = size\n",
    "\n",
    "\n",
    "class parrot(animal):\n",
    "    def __init__(self, species, habitat, size):\n",
    "        super().__init__(species, habitat, size)\n",
    "\n",
    "    def fly(self):\n",
    "        print(\"can fly\")\n",
    "\n",
    "\n",
    "class emu(animal):\n",
    "    def __init__(self, species, habitat, size):\n",
    "        super().__init__(species, habitat, size)\n",
    "\n",
    "    def fly(self):\n",
    "        print(\"cannot fly\")\n",
    "\n",
    "\n",
    "# define a common test\n",
    "def flying_test(birdSpecies):\n",
    "    birdSpecies.fly()\n",
    "\n",
    "\n",
    "# create object and run tests\n",
    "polly = parrot(\"parrot\", \"tropics\", 1)\n",
    "paul = emu(\"emu\", \"tropics\", 67)\n",
    "flying_test(polly)\n",
    "flying_test(paul)\n"
   ]
  },
  {
   "cell_type": "markdown",
   "id": "beautiful-invite",
   "metadata": {},
   "source": [
    "## Modules\n",
    "Code library or a local `.py` file"
   ]
  },
  {
   "cell_type": "code",
   "execution_count": 13,
   "id": "excellent-allowance",
   "metadata": {},
   "outputs": [
    {
     "data": {
      "text/plain": [
       "array([1, 2, 3])"
      ]
     },
     "execution_count": 13,
     "metadata": {},
     "output_type": "execute_result"
    }
   ],
   "source": [
    "import numpy as np\n",
    "\n",
    "np.array([1, 2, 3])"
   ]
  },
  {
   "cell_type": "code",
   "execution_count": 12,
   "id": "thousand-tribute",
   "metadata": {},
   "outputs": [
    {
     "data": {
      "text/html": [
       "<div>\n",
       "<style scoped>\n",
       "    .dataframe tbody tr th:only-of-type {\n",
       "        vertical-align: middle;\n",
       "    }\n",
       "\n",
       "    .dataframe tbody tr th {\n",
       "        vertical-align: top;\n",
       "    }\n",
       "\n",
       "    .dataframe thead th {\n",
       "        text-align: right;\n",
       "    }\n",
       "</style>\n",
       "<table border=\"1\" class=\"dataframe\">\n",
       "  <thead>\n",
       "    <tr style=\"text-align: right;\">\n",
       "      <th></th>\n",
       "      <th>0</th>\n",
       "    </tr>\n",
       "  </thead>\n",
       "  <tbody>\n",
       "    <tr>\n",
       "      <th>0</th>\n",
       "      <td>1</td>\n",
       "    </tr>\n",
       "    <tr>\n",
       "      <th>1</th>\n",
       "      <td>2</td>\n",
       "    </tr>\n",
       "    <tr>\n",
       "      <th>2</th>\n",
       "      <td>3</td>\n",
       "    </tr>\n",
       "  </tbody>\n",
       "</table>\n",
       "</div>"
      ],
      "text/plain": [
       "   0\n",
       "0  1\n",
       "1  2\n",
       "2  3"
      ]
     },
     "execution_count": 12,
     "metadata": {},
     "output_type": "execute_result"
    }
   ],
   "source": [
    "from pandas import DataFrame as df\n",
    "\n",
    "df([1,2,3])"
   ]
  },
  {
   "cell_type": "markdown",
   "id": "external-sensitivity",
   "metadata": {},
   "source": [
    "## RegEx\n",
    "`import re`\n",
    "\n",
    "`re.` methods:\n",
    "\n",
    "* `findall` - Returns a list containing all matches\n",
    "* `search` - Returns a Match object if there is a match anywhere in the string\n",
    "    * `.span()` - returns a tuple containing the start and end positions of the match.\n",
    "    * `.string` - returns the string passed into the function\n",
    "    * `.group()` - returns the part of the string where there was a match\n",
    "* `split` - Returns a list where the string has been split at each match\n",
    "* `sub` - Replaces one or many matches with a string\n",
    "\n",
    "*from w3*\n"
   ]
  },
  {
   "cell_type": "markdown",
   "id": "found-choice",
   "metadata": {},
   "source": [
    "## File Handling\n",
    "\n",
    "`open(filename, mode)`\n",
    "\n",
    "Mode types:\n",
    "\n",
    "`\"r\"` - read\n",
    "\n",
    "`\"a\"` - append\n",
    "\n",
    "`\"w\"` - write\n",
    "\n",
    "`\"x\"` - create\n",
    "\n",
    "open, readlines,and close\n",
    "\n",
    "```python\n",
    "f = open(\"demofile.txt\", \"r\")\n",
    "print(f.readline())\n",
    "f.close() \n",
    "```\n",
    "\n"
   ]
  },
  {
   "cell_type": "markdown",
   "id": "average-stereo",
   "metadata": {},
   "source": [
    "https://www.w3schools.com/python/numpy_intro.asp"
   ]
  },
  {
   "cell_type": "code",
   "execution_count": null,
   "id": "necessary-isaac",
   "metadata": {},
   "outputs": [],
   "source": []
  }
 ],
 "metadata": {
  "kernelspec": {
   "display_name": "Python 3",
   "language": "python",
   "name": "python3"
  },
  "language_info": {
   "codemirror_mode": {
    "name": "ipython",
    "version": 3
   },
   "file_extension": ".py",
   "mimetype": "text/x-python",
   "name": "python",
   "nbconvert_exporter": "python",
   "pygments_lexer": "ipython3",
   "version": "3.9.1"
  }
 },
 "nbformat": 4,
 "nbformat_minor": 5
}
