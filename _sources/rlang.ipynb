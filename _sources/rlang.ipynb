{
 "cells": [
  {
   "cell_type": "markdown",
   "id": "liked-verse",
   "metadata": {},
   "source": [
    "# R \n",
    "This will be a basic overview of the `R` language. \n"
   ]
  },
  {
   "cell_type": "markdown",
   "id": "continuing-spray",
   "metadata": {},
   "source": [
    "# Basics\n",
    "\n",
    "Quickstart Syntax:\n",
    "* R starts at 1 (not 0)\n",
    "* `dataframe$column` \n",
    "* `v <- c(1,2,3,4)`\n",
    "\n",
    "\n",
    "Dot notation is not the default in R, however it can be helpful as an alternative to camelcase. Given that we can just use *tab*."
   ]
  },
  {
   "cell_type": "code",
   "execution_count": 5,
   "id": "eligible-trauma",
   "metadata": {},
   "outputs": [],
   "source": [
    "animal.mammal.bear <- \"Grizzly\"\n",
    "animal.mammal.rat <- \"Common black\""
   ]
  },
  {
   "cell_type": "markdown",
   "id": "human-conservative",
   "metadata": {},
   "source": [
    "## Variable Types\n",
    "`class()` is used to determine the type.\n",
    "\n",
    "\n",
    "R by default uses numeric, rather than  int, float, double, etc.\n",
    "\n",
    "\n",
    "`NA` - \"NULL\"/etc.\n",
    "\n",
    "`NaN` - not a number\n",
    "\n"
   ]
  },
  {
   "cell_type": "code",
   "execution_count": 10,
   "id": "beneficial-rwanda",
   "metadata": {},
   "outputs": [
    {
     "data": {
      "text/html": [
       "4"
      ],
      "text/latex": [
       "4"
      ],
      "text/markdown": [
       "4"
      ],
      "text/plain": [
       "[1] 4"
      ]
     },
     "metadata": {},
     "output_type": "display_data"
    }
   ],
   "source": [
    "as.integer(4.1)"
   ]
  },
  {
   "cell_type": "code",
   "execution_count": 11,
   "id": "political-opposition",
   "metadata": {},
   "outputs": [
    {
     "data": {
      "text/html": [
       "4.1"
      ],
      "text/latex": [
       "4.1"
      ],
      "text/markdown": [
       "4.1"
      ],
      "text/plain": [
       "[1] 4.1"
      ]
     },
     "metadata": {},
     "output_type": "display_data"
    }
   ],
   "source": [
    "as.numeric(4.1)"
   ]
  },
  {
   "cell_type": "code",
   "execution_count": 12,
   "id": "noted-slope",
   "metadata": {},
   "outputs": [
    {
     "data": {
      "text/html": [
       "'4.1'"
      ],
      "text/latex": [
       "'4.1'"
      ],
      "text/markdown": [
       "'4.1'"
      ],
      "text/plain": [
       "[1] \"4.1\""
      ]
     },
     "metadata": {},
     "output_type": "display_data"
    }
   ],
   "source": [
    "as.character(4.1)"
   ]
  },
  {
   "cell_type": "code",
   "execution_count": 17,
   "id": "macro-colors",
   "metadata": {},
   "outputs": [
    {
     "data": {
      "text/html": [
       "TRUE"
      ],
      "text/latex": [
       "TRUE"
      ],
      "text/markdown": [
       "TRUE"
      ],
      "text/plain": [
       "[1] TRUE"
      ]
     },
     "metadata": {},
     "output_type": "display_data"
    }
   ],
   "source": [
    "as.logical(4.1)"
   ]
  },
  {
   "cell_type": "markdown",
   "id": "going-tumor",
   "metadata": {},
   "source": [
    "## Data Structures\n",
    "* *vectors* - 1D, one data type\n",
    "* *matrix* - 2D, one data type\n",
    "* *array* - more than 2D, one data type\n",
    "* *dataframe* - 2D, many data types\n",
    "* *list* - any size, many data types"
   ]
  },
  {
   "cell_type": "markdown",
   "id": "golden-regard",
   "metadata": {},
   "source": [
    "### Vector"
   ]
  },
  {
   "cell_type": "code",
   "execution_count": 57,
   "id": "retired-summary",
   "metadata": {},
   "outputs": [
    {
     "data": {
      "text/html": [
       "<style>\n",
       ".list-inline {list-style: none; margin:0; padding: 0}\n",
       ".list-inline>li {display: inline-block}\n",
       ".list-inline>li:not(:last-child)::after {content: \"\\00b7\"; padding: 0 .5ex}\n",
       "</style>\n",
       "<ol class=list-inline><li>1</li><li>245</li><li>35</li></ol>\n"
      ],
      "text/latex": [
       "\\begin{enumerate*}\n",
       "\\item 1\n",
       "\\item 245\n",
       "\\item 35\n",
       "\\end{enumerate*}\n"
      ],
      "text/markdown": [
       "1. 1\n",
       "2. 245\n",
       "3. 35\n",
       "\n",
       "\n"
      ],
      "text/plain": [
       "[1]   1 245  35"
      ]
     },
     "metadata": {},
     "output_type": "display_data"
    }
   ],
   "source": [
    "v <- c(1, 245, 35)\n",
    "\n",
    "v"
   ]
  },
  {
   "cell_type": "markdown",
   "id": "periodic-grace",
   "metadata": {},
   "source": [
    "### Matrix"
   ]
  },
  {
   "cell_type": "code",
   "execution_count": 58,
   "id": "northern-chicago",
   "metadata": {},
   "outputs": [
    {
     "data": {
      "text/html": [
       "<table>\n",
       "<caption>A matrix: 5 × 5 of type int</caption>\n",
       "<tbody>\n",
       "\t<tr><td>1</td><td> 6</td><td>11</td><td>16</td><td>21</td></tr>\n",
       "\t<tr><td>2</td><td> 7</td><td>12</td><td>17</td><td>22</td></tr>\n",
       "\t<tr><td>3</td><td> 8</td><td>13</td><td>18</td><td>23</td></tr>\n",
       "\t<tr><td>4</td><td> 9</td><td>14</td><td>19</td><td>24</td></tr>\n",
       "\t<tr><td>5</td><td>10</td><td>15</td><td>20</td><td>25</td></tr>\n",
       "</tbody>\n",
       "</table>\n"
      ],
      "text/latex": [
       "A matrix: 5 × 5 of type int\n",
       "\\begin{tabular}{lllll}\n",
       "\t 1 &  6 & 11 & 16 & 21\\\\\n",
       "\t 2 &  7 & 12 & 17 & 22\\\\\n",
       "\t 3 &  8 & 13 & 18 & 23\\\\\n",
       "\t 4 &  9 & 14 & 19 & 24\\\\\n",
       "\t 5 & 10 & 15 & 20 & 25\\\\\n",
       "\\end{tabular}\n"
      ],
      "text/markdown": [
       "\n",
       "A matrix: 5 × 5 of type int\n",
       "\n",
       "| 1 |  6 | 11 | 16 | 21 |\n",
       "| 2 |  7 | 12 | 17 | 22 |\n",
       "| 3 |  8 | 13 | 18 | 23 |\n",
       "| 4 |  9 | 14 | 19 | 24 |\n",
       "| 5 | 10 | 15 | 20 | 25 |\n",
       "\n"
      ],
      "text/plain": [
       "     [,1] [,2] [,3] [,4] [,5]\n",
       "[1,] 1     6   11   16   21  \n",
       "[2,] 2     7   12   17   22  \n",
       "[3,] 3     8   13   18   23  \n",
       "[4,] 4     9   14   19   24  \n",
       "[5,] 5    10   15   20   25  "
      ]
     },
     "metadata": {},
     "output_type": "display_data"
    }
   ],
   "source": [
    "# matrix\n",
    "m <- matrix(1:25, 5, 5)\n",
    "m"
   ]
  },
  {
   "cell_type": "markdown",
   "id": "orange-birthday",
   "metadata": {},
   "source": [
    "### Array"
   ]
  },
  {
   "cell_type": "code",
   "execution_count": 34,
   "id": "hidden-bearing",
   "metadata": {},
   "outputs": [
    {
     "name": "stdout",
     "output_type": "stream",
     "text": [
      "     [,1] [,2] [,3] [,4] [,5]\n",
      "[1,]    1    6   11   16   21\n",
      "[2,]    2    7   12   17   22\n",
      "[3,]    3    8   13   18   23\n",
      "[4,]    4    9   14   19   24\n",
      "[5,]    5   10   15   20   25\n",
      "     [,1] [,2] [,3] [,4] [,5]\n",
      "[1,]   26   31   36   41   46\n",
      "[2,]   27   32   37   42   47\n",
      "[3,]   28   33   38   43   48\n",
      "[4,]   29   34   39   44   49\n",
      "[5,]   30   35   40   45   50\n"
     ]
    }
   ],
   "source": [
    "a <- array(1:50, c(5, 5, 2))\n",
    "print(a[,,1])\n",
    "print(a[,,2])"
   ]
  },
  {
   "cell_type": "markdown",
   "id": "hybrid-tribute",
   "metadata": {},
   "source": [
    "### Dataframe"
   ]
  },
  {
   "cell_type": "code",
   "execution_count": 47,
   "id": "exterior-walter",
   "metadata": {},
   "outputs": [
    {
     "data": {
      "text/html": [
       "<table>\n",
       "<caption>A data.frame: 5 × 3</caption>\n",
       "<thead>\n",
       "\t<tr><th scope=col>Question</th><th scope=col>id</th><th scope=col>Bool</th></tr>\n",
       "\t<tr><th scope=col>&lt;chr&gt;</th><th scope=col>&lt;int&gt;</th><th scope=col>&lt;lgl&gt;</th></tr>\n",
       "</thead>\n",
       "<tbody>\n",
       "\t<tr><td>Yes</td><td>1</td><td>TRUE</td></tr>\n",
       "\t<tr><td>Yes</td><td>2</td><td>TRUE</td></tr>\n",
       "\t<tr><td>Yes</td><td>3</td><td>TRUE</td></tr>\n",
       "\t<tr><td>Yes</td><td>4</td><td>TRUE</td></tr>\n",
       "\t<tr><td>Yes</td><td>5</td><td>TRUE</td></tr>\n",
       "</tbody>\n",
       "</table>\n"
      ],
      "text/latex": [
       "A data.frame: 5 × 3\n",
       "\\begin{tabular}{lll}\n",
       " Question & id & Bool\\\\\n",
       " <chr> & <int> & <lgl>\\\\\n",
       "\\hline\n",
       "\t Yes & 1 & TRUE\\\\\n",
       "\t Yes & 2 & TRUE\\\\\n",
       "\t Yes & 3 & TRUE\\\\\n",
       "\t Yes & 4 & TRUE\\\\\n",
       "\t Yes & 5 & TRUE\\\\\n",
       "\\end{tabular}\n"
      ],
      "text/markdown": [
       "\n",
       "A data.frame: 5 × 3\n",
       "\n",
       "| Question &lt;chr&gt; | id &lt;int&gt; | Bool &lt;lgl&gt; |\n",
       "|---|---|---|\n",
       "| Yes | 1 | TRUE |\n",
       "| Yes | 2 | TRUE |\n",
       "| Yes | 3 | TRUE |\n",
       "| Yes | 4 | TRUE |\n",
       "| Yes | 5 | TRUE |\n",
       "\n"
      ],
      "text/plain": [
       "  Question id Bool\n",
       "1 Yes      1  TRUE\n",
       "2 Yes      2  TRUE\n",
       "3 Yes      3  TRUE\n",
       "4 Yes      4  TRUE\n",
       "5 Yes      5  TRUE"
      ]
     },
     "metadata": {},
     "output_type": "display_data"
    }
   ],
   "source": [
    "# dataframe\n",
    "col1 <- rep(\"Yes\", 5)\n",
    "col2 <- 1:5\n",
    "col3 <- TRUE \n",
    "\n",
    "df <- data.frame(col1, col2, col3)\n",
    "names(df) <- c(\"Question\", \"id\", \"Bool\")\n",
    "\n",
    "\n",
    "df"
   ]
  },
  {
   "cell_type": "markdown",
   "id": "direct-stations",
   "metadata": {},
   "source": [
    "Note the *broadcasting* with the use of `TRUE`"
   ]
  },
  {
   "cell_type": "code",
   "execution_count": 48,
   "id": "black-graphic",
   "metadata": {},
   "outputs": [
    {
     "data": {
      "text/html": [
       "<style>\n",
       ".list-inline {list-style: none; margin:0; padding: 0}\n",
       ".list-inline>li {display: inline-block}\n",
       ".list-inline>li:not(:last-child)::after {content: \"\\00b7\"; padding: 0 .5ex}\n",
       "</style>\n",
       "<ol class=list-inline><li>1</li><li>2</li><li>3</li><li>4</li><li>5</li></ol>\n"
      ],
      "text/latex": [
       "\\begin{enumerate*}\n",
       "\\item 1\n",
       "\\item 2\n",
       "\\item 3\n",
       "\\item 4\n",
       "\\item 5\n",
       "\\end{enumerate*}\n"
      ],
      "text/markdown": [
       "1. 1\n",
       "2. 2\n",
       "3. 3\n",
       "4. 4\n",
       "5. 5\n",
       "\n",
       "\n"
      ],
      "text/plain": [
       "[1] 1 2 3 4 5"
      ]
     },
     "metadata": {},
     "output_type": "display_data"
    }
   ],
   "source": [
    "df$id"
   ]
  },
  {
   "cell_type": "code",
   "execution_count": 53,
   "id": "framed-supplement",
   "metadata": {},
   "outputs": [
    {
     "data": {
      "text/html": [
       "<style>\n",
       ".list-inline {list-style: none; margin:0; padding: 0}\n",
       ".list-inline>li {display: inline-block}\n",
       ".list-inline>li:not(:last-child)::after {content: \"\\00b7\"; padding: 0 .5ex}\n",
       "</style>\n",
       "<ol class=list-inline><li>'Yes'</li><li>'Yes'</li><li>'Yes'</li><li>'Yes'</li><li>'Yes'</li></ol>\n"
      ],
      "text/latex": [
       "\\begin{enumerate*}\n",
       "\\item 'Yes'\n",
       "\\item 'Yes'\n",
       "\\item 'Yes'\n",
       "\\item 'Yes'\n",
       "\\item 'Yes'\n",
       "\\end{enumerate*}\n"
      ],
      "text/markdown": [
       "1. 'Yes'\n",
       "2. 'Yes'\n",
       "3. 'Yes'\n",
       "4. 'Yes'\n",
       "5. 'Yes'\n",
       "\n",
       "\n"
      ],
      "text/plain": [
       "[1] \"Yes\" \"Yes\" \"Yes\" \"Yes\" \"Yes\""
      ]
     },
     "metadata": {},
     "output_type": "display_data"
    }
   ],
   "source": [
    "df[,1]"
   ]
  },
  {
   "cell_type": "code",
   "execution_count": 56,
   "id": "plain-leeds",
   "metadata": {},
   "outputs": [
    {
     "data": {
      "text/html": [
       "<table>\n",
       "<caption>A data.frame: 5 × 3</caption>\n",
       "<thead>\n",
       "\t<tr><th scope=col>Question</th><th scope=col>id</th><th scope=col>Bool</th></tr>\n",
       "\t<tr><th scope=col>&lt;chr&gt;</th><th scope=col>&lt;int&gt;</th><th scope=col>&lt;lgl&gt;</th></tr>\n",
       "</thead>\n",
       "<tbody>\n",
       "\t<tr><td>Yes</td><td>1</td><td>FALSE</td></tr>\n",
       "\t<tr><td>Yes</td><td>2</td><td> TRUE</td></tr>\n",
       "\t<tr><td>Yes</td><td>3</td><td> TRUE</td></tr>\n",
       "\t<tr><td>Yes</td><td>4</td><td> TRUE</td></tr>\n",
       "\t<tr><td>Yes</td><td>5</td><td> TRUE</td></tr>\n",
       "</tbody>\n",
       "</table>\n"
      ],
      "text/latex": [
       "A data.frame: 5 × 3\n",
       "\\begin{tabular}{lll}\n",
       " Question & id & Bool\\\\\n",
       " <chr> & <int> & <lgl>\\\\\n",
       "\\hline\n",
       "\t Yes & 1 & FALSE\\\\\n",
       "\t Yes & 2 &  TRUE\\\\\n",
       "\t Yes & 3 &  TRUE\\\\\n",
       "\t Yes & 4 &  TRUE\\\\\n",
       "\t Yes & 5 &  TRUE\\\\\n",
       "\\end{tabular}\n"
      ],
      "text/markdown": [
       "\n",
       "A data.frame: 5 × 3\n",
       "\n",
       "| Question &lt;chr&gt; | id &lt;int&gt; | Bool &lt;lgl&gt; |\n",
       "|---|---|---|\n",
       "| Yes | 1 | FALSE |\n",
       "| Yes | 2 |  TRUE |\n",
       "| Yes | 3 |  TRUE |\n",
       "| Yes | 4 |  TRUE |\n",
       "| Yes | 5 |  TRUE |\n",
       "\n"
      ],
      "text/plain": [
       "  Question id Bool \n",
       "1 Yes      1  FALSE\n",
       "2 Yes      2   TRUE\n",
       "3 Yes      3   TRUE\n",
       "4 Yes      4   TRUE\n",
       "5 Yes      5   TRUE"
      ]
     },
     "metadata": {},
     "output_type": "display_data"
    }
   ],
   "source": [
    "df[1,3] <- FALSE\n",
    "df"
   ]
  },
  {
   "cell_type": "markdown",
   "id": "persistent-practice",
   "metadata": {},
   "source": [
    "### Lists"
   ]
  },
  {
   "cell_type": "code",
   "execution_count": 64,
   "id": "banner-picnic",
   "metadata": {},
   "outputs": [
    {
     "data": {
      "text/html": [
       "<dl>\n",
       "\t<dt>$species</dt>\n",
       "\t\t<dd><style>\n",
       ".list-inline {list-style: none; margin:0; padding: 0}\n",
       ".list-inline>li {display: inline-block}\n",
       ".list-inline>li:not(:last-child)::after {content: \"\\00b7\"; padding: 0 .5ex}\n",
       "</style>\n",
       "<ol class=list-inline><li>'grizzly'</li><li>'panda'</li><li>'black'</li></ol>\n",
       "</dd>\n",
       "\t<dt>$weight</dt>\n",
       "\t\t<dd><style>\n",
       ".list-inline {list-style: none; margin:0; padding: 0}\n",
       ".list-inline>li {display: inline-block}\n",
       ".list-inline>li:not(:last-child)::after {content: \"\\00b7\"; padding: 0 .5ex}\n",
       "</style>\n",
       "<ol class=list-inline><li>900</li><li>600</li><li>300</li></ol>\n",
       "</dd>\n",
       "\t<dt>$data</dt>\n",
       "\t\t<dd><table>\n",
       "<caption>A data.frame: 3 × 2</caption>\n",
       "<thead>\n",
       "\t<tr><th scope=col>c.1..2..3.</th><th scope=col>c.FALSE..TRUE..TRUE.</th></tr>\n",
       "\t<tr><th scope=col>&lt;dbl&gt;</th><th scope=col>&lt;lgl&gt;</th></tr>\n",
       "</thead>\n",
       "<tbody>\n",
       "\t<tr><td>1</td><td>FALSE</td></tr>\n",
       "\t<tr><td>2</td><td> TRUE</td></tr>\n",
       "\t<tr><td>3</td><td> TRUE</td></tr>\n",
       "</tbody>\n",
       "</table>\n",
       "</dd>\n",
       "</dl>\n"
      ],
      "text/latex": [
       "\\begin{description}\n",
       "\\item[\\$species] \\begin{enumerate*}\n",
       "\\item 'grizzly'\n",
       "\\item 'panda'\n",
       "\\item 'black'\n",
       "\\end{enumerate*}\n",
       "\n",
       "\\item[\\$weight] \\begin{enumerate*}\n",
       "\\item 900\n",
       "\\item 600\n",
       "\\item 300\n",
       "\\end{enumerate*}\n",
       "\n",
       "\\item[\\$data] A data.frame: 3 × 2\n",
       "\\begin{tabular}{ll}\n",
       " c.1..2..3. & c.FALSE..TRUE..TRUE.\\\\\n",
       " <dbl> & <lgl>\\\\\n",
       "\\hline\n",
       "\t 1 & FALSE\\\\\n",
       "\t 2 &  TRUE\\\\\n",
       "\t 3 &  TRUE\\\\\n",
       "\\end{tabular}\n",
       "\n",
       "\\end{description}\n"
      ],
      "text/markdown": [
       "$species\n",
       ":   1. 'grizzly'\n",
       "2. 'panda'\n",
       "3. 'black'\n",
       "\n",
       "\n",
       "\n",
       "$weight\n",
       ":   1. 900\n",
       "2. 600\n",
       "3. 300\n",
       "\n",
       "\n",
       "\n",
       "$data\n",
       ":   \n",
       "A data.frame: 3 × 2\n",
       "\n",
       "| c.1..2..3. &lt;dbl&gt; | c.FALSE..TRUE..TRUE. &lt;lgl&gt; |\n",
       "|---|---|\n",
       "| 1 | FALSE |\n",
       "| 2 |  TRUE |\n",
       "| 3 |  TRUE |\n",
       "\n",
       "\n",
       "\n",
       "\n"
      ],
      "text/plain": [
       "$species\n",
       "[1] \"grizzly\" \"panda\"   \"black\"  \n",
       "\n",
       "$weight\n",
       "[1] 900 600 300\n",
       "\n",
       "$data\n",
       "  c.1..2..3. c.FALSE..TRUE..TRUE.\n",
       "1          1                FALSE\n",
       "2          2                 TRUE\n",
       "3          3                 TRUE\n"
      ]
     },
     "metadata": {},
     "output_type": "display_data"
    }
   ],
   "source": [
    "species <- c(\"grizzly\", \"panda\", \"black\")\n",
    "weight <- c(900, 600, 300)\n",
    "df <- data.frame(c(1,2,3), c(FALSE, TRUE, TRUE))\n",
    "\n",
    "\n",
    "l <- list(species = species, weight = weight, data=df)\n",
    "\n",
    "l"
   ]
  },
  {
   "cell_type": "code",
   "execution_count": 65,
   "id": "thousand-ivory",
   "metadata": {},
   "outputs": [
    {
     "data": {
      "text/html": [
       "<style>\n",
       ".list-inline {list-style: none; margin:0; padding: 0}\n",
       ".list-inline>li {display: inline-block}\n",
       ".list-inline>li:not(:last-child)::after {content: \"\\00b7\"; padding: 0 .5ex}\n",
       "</style>\n",
       "<ol class=list-inline><li>'grizzly'</li><li>'panda'</li><li>'black'</li></ol>\n"
      ],
      "text/latex": [
       "\\begin{enumerate*}\n",
       "\\item 'grizzly'\n",
       "\\item 'panda'\n",
       "\\item 'black'\n",
       "\\end{enumerate*}\n"
      ],
      "text/markdown": [
       "1. 'grizzly'\n",
       "2. 'panda'\n",
       "3. 'black'\n",
       "\n",
       "\n"
      ],
      "text/plain": [
       "[1] \"grizzly\" \"panda\"   \"black\"  "
      ]
     },
     "metadata": {},
     "output_type": "display_data"
    }
   ],
   "source": [
    "l[[1]]"
   ]
  },
  {
   "cell_type": "markdown",
   "id": "confidential-advisory",
   "metadata": {},
   "source": [
    "## Interacting with the system\n",
    "\n",
    "* `getwd()`\n",
    "* `setwd()`\n",
    "* `read.table()`\n",
    "* `write.table()`\n",
    "* `read.csv()`\n",
    "* `write.csv()`\n",
    "* `read.delim()`\n",
    "* `write.delim()`"
   ]
  },
  {
   "cell_type": "markdown",
   "id": "defined-adult",
   "metadata": {},
   "source": [
    "## Control flow\n",
    "\n",
    "`break` and `next` can be used"
   ]
  },
  {
   "cell_type": "code",
   "execution_count": 78,
   "id": "periodic-racing",
   "metadata": {},
   "outputs": [
    {
     "name": "stdout",
     "output_type": "stream",
     "text": [
      "[1] \"1 is less than 10\"\n"
     ]
    }
   ],
   "source": [
    "if(1 < 10){\n",
    "    print(\"1 is less than 10\")\n",
    "}else{\n",
    "    print(\"no.\")\n",
    "}"
   ]
  },
  {
   "cell_type": "code",
   "execution_count": 85,
   "id": "outside-collect",
   "metadata": {},
   "outputs": [
    {
     "name": "stdout",
     "output_type": "stream",
     "text": [
      "[1] 0\n",
      "[1] 1\n",
      "[1] 2\n",
      "[1] 3\n",
      "[1] 4\n"
     ]
    }
   ],
   "source": [
    "i = 0\n",
    "\n",
    "while(i < 5){\n",
    "    print(i)\n",
    "    i = i + 1\n",
    "}"
   ]
  },
  {
   "cell_type": "code",
   "execution_count": 86,
   "id": "protected-double",
   "metadata": {},
   "outputs": [
    {
     "name": "stdout",
     "output_type": "stream",
     "text": [
      "[1] 1\n",
      "[1] 2\n",
      "[1] 3\n",
      "[1] 4\n",
      "[1] 5\n"
     ]
    }
   ],
   "source": [
    "for(n in 1:5){\n",
    "    print(n)\n",
    "}"
   ]
  },
  {
   "cell_type": "markdown",
   "id": "planned-nigeria",
   "metadata": {},
   "source": [
    "### Functions\n"
   ]
  },
  {
   "cell_type": "code",
   "execution_count": 88,
   "id": "scenic-eclipse",
   "metadata": {},
   "outputs": [
    {
     "data": {
      "text/html": [
       "3"
      ],
      "text/latex": [
       "3"
      ],
      "text/markdown": [
       "3"
      ],
      "text/plain": [
       "[1] 3"
      ]
     },
     "metadata": {},
     "output_type": "display_data"
    }
   ],
   "source": [
    "additionFunc <- function(x, y){\n",
    "    return (x + y)\n",
    "}\n",
    "\n",
    "\n",
    "\n",
    "additionFunc(1, 2)"
   ]
  },
  {
   "cell_type": "markdown",
   "id": "valid-customer",
   "metadata": {},
   "source": [
    "## Vectorisation\n",
    "\n",
    "Applying an operation/function across a vector, matrix, etc. rather than iterating through each element.\n",
    "\n",
    "Create a function that *sums every element in the matrix* (without using `sum`)"
   ]
  },
  {
   "cell_type": "code",
   "execution_count": 149,
   "id": "multiple-tracy",
   "metadata": {},
   "outputs": [],
   "source": [
    "m <- matrix(runif(1000000),1000,1000)"
   ]
  },
  {
   "cell_type": "code",
   "execution_count": 150,
   "id": "whole-weight",
   "metadata": {},
   "outputs": [],
   "source": [
    "# bad method\n",
    "\n",
    "badMatrixSum <- function(matrixIn){\n",
    "    counterTotal <- 0\n",
    "\n",
    "    row_m <- dim(matrixIn)[1]\n",
    "    col_m <- dim(matrixIn)[2]\n",
    "\n",
    "    for(x in 1:row_m){\n",
    "        for(y in 1:col_m){\n",
    "            counterTotal <- counterTotal + matrixIn[x, y]\n",
    "        }\n",
    "    }\n",
    "\n",
    "    return(counterTotal)\n",
    "    \n",
    "}\n",
    "\n",
    "\n",
    "\n",
    "# better method\n",
    "betterMatrixSum <- function(matrixIn){\n",
    "    rowTotal <- 0\n",
    "    counterTotal <- 0\n",
    "    \n",
    "\n",
    "    row_m <- dim(matrixIn)[1]\n",
    "    \n",
    "    for(x in 1:row_m){\n",
    "\n",
    "            rowTotal <- rowTotal + matrixIn[x, ]\n",
    "    }\n",
    "    \n",
    "\n",
    "    for(n in 1:length(rowTotal)){\n",
    "        counterTotal <- rowTotal[n] + counterTotal\n",
    "    }\n",
    "    \n",
    "    return(counterTotal)\n",
    "    \n",
    "}\n"
   ]
  },
  {
   "cell_type": "code",
   "execution_count": 165,
   "id": "white-ladder",
   "metadata": {},
   "outputs": [
    {
     "name": "stdout",
     "output_type": "stream",
     "text": [
      "[1] \"bad method\"\n"
     ]
    },
    {
     "data": {
      "text/plain": [
       "   user  system elapsed \n",
       "  0.053   0.000   0.053 "
      ]
     },
     "metadata": {},
     "output_type": "display_data"
    },
    {
     "name": "stdout",
     "output_type": "stream",
     "text": [
      "[1] \"better method\"\n"
     ]
    },
    {
     "data": {
      "text/plain": [
       "   user  system elapsed \n",
       "  0.012   0.000   0.013 "
      ]
     },
     "metadata": {},
     "output_type": "display_data"
    },
    {
     "name": "stdout",
     "output_type": "stream",
     "text": [
      "[1] \"sum\"\n"
     ]
    },
    {
     "data": {
      "text/plain": [
       "   user  system elapsed \n",
       "  0.001   0.000   0.001 "
      ]
     },
     "metadata": {},
     "output_type": "display_data"
    }
   ],
   "source": [
    "print(\"bad method\")\n",
    "system.time(badMatrixSum(m))\n",
    "print(\"better method\")\n",
    "system.time(betterMatrixSum(m))\n",
    "print(\"sum\")\n",
    "system.time(sum(m))"
   ]
  },
  {
   "cell_type": "markdown",
   "id": "front-little",
   "metadata": {},
   "source": [
    "### Apply family\n",
    "\n",
    "* `apply` - godfather of the applys \n",
    "* `lapply` - takes and returns lists\n",
    "* `sapply` - \"simplify\", wrapper for lapply\n",
    "\n",
    "there are many other types, `tapply`, `mapply`, etc. "
   ]
  },
  {
   "cell_type": "code",
   "execution_count": 172,
   "id": "worse-headline",
   "metadata": {},
   "outputs": [
    {
     "data": {
      "text/html": [
       "<style>\n",
       ".list-inline {list-style: none; margin:0; padding: 0}\n",
       ".list-inline>li {display: inline-block}\n",
       ".list-inline>li:not(:last-child)::after {content: \"\\00b7\"; padding: 0 .5ex}\n",
       "</style>\n",
       "<ol class=list-inline><li>-2.30514917898569</li><li>-1.84391252778778</li><li>-1.2295443200883</li><li>2.12420470184376</li><li>-2.64737549512953</li><li>-3.69464633280837</li><li>-3.83038012164557</li><li>-2.35141032845897</li><li>7.04312108355398</li><li>8.03346662683698</li></ol>\n"
      ],
      "text/latex": [
       "\\begin{enumerate*}\n",
       "\\item -2.30514917898569\n",
       "\\item -1.84391252778778\n",
       "\\item -1.2295443200883\n",
       "\\item 2.12420470184376\n",
       "\\item -2.64737549512953\n",
       "\\item -3.69464633280837\n",
       "\\item -3.83038012164557\n",
       "\\item -2.35141032845897\n",
       "\\item 7.04312108355398\n",
       "\\item 8.03346662683698\n",
       "\\end{enumerate*}\n"
      ],
      "text/markdown": [
       "1. -2.30514917898569\n",
       "2. -1.84391252778778\n",
       "3. -1.2295443200883\n",
       "4. 2.12420470184376\n",
       "5. -2.64737549512953\n",
       "6. -3.69464633280837\n",
       "7. -3.83038012164557\n",
       "8. -2.35141032845897\n",
       "9. 7.04312108355398\n",
       "10. 8.03346662683698\n",
       "\n",
       "\n"
      ],
      "text/plain": [
       " [1] -2.305149 -1.843913 -1.229544  2.124205 -2.647375 -3.694646 -3.830380\n",
       " [8] -2.351410  7.043121  8.033467"
      ]
     },
     "metadata": {},
     "output_type": "display_data"
    }
   ],
   "source": [
    "m <- matrix(rnorm(100), 10, 10)\n",
    "\n",
    "apply(m, 1, sum) # sum of each row"
   ]
  },
  {
   "cell_type": "code",
   "execution_count": 175,
   "id": "engaged-people",
   "metadata": {},
   "outputs": [
    {
     "data": {
      "text/html": [
       "<ol>\n",
       "\t<li>1</li>\n",
       "\t<li>4</li>\n",
       "\t<li>9</li>\n",
       "</ol>\n"
      ],
      "text/latex": [
       "\\begin{enumerate}\n",
       "\\item 1\n",
       "\\item 4\n",
       "\\item 9\n",
       "\\end{enumerate}\n"
      ],
      "text/markdown": [
       "1. 1\n",
       "2. 4\n",
       "3. 9\n",
       "\n",
       "\n"
      ],
      "text/plain": [
       "[[1]]\n",
       "[1] 1\n",
       "\n",
       "[[2]]\n",
       "[1] 4\n",
       "\n",
       "[[3]]\n",
       "[1] 9\n"
      ]
     },
     "metadata": {},
     "output_type": "display_data"
    }
   ],
   "source": [
    "lapply(1:3, function(x) x^2)"
   ]
  },
  {
   "cell_type": "code",
   "execution_count": 176,
   "id": "pediatric-presence",
   "metadata": {},
   "outputs": [
    {
     "data": {
      "text/html": [
       "<style>\n",
       ".list-inline {list-style: none; margin:0; padding: 0}\n",
       ".list-inline>li {display: inline-block}\n",
       ".list-inline>li:not(:last-child)::after {content: \"\\00b7\"; padding: 0 .5ex}\n",
       "</style>\n",
       "<ol class=list-inline><li>1</li><li>4</li><li>9</li></ol>\n"
      ],
      "text/latex": [
       "\\begin{enumerate*}\n",
       "\\item 1\n",
       "\\item 4\n",
       "\\item 9\n",
       "\\end{enumerate*}\n"
      ],
      "text/markdown": [
       "1. 1\n",
       "2. 4\n",
       "3. 9\n",
       "\n",
       "\n"
      ],
      "text/plain": [
       "[1] 1 4 9"
      ]
     },
     "metadata": {},
     "output_type": "display_data"
    }
   ],
   "source": [
    "sapply(1:3, function(x) x^2)"
   ]
  }
 ],
 "metadata": {
  "kernelspec": {
   "display_name": "R",
   "language": "R",
   "name": "ir"
  },
  "language_info": {
   "codemirror_mode": "r",
   "file_extension": ".r",
   "mimetype": "text/x-r-source",
   "name": "R",
   "pygments_lexer": "r",
   "version": "4.0.3"
  }
 },
 "nbformat": 4,
 "nbformat_minor": 5
}
