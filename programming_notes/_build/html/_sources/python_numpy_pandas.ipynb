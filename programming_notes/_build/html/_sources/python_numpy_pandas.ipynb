{
 "cells": [
  {
   "cell_type": "markdown",
   "id": "accurate-divorce",
   "metadata": {},
   "source": [
    "# Python: Numpy and Pandas"
   ]
  },
  {
   "cell_type": "markdown",
   "id": "critical-secret",
   "metadata": {},
   "source": [
    "## Numpy"
   ]
  },
  {
   "cell_type": "code",
   "execution_count": 1,
   "id": "quarterly-runner",
   "metadata": {},
   "outputs": [
    {
     "name": "stdout",
     "output_type": "stream",
     "text": [
      "[1 2 3 4 5]\n"
     ]
    }
   ],
   "source": [
    "import numpy as np\n",
    "\n",
    "arr  = np.array([1, 2, 3, 4, 5])\n",
    "\n",
    "print(arr)"
   ]
  },
  {
   "cell_type": "markdown",
   "id": "positive-showcase",
   "metadata": {},
   "source": [
    "check the number of dimensions\n"
   ]
  },
  {
   "cell_type": "code",
   "execution_count": 2,
   "id": "urban-resistance",
   "metadata": {},
   "outputs": [
    {
     "name": "stdout",
     "output_type": "stream",
     "text": [
      "0\n",
      "1\n",
      "2\n",
      "3\n"
     ]
    }
   ],
   "source": [
    "a = np.array(42)\n",
    "b = np.array([1, 2, 3, 4, 5])\n",
    "c = np.array([[1, 2, 3], [4, 5, 6]])\n",
    "d = np.array([[[1, 2, 3], [4, 5, 6]], [[1, 2, 3], [4, 5, 6]]])\n",
    "\n",
    "\n",
    "print(a.ndim)\n",
    "print(b.ndim)\n",
    "print(c.ndim)\n",
    "print(d.ndim)"
   ]
  },
  {
   "cell_type": "code",
   "execution_count": 3,
   "id": "organizational-findings",
   "metadata": {},
   "outputs": [
    {
     "name": "stdout",
     "output_type": "stream",
     "text": [
      "(2, 3)\n"
     ]
    }
   ],
   "source": [
    "c = np.array([[1, 2, 3], [4, 5, 6]])\n",
    "print(c.shape)"
   ]
  },
  {
   "cell_type": "markdown",
   "id": "another-painting",
   "metadata": {},
   "source": [
    "### Adding arrays (vectorisation)\n",
    "\n",
    "N.B. this doesn't concatenate the arrays"
   ]
  },
  {
   "cell_type": "code",
   "execution_count": 4,
   "id": "processed-cleaning",
   "metadata": {},
   "outputs": [
    {
     "data": {
      "text/plain": [
       "array([2, 4, 6, 8])"
      ]
     },
     "execution_count": 4,
     "metadata": {},
     "output_type": "execute_result"
    }
   ],
   "source": [
    "arr1 = np.array([1, 2, 3, 4])\n",
    "arr2 = np.array([1, 2, 3, 4])\n",
    "\n",
    "arr1 + arr2"
   ]
  },
  {
   "cell_type": "markdown",
   "id": "extended-sport",
   "metadata": {},
   "source": [
    "### Slicing\n",
    "\n"
   ]
  },
  {
   "cell_type": "code",
   "execution_count": 5,
   "id": "vital-uganda",
   "metadata": {},
   "outputs": [
    {
     "name": "stdout",
     "output_type": "stream",
     "text": [
      "[1 2 3]\n",
      "[ 4  5  6  7  8  9 10]\n",
      "[1 3 5 7]\n"
     ]
    }
   ],
   "source": [
    "arr = np.array([1, 2, 3, 4, 5, 6, 7, 8, 9, 10])\n",
    "\n",
    "print(arr[0:3])\n",
    "print(arr[3:]) \n",
    "print(arr[0:8:2]) # with a step\n"
   ]
  },
  {
   "cell_type": "markdown",
   "id": "sustainable-leonard",
   "metadata": {},
   "source": [
    "2-D arrays"
   ]
  },
  {
   "cell_type": "code",
   "execution_count": 6,
   "id": "tight-ethiopia",
   "metadata": {},
   "outputs": [
    {
     "name": "stdout",
     "output_type": "stream",
     "text": [
      "[7 8 9]\n"
     ]
    }
   ],
   "source": [
    "arr = np.array([[1, 2, 3, 4, 5], [6, 7, 8, 9, 10]])\n",
    "\n",
    "print(arr[1, 1:4]) # 2nd element 1:4"
   ]
  },
  {
   "cell_type": "markdown",
   "id": "streaming-family",
   "metadata": {},
   "source": [
    "### Numpy Data Types\n",
    "check with `.dtypes`\n"
   ]
  },
  {
   "cell_type": "code",
   "execution_count": 7,
   "id": "functional-seeking",
   "metadata": {},
   "outputs": [
    {
     "name": "stdout",
     "output_type": "stream",
     "text": [
      "<U6\n",
      "int64\n"
     ]
    }
   ],
   "source": [
    "import numpy as np\n",
    "\n",
    "arrString = np.array(['apple', 'banana', 'cherry'])\n",
    "arrInt = np.array([1, 2, 3, 4])\n",
    "\n",
    "print(arrString.dtype) \n",
    "print(arrInt.dtype)"
   ]
  },
  {
   "cell_type": "markdown",
   "id": "existing-perfume",
   "metadata": {},
   "source": [
    "create an array with a defined data type"
   ]
  },
  {
   "cell_type": "code",
   "execution_count": 8,
   "id": "tested-chicken",
   "metadata": {},
   "outputs": [
    {
     "name": "stdout",
     "output_type": "stream",
     "text": [
      "[b'1' b'2' b'3' b'4']\n",
      "[1 2 3 4]\n"
     ]
    }
   ],
   "source": [
    "arrString = np.array([1, 2, 3, 4], dtype='S') \n",
    "arrInt = np.array([1, 2, 3, 4], dtype='i')\n",
    "\n",
    "print(arrString)\n",
    "print(arrInt)"
   ]
  },
  {
   "cell_type": "markdown",
   "id": "bright-equilibrium",
   "metadata": {},
   "source": [
    "and we can convert the array"
   ]
  },
  {
   "cell_type": "code",
   "execution_count": 9,
   "id": "genuine-caribbean",
   "metadata": {},
   "outputs": [
    {
     "name": "stdout",
     "output_type": "stream",
     "text": [
      "int32\n",
      "float64\n"
     ]
    }
   ],
   "source": [
    "arr = np.array([1, 2, 3, 4], dtype=\"i\")\n",
    "print(arr.dtype)\n",
    "\n",
    "newarr = arr.astype(float)\n",
    "print(newarr.dtype)\n"
   ]
  },
  {
   "cell_type": "markdown",
   "id": "junior-discrimination",
   "metadata": {},
   "source": [
    "### Copy and view\n",
    "\n",
    "copy creates its own copy\n",
    "\n",
    "view is linked to the original\n",
    "\n",
    "`base` checks if array owns it's own data (`None` if true)"
   ]
  },
  {
   "cell_type": "code",
   "execution_count": 10,
   "id": "ambient-deadline",
   "metadata": {},
   "outputs": [
    {
     "name": "stdout",
     "output_type": "stream",
     "text": [
      "[9 2 3 4 5]\n",
      "[1 2 3 4 5]\n",
      "[9 2 3 4 5]\n",
      "[9 2 3 4 5]\n",
      "None\n",
      "[9 2 3 4 5]\n"
     ]
    }
   ],
   "source": [
    "arrC = np.array([1, 2, 3, 4, 5])\n",
    "arrV = np.array([1, 2, 3, 4, 5])\n",
    "\n",
    "arrCopy = arrC.copy()\n",
    "arrView = arrV.view()\n",
    "\n",
    "arrC[0] = 9\n",
    "arrV[0] = 9\n",
    "\n",
    "\n",
    "print(arrC)\n",
    "print(arrCopy)\n",
    "print(arrV)\n",
    "print(arrView)\n",
    "\n",
    "print(arrCopy.base)\n",
    "print(arrView.base)"
   ]
  },
  {
   "cell_type": "markdown",
   "id": "environmental-growing",
   "metadata": {},
   "source": [
    "### Reshape\n"
   ]
  },
  {
   "cell_type": "code",
   "execution_count": 11,
   "id": "weird-country",
   "metadata": {},
   "outputs": [
    {
     "name": "stdout",
     "output_type": "stream",
     "text": [
      "[[ 1  2  3]\n",
      " [ 4  5  6]\n",
      " [ 7  8  9]\n",
      " [10 11 12]]\n",
      "\n",
      "\n",
      "[[[ 1  2]\n",
      "  [ 3  4]\n",
      "  [ 5  6]]\n",
      "\n",
      " [[ 7  8]\n",
      "  [ 9 10]\n",
      "  [11 12]]]\n",
      "\n",
      "\n",
      "[[ 1  2  3  4  5  6]\n",
      " [ 7  8  9 10 11 12]]\n"
     ]
    }
   ],
   "source": [
    "arr = np.array([1, 2, 3, 4, 5, 6, 7, 8, 9, 10, 11, 12])\n",
    "\n",
    "print(arr.reshape(4, 3))\n",
    "print(\"\\n\")\n",
    "print(arr.reshape(2, 3, 2))\n",
    "print(\"\\n\")\n",
    "print(arr.reshape(2, -1)) # unknown dimension with -1"
   ]
  },
  {
   "cell_type": "code",
   "execution_count": 12,
   "id": "distant-albuquerque",
   "metadata": {},
   "outputs": [
    {
     "name": "stdout",
     "output_type": "stream",
     "text": [
      "[1 2 3 4 5 6]\n"
     ]
    }
   ],
   "source": [
    "\n",
    "# flatten array\n",
    "newArr = np.array([[1, 2, 3], [4, 5, 6]])\n",
    "print(newArr.reshape(-1))\n"
   ]
  },
  {
   "cell_type": "markdown",
   "id": "broke-acceptance",
   "metadata": {},
   "source": [
    "### Iterating\n",
    "\n",
    "Arrays are iterable, if nested we can use `nditer`\n",
    "\n",
    "`ndenumerate` can be used to note where in the array structure the element is located"
   ]
  },
  {
   "cell_type": "code",
   "execution_count": 13,
   "id": "assumed-stone",
   "metadata": {},
   "outputs": [
    {
     "name": "stdout",
     "output_type": "stream",
     "text": [
      "1\n",
      "2\n",
      "3\n",
      "4\n",
      "5\n",
      "6\n",
      "7\n",
      "8\n",
      "\n",
      "\n",
      "[[1 2]\n",
      " [3 4]]\n",
      "[[5 6]\n",
      " [7 8]]\n"
     ]
    }
   ],
   "source": [
    "arr = np.array([[[1, 2], [3, 4]], [[5, 6], [7, 8]]])\n",
    "\n",
    "for x in np.nditer(arr):\n",
    "    print(x)\n",
    "    \n",
    "print(\"\\n\")    \n",
    "# compared to\n",
    "for x in arr:\n",
    "    print(x)"
   ]
  },
  {
   "cell_type": "code",
   "execution_count": 14,
   "id": "generic-sending",
   "metadata": {},
   "outputs": [
    {
     "name": "stdout",
     "output_type": "stream",
     "text": [
      "(0, 0) 1\n",
      "(0, 1) 2\n",
      "(0, 2) 3\n",
      "(0, 3) 4\n",
      "(1, 0) 5\n",
      "(1, 1) 6\n",
      "(1, 2) 7\n",
      "(1, 3) 8\n"
     ]
    }
   ],
   "source": [
    "arr = np.array([[1, 2, 3, 4], [5, 6, 7, 8]])\n",
    "\n",
    "for idx, x in np.ndenumerate(arr):\n",
    "  print(idx, x) "
   ]
  },
  {
   "cell_type": "markdown",
   "id": "dynamic-situation",
   "metadata": {},
   "source": [
    "### Joining arrays\n",
    "\n",
    "we can also specifcy joining on **rows** (`axis=0`) or **columns** (`axis=1`).\n",
    "\n",
    "\n"
   ]
  },
  {
   "cell_type": "code",
   "execution_count": 15,
   "id": "productive-suicide",
   "metadata": {},
   "outputs": [
    {
     "name": "stdout",
     "output_type": "stream",
     "text": [
      "[1 2 3 1 2 3]\n"
     ]
    }
   ],
   "source": [
    "arr = np.array([1, 2, 3])\n",
    "\n",
    "combo = np.concatenate((arr, arr))\n",
    "\n",
    "print(combo)"
   ]
  },
  {
   "cell_type": "code",
   "execution_count": 16,
   "id": "continental-magnitude",
   "metadata": {},
   "outputs": [
    {
     "name": "stdout",
     "output_type": "stream",
     "text": [
      "[[1 2]\n",
      " [3 4]\n",
      " [5 6]\n",
      " [7 8]]\n",
      "\n",
      "\n",
      "[[1 2 5 6]\n",
      " [3 4 7 8]]\n"
     ]
    }
   ],
   "source": [
    "arr1 = np.array([[1, 2], [3, 4]])\n",
    "arr2 = np.array([[5, 6], [7, 8]])\n",
    "\n",
    "combo0 = np.concatenate((arr1, arr2), axis=0)\n",
    "combo1 = np.concatenate((arr1, arr2), axis=1)\n",
    "\n",
    "print(combo0)\n",
    "print(\"\\n\")\n",
    "print(combo1)"
   ]
  },
  {
   "cell_type": "markdown",
   "id": "caroline-rental",
   "metadata": {},
   "source": [
    "Similarly we can use `stack`, `hstack`, `vstack`, and `dstack`"
   ]
  },
  {
   "cell_type": "code",
   "execution_count": 17,
   "id": "still-summer",
   "metadata": {},
   "outputs": [
    {
     "name": "stdout",
     "output_type": "stream",
     "text": [
      "stack\n",
      "[[1 4]\n",
      " [2 5]\n",
      " [3 6]]\n",
      "\n",
      "hstack\n",
      "[1 2 3 4 5 6]\n",
      "\n",
      "vstack\n",
      "[[1 2 3]\n",
      " [4 5 6]]\n",
      "\n",
      "dstack\n",
      "[[[1 4]\n",
      "  [2 5]\n",
      "  [3 6]]]\n"
     ]
    }
   ],
   "source": [
    "arr1 = np.array([1, 2, 3])\n",
    "arr2 = np.array([4, 5, 6])\n",
    "\n",
    "arrStack = np.stack((arr1, arr2), axis = 1)\n",
    "arrHstack = np.hstack((arr1, arr2))\n",
    "arrVstack = np.vstack((arr1, arr2))\n",
    "arrDstack = np.dstack((arr1, arr2))\n",
    "\n",
    "print(\"stack\")\n",
    "print(arrStack)\n",
    "print(\"\\nhstack\")\n",
    "print(arrHstack)\n",
    "print(\"\\nvstack\")\n",
    "print(arrVstack)\n",
    "print(\"\\ndstack\")\n",
    "print(arrDstack)\n"
   ]
  },
  {
   "cell_type": "markdown",
   "id": "indie-montana",
   "metadata": {},
   "source": [
    "### Splitting arrays\n",
    "\n",
    "`np.array_split` allows for non-exact splits, wereas `np.split` requires an exact match\n",
    "\n",
    "splits can be carried out on multi-dimensional arrays with the axis specified.\n"
   ]
  },
  {
   "cell_type": "code",
   "execution_count": 18,
   "id": "laughing-shirt",
   "metadata": {},
   "outputs": [
    {
     "name": "stdout",
     "output_type": "stream",
     "text": [
      "[array([1, 2]), array([3, 4]), array([5, 6])]\n",
      "[array([1, 2]), array([3, 4]), array([5]), array([6])]\n"
     ]
    }
   ],
   "source": [
    "arr = np.array([1, 2, 3, 4, 5, 6])\n",
    "\n",
    "# split into 3 \n",
    "\n",
    "arrSplit = np.array_split(arr, 3)\n",
    "print(arrSplit)\n",
    "\n",
    "# split into a non-multiple\n",
    "arrSplitAlt = np.array_split(arr, 4)\n",
    "print(arrSplitAlt)"
   ]
  },
  {
   "cell_type": "markdown",
   "id": "aware-table",
   "metadata": {},
   "source": [
    "as above we also have `hsplit`, `vsplit`, and `dsplit`"
   ]
  },
  {
   "cell_type": "code",
   "execution_count": 19,
   "id": "sticky-permission",
   "metadata": {},
   "outputs": [
    {
     "data": {
      "text/plain": [
       "[array([[ 1],\n",
       "        [ 4],\n",
       "        [ 7],\n",
       "        [10],\n",
       "        [13],\n",
       "        [16]]),\n",
       " array([[ 2],\n",
       "        [ 5],\n",
       "        [ 8],\n",
       "        [11],\n",
       "        [14],\n",
       "        [17]]),\n",
       " array([[ 3],\n",
       "        [ 6],\n",
       "        [ 9],\n",
       "        [12],\n",
       "        [15],\n",
       "        [18]])]"
      ]
     },
     "execution_count": 19,
     "metadata": {},
     "output_type": "execute_result"
    }
   ],
   "source": [
    "arr = np.array([[1, 2, 3], [4, 5, 6], [7, 8, 9], [10, 11, 12], [13, 14, 15], [16, 17, 18]])\n",
    "\n",
    "np.hsplit(arr, 3)"
   ]
  },
  {
   "cell_type": "markdown",
   "id": "suffering-plumbing",
   "metadata": {},
   "source": [
    "### Searching Arrays"
   ]
  },
  {
   "cell_type": "code",
   "execution_count": 20,
   "id": "intended-steps",
   "metadata": {},
   "outputs": [
    {
     "name": "stdout",
     "output_type": "stream",
     "text": [
      "(array([4, 5]),)\n"
     ]
    }
   ],
   "source": [
    "arr = np.array([\"red\", \"blue\", \"blue\", \"blue\", \"green\", \"green\"])\n",
    "print(np.where(arr == \"green\"))"
   ]
  },
  {
   "cell_type": "markdown",
   "id": "twenty-haiti",
   "metadata": {},
   "source": [
    "**Binary Search**\n",
    "\n",
    "`searchsorted` searches where the value should be inserted\n",
    "\n",
    "arrays can also be used in this function"
   ]
  },
  {
   "cell_type": "code",
   "execution_count": 21,
   "id": "about-suite",
   "metadata": {},
   "outputs": [
    {
     "name": "stdout",
     "output_type": "stream",
     "text": [
      "1\n",
      "1\n",
      "2\n",
      "[1 1 1]\n"
     ]
    }
   ],
   "source": [
    "# binary \n",
    "arr = np.array([1, 5, 6, 8, 10])\n",
    "\n",
    "print(np.searchsorted(arr, 2)) \n",
    "\n",
    "\n",
    "print(np.searchsorted(arr, 5)) # left most index given as default\n",
    "print(np.searchsorted(arr, 5, side=\"right\")) # right most index given\n",
    "\n",
    "\n",
    "print(np.searchsorted(arr, [2, 3, 4]))\n"
   ]
  },
  {
   "cell_type": "markdown",
   "id": "minimal-leave",
   "metadata": {},
   "source": [
    "### Sorting\n"
   ]
  },
  {
   "cell_type": "code",
   "execution_count": 22,
   "id": "aware-berlin",
   "metadata": {},
   "outputs": [
    {
     "name": "stdout",
     "output_type": "stream",
     "text": [
      "[0 1 2 3]\n",
      "['blue' 'blue' 'blue' 'green' 'green' 'red']\n"
     ]
    }
   ],
   "source": [
    "arrInt = np.array([3, 2, 0, 1])\n",
    "print(np.sort(arrInt))\n",
    "\n",
    "arrCol = np.array([\"red\", \"blue\", \"blue\", \"blue\", \"green\", \"green\"])\n",
    "print(np.sort(arrCol))"
   ]
  },
  {
   "cell_type": "code",
   "execution_count": 23,
   "id": "first-possible",
   "metadata": {},
   "outputs": [
    {
     "name": "stdout",
     "output_type": "stream",
     "text": [
      "[[2 3 4]\n",
      " [0 1 5]]\n"
     ]
    }
   ],
   "source": [
    "# 2D array\n",
    "arr = np.array([[3, 2, 4], [5, 0, 1]])\n",
    "print(np.sort(arr)) "
   ]
  },
  {
   "cell_type": "markdown",
   "id": "characteristic-bankruptcy",
   "metadata": {},
   "source": [
    "### Filtering"
   ]
  },
  {
   "cell_type": "code",
   "execution_count": 24,
   "id": "representative-height",
   "metadata": {},
   "outputs": [
    {
     "name": "stdout",
     "output_type": "stream",
     "text": [
      "[1 2 4]\n",
      "[4 5 6]\n"
     ]
    },
    {
     "data": {
      "text/plain": [
       "[4, 5, 6]"
      ]
     },
     "execution_count": 24,
     "metadata": {},
     "output_type": "execute_result"
    }
   ],
   "source": [
    "arr = np.array([1, 2, 3, 4, 5, 6])\n",
    "\n",
    "# general principle\n",
    "newArr = arr[[True, True, False, True, False, False]]\n",
    "\n",
    "print(newArr)\n",
    "\n",
    "# better method\n",
    "conditionArr = arr > 3\n",
    "print(arr[conditionArr])\n",
    "\n",
    "# the above for base lists would be\n",
    "[i for i in arr if i > 3]"
   ]
  },
  {
   "cell_type": "markdown",
   "id": "greatest-butterfly",
   "metadata": {},
   "source": [
    "*Compare the speed of the two filtering methods*\n",
    "\n",
    "**numpy** is far quicker\n"
   ]
  },
  {
   "cell_type": "code",
   "execution_count": 25,
   "id": "adolescent-walter",
   "metadata": {},
   "outputs": [
    {
     "name": "stdout",
     "output_type": "stream",
     "text": [
      "numpy takes 0.022242 s to run.\n",
      "base takes 0.323809 s to run.\n"
     ]
    }
   ],
   "source": [
    "import time\n",
    "import numpy as np\n",
    "\n",
    "\n",
    "np.random.seed(0)\n",
    "arr = np.random.randint(100, size=(1000))\n",
    "repeats = 1000\n",
    "\n",
    "def npFilter(x):\n",
    "    for i in range(0,repeats):\n",
    "        x[x >= 50]\n",
    "    return 0\n",
    "\n",
    "def baseFilter(x):\n",
    "    for i in range(0,repeats):\n",
    "        [i for i in x if i >= 50]\n",
    "    return 0\n",
    "\n",
    "\n",
    "\n",
    "start = time.time()\n",
    "npFilter(arr)\n",
    "print(\"numpy takes %f s to run.\" % (time.time() - start))\n",
    "\n",
    "start = time.time()\n",
    "baseFilter(arr)\n",
    "print(\"base takes %f s to run.\" % (time.time() - start))\n"
   ]
  },
  {
   "cell_type": "markdown",
   "id": "hollywood-answer",
   "metadata": {},
   "source": [
    "### Random numbers\n"
   ]
  },
  {
   "cell_type": "code",
   "execution_count": 26,
   "id": "regulation-promise",
   "metadata": {},
   "outputs": [
    {
     "name": "stdout",
     "output_type": "stream",
     "text": [
      "0.8918009653672702\n",
      "87\n",
      "[21  2  8 10  5]\n",
      "\n",
      "choices\n",
      "7\n",
      "[7 3]\n",
      "[[5 5 9 3 5]\n",
      " [5 7 9 3 5]]\n"
     ]
    }
   ],
   "source": [
    "from numpy import random\n",
    "\n",
    "print(random.rand()) # range 0 and 1\n",
    "print(random.randint(100)) # range 0 and 100\n",
    "print(random.randint(100, size=(5)))\n",
    "\n",
    "# choices\n",
    "print(\"\\nchoices\")\n",
    "print(random.choice([3, 5, 7, 9]))\n",
    "print(random.choice([3, 5, 7, 9], size=2))\n",
    "print(random.choice([3, 5, 7, 9], size=(2,5)))\n"
   ]
  },
  {
   "cell_type": "markdown",
   "id": "interesting-management",
   "metadata": {},
   "source": [
    "\n"
   ]
  },
  {
   "cell_type": "markdown",
   "id": "pleasant-grammar",
   "metadata": {},
   "source": [
    "## ufuncs\n",
    "\n",
    "universal functions operate on `ndarray` objects\n",
    "\n",
    "Good for:\n",
    "* vectorisation\n",
    "* broadcasting\n"
   ]
  },
  {
   "cell_type": "code",
   "execution_count": 51,
   "id": "caroline-cradle",
   "metadata": {},
   "outputs": [
    {
     "name": "stdout",
     "output_type": "stream",
     "text": [
      "[ 7  9 11 13 15]\n",
      "[ 7  9 11 13 15]\n"
     ]
    }
   ],
   "source": [
    "x = [1, 2, 3, 4, 5]\n",
    "y = [6, 7, 8, 9, 10]\n",
    "\n",
    "a = np.add(x, y)\n",
    "print(a)\n",
    "\n",
    "\n",
    "# is equivelent to\n",
    "aa = np.array(x) + np.array(y) \n",
    "print(aa)"
   ]
  },
  {
   "cell_type": "markdown",
   "id": "satisfied-degree",
   "metadata": {},
   "source": [
    "**Simple arithmetic**\n",
    "\n",
    "`add()`\n",
    "\n",
    "`subtract()`\n",
    "\n",
    "`multiply()`\n",
    "\n",
    "`divide()`\n",
    "\n",
    "`power()`\n",
    "\n",
    "`mod()` or `remainder()` - returns the remained\n",
    "\n",
    "`divmod()` - returns the quotient and the mod in 2 arrays\n",
    "\n",
    "`absolute()` or `abs()` - absolute values\n",
    "\n"
   ]
  },
  {
   "cell_type": "markdown",
   "id": "configured-rating",
   "metadata": {},
   "source": [
    "**Rounding**\n",
    "\n",
    "`fix()` and `trunc()` - Remove the decimals, and return the float number closest to zero\n",
    "\n",
    "`around(in, no. of decimals)` - define the number of decimal places\n",
    "\n",
    "`floor()` - nearest lowest integer\n",
    "\n",
    "`ceiling()` - nearest highest integer\n"
   ]
  },
  {
   "cell_type": "markdown",
   "id": "funky-lobby",
   "metadata": {},
   "source": [
    "**Summation**\n",
    "\n",
    "N.B. products (multiplication) can done in the same way with `prod()` and `cumprod()`"
   ]
  },
  {
   "cell_type": "code",
   "execution_count": 69,
   "id": "upset-cutting",
   "metadata": {},
   "outputs": [
    {
     "name": "stdout",
     "output_type": "stream",
     "text": [
      "12\n",
      "[6 6]\n",
      "[2 4 6]\n",
      "[1 3 6]\n"
     ]
    }
   ],
   "source": [
    "arr = np.array([1, 2, 3])\n",
    "\n",
    "sum1 = np.sum([arr, arr])\n",
    "print(sum1)\n",
    "\n",
    "# sum of each array\n",
    "sum2 = np.sum([arr, arr], axis = 1)\n",
    "print(sum2)\n",
    "\n",
    "# vertical sum\n",
    "sum3 = np.sum([arr, arr], axis = 0)\n",
    "print(sum3)\n",
    "\n",
    "# cumulative sum [1, 2, 3] = [1, 1+2, 1+2+3]\n",
    "sum4 = np.cumsum(arr)\n",
    "print(sum4)\n"
   ]
  },
  {
   "cell_type": "markdown",
   "id": "greatest-joshua",
   "metadata": {},
   "source": [
    "**Differences**\n"
   ]
  },
  {
   "cell_type": "code",
   "execution_count": 73,
   "id": "front-management",
   "metadata": {},
   "outputs": [
    {
     "name": "stdout",
     "output_type": "stream",
     "text": [
      "[  5  10 -20]\n",
      "[  5 -30]\n"
     ]
    }
   ],
   "source": [
    "arr = np.array([10, 15, 25, 5])\n",
    "\n",
    "diff1 = np.diff(arr) # equivelent to [10-15, 25-15, 5-25]\n",
    "print(diff1)\n",
    "\n",
    "# n is the number of repeates\n",
    "    # first [10-15, 25-15, 5-25] = [5, 10, -20]\n",
    "    # second [10-5, -20-10]\n",
    "diff2 = np.diff(arr, n=2) # equivelent to [10-15, 25-15, 5-25]\n",
    "print(diff2)"
   ]
  },
  {
   "cell_type": "markdown",
   "id": "moved-lightweight",
   "metadata": {},
   "source": [
    "**Lowest Common Multiple** and **Greatest Common Denominator**\n",
    "\n",
    "LCM - the least number that is common multiple of both of the numbers\n",
    "\n",
    "GCD - the biggest number that is a common factor of both of the numbers\n"
   ]
  },
  {
   "cell_type": "code",
   "execution_count": 82,
   "id": "neither-belfast",
   "metadata": {},
   "outputs": [
    {
     "name": "stdout",
     "output_type": "stream",
     "text": [
      "12\n",
      "18\n",
      "2\n",
      "4\n"
     ]
    }
   ],
   "source": [
    "## LCM\n",
    "# single elements\n",
    "x = np.lcm(4, 6)\n",
    "print(x)\n",
    "\n",
    "# arrays\n",
    "arr = np.array([3, 6, 9])\n",
    "xx = np.lcm.reduce(arr)\n",
    "print(xx)\n",
    "\n",
    "\n",
    "## GCD\n",
    "y = np.gcd(4, 6)\n",
    "print(y)\n",
    "\n",
    "arr2 = np.array([20, 8, 32, 36, 16])\n",
    "yy = np.gcd.reduce(arr2)\n",
    "print(yy)\n"
   ]
  },
  {
   "cell_type": "markdown",
   "id": "dying-empire",
   "metadata": {},
   "source": [
    "**Unique elemets**"
   ]
  },
  {
   "cell_type": "code",
   "execution_count": 97,
   "id": "understood-submission",
   "metadata": {},
   "outputs": [
    {
     "name": "stdout",
     "output_type": "stream",
     "text": [
      "[1 2 3 4 5 6 7]\n",
      "[1 2 3 4 5 6 7]\n",
      "[3 4]\n",
      "[1 2]\n",
      "[1 2 5 6]\n"
     ]
    }
   ],
   "source": [
    "arr = np.array([1, 1, 1, 2, 3, 4, 5, 5, 6, 7])\n",
    "arr1 = np.array([1, 2, 3, 4])\n",
    "arr2 = np.array([3, 4, 5, 6])\n",
    "\n",
    "\n",
    "a = np.unique(arr) # single array\n",
    "b = np.union1d(arr, arr) # 2 arrays\n",
    "c = np.intersect1d(arr1, arr2) # intersects of 2 arrays\n",
    "d = np.setdiff1d(arr1, arr2) # values in arr1 not in arr2\n",
    "e = np.setxor1d(arr1, arr2) # values not found in both\n",
    "\n",
    "nu = [print(i) for i in [a, b, c, d, e]]\n"
   ]
  },
  {
   "cell_type": "markdown",
   "id": "greenhouse-valentine",
   "metadata": {},
   "source": [
    "## Vectorisation\n",
    "\n",
    "\n",
    "**`np.frompyfunc`**\n",
    "* Takes an arbitrary Python function and returns a ufunc\n",
    "* `frompyfunc(function, no. inputs, no. outputs)`\n",
    "\n",
    "**`np.vectorize`**\n",
    "* Evaluates pyfunc over input arrays using broadcasting rules of numpy, *convenience over performance*.\n",
    "* wrapper for `frompyfunc`\n",
    "* features: carries across docstring, defines broadcasting rules, and define dtype\n",
    "\n"
   ]
  },
  {
   "cell_type": "code",
   "execution_count": 34,
   "id": "exclusive-frequency",
   "metadata": {},
   "outputs": [
    {
     "data": {
      "text/plain": [
       "array([6, 14, 24, 36, 50], dtype=object)"
      ]
     },
     "execution_count": 34,
     "metadata": {},
     "output_type": "execute_result"
    }
   ],
   "source": [
    "def myMultiplier(x, y):\n",
    "    return x * y\n",
    "\n",
    "myMultiplier = np.frompyfunc(myMultiplier, 2, 1)\n",
    "\n",
    "myMultiplier([1, 2, 3, 4, 5], [6, 7, 8, 9, 10])\n"
   ]
  },
  {
   "cell_type": "code",
   "execution_count": 47,
   "id": "furnished-discipline",
   "metadata": {},
   "outputs": [
    {
     "data": {
      "text/plain": [
       "array([ 7,  9, 11, 13, 15])"
      ]
     },
     "execution_count": 47,
     "metadata": {},
     "output_type": "execute_result"
    }
   ],
   "source": [
    "def myAdder(x, y):\n",
    "    return x + y\n",
    "\n",
    "myAdder = np.vectorize(myAdder)\n",
    "\n",
    "myAdder([1, 2, 3, 4, 5], [6, 7, 8, 9, 10])\n"
   ]
  }
 ],
 "metadata": {
  "kernelspec": {
   "display_name": "Python 3",
   "language": "python",
   "name": "python3"
  },
  "language_info": {
   "codemirror_mode": {
    "name": "ipython",
    "version": 3
   },
   "file_extension": ".py",
   "mimetype": "text/x-python",
   "name": "python",
   "nbconvert_exporter": "python",
   "pygments_lexer": "ipython3",
   "version": "3.9.1"
  },
  "toc-autonumbering": false,
  "toc-showmarkdowntxt": false,
  "toc-showtags": false
 },
 "nbformat": 4,
 "nbformat_minor": 5
}
