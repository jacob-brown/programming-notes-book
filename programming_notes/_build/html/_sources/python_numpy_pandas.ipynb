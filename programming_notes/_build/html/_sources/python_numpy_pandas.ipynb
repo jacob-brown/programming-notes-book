{
 "cells": [
  {
   "cell_type": "markdown",
   "id": "latter-roberts",
   "metadata": {},
   "source": [
    "# Python: Numpy and Pandas"
   ]
  },
  {
   "cell_type": "markdown",
   "id": "private-prize",
   "metadata": {},
   "source": [
    "## Numpy"
   ]
  },
  {
   "cell_type": "code",
   "execution_count": 1,
   "id": "conscious-europe",
   "metadata": {},
   "outputs": [
    {
     "name": "stdout",
     "output_type": "stream",
     "text": [
      "[1 2 3 4 5]\n"
     ]
    }
   ],
   "source": [
    "import numpy as np\n",
    "\n",
    "arr  = np.array([1, 2, 3, 4, 5])\n",
    "\n",
    "print(arr)"
   ]
  },
  {
   "cell_type": "markdown",
   "id": "norwegian-marker",
   "metadata": {},
   "source": [
    "check the number of dimensions\n"
   ]
  },
  {
   "cell_type": "code",
   "execution_count": 2,
   "id": "inner-numbers",
   "metadata": {},
   "outputs": [
    {
     "name": "stdout",
     "output_type": "stream",
     "text": [
      "0\n",
      "1\n",
      "2\n",
      "3\n"
     ]
    }
   ],
   "source": [
    "a = np.array(42)\n",
    "b = np.array([1, 2, 3, 4, 5])\n",
    "c = np.array([[1, 2, 3], [4, 5, 6]])\n",
    "d = np.array([[[1, 2, 3], [4, 5, 6]], [[1, 2, 3], [4, 5, 6]]])\n",
    "\n",
    "\n",
    "print(a.ndim)\n",
    "print(b.ndim)\n",
    "print(c.ndim)\n",
    "print(d.ndim)"
   ]
  },
  {
   "cell_type": "code",
   "execution_count": 3,
   "id": "communist-index",
   "metadata": {},
   "outputs": [
    {
     "name": "stdout",
     "output_type": "stream",
     "text": [
      "(2, 3)\n"
     ]
    }
   ],
   "source": [
    "c = np.array([[1, 2, 3], [4, 5, 6]])\n",
    "print(c.shape)"
   ]
  },
  {
   "cell_type": "markdown",
   "id": "superior-fourth",
   "metadata": {},
   "source": [
    "### Adding arrays (vectorisation)\n",
    "\n",
    "N.B. this doesn't concatenate the arrays"
   ]
  },
  {
   "cell_type": "code",
   "execution_count": 4,
   "id": "delayed-foster",
   "metadata": {},
   "outputs": [
    {
     "data": {
      "text/plain": [
       "array([2, 4, 6, 8])"
      ]
     },
     "execution_count": 4,
     "metadata": {},
     "output_type": "execute_result"
    }
   ],
   "source": [
    "arr1 = np.array([1, 2, 3, 4])\n",
    "arr2 = np.array([1, 2, 3, 4])\n",
    "\n",
    "arr1 + arr2"
   ]
  },
  {
   "cell_type": "markdown",
   "id": "approximate-david",
   "metadata": {},
   "source": [
    "### Slicing\n",
    "\n"
   ]
  },
  {
   "cell_type": "code",
   "execution_count": 5,
   "id": "ruled-picking",
   "metadata": {},
   "outputs": [
    {
     "name": "stdout",
     "output_type": "stream",
     "text": [
      "[1 2 3]\n",
      "[ 4  5  6  7  8  9 10]\n",
      "[1 3 5 7]\n"
     ]
    }
   ],
   "source": [
    "arr = np.array([1, 2, 3, 4, 5, 6, 7, 8, 9, 10])\n",
    "\n",
    "print(arr[0:3])\n",
    "print(arr[3:]) \n",
    "print(arr[0:8:2]) # with a step\n"
   ]
  },
  {
   "cell_type": "markdown",
   "id": "legendary-junior",
   "metadata": {},
   "source": [
    "2-D arrays"
   ]
  },
  {
   "cell_type": "code",
   "execution_count": 6,
   "id": "beneficial-covering",
   "metadata": {},
   "outputs": [
    {
     "name": "stdout",
     "output_type": "stream",
     "text": [
      "[7 8 9]\n"
     ]
    }
   ],
   "source": [
    "arr = np.array([[1, 2, 3, 4, 5], [6, 7, 8, 9, 10]])\n",
    "\n",
    "print(arr[1, 1:4]) # 2nd element 1:4"
   ]
  },
  {
   "cell_type": "markdown",
   "id": "impossible-rider",
   "metadata": {},
   "source": [
    "### Numpy Data Types\n",
    "check with `.dtypes`\n"
   ]
  },
  {
   "cell_type": "code",
   "execution_count": 7,
   "id": "single-bicycle",
   "metadata": {},
   "outputs": [
    {
     "name": "stdout",
     "output_type": "stream",
     "text": [
      "<U6\n",
      "int64\n"
     ]
    }
   ],
   "source": [
    "import numpy as np\n",
    "\n",
    "arrString = np.array(['apple', 'banana', 'cherry'])\n",
    "arrInt = np.array([1, 2, 3, 4])\n",
    "\n",
    "print(arrString.dtype) \n",
    "print(arrInt.dtype)"
   ]
  },
  {
   "cell_type": "markdown",
   "id": "described-horizon",
   "metadata": {},
   "source": [
    "create an array with a defined data type"
   ]
  },
  {
   "cell_type": "code",
   "execution_count": 8,
   "id": "differential-witness",
   "metadata": {},
   "outputs": [
    {
     "name": "stdout",
     "output_type": "stream",
     "text": [
      "[b'1' b'2' b'3' b'4']\n",
      "[1 2 3 4]\n"
     ]
    }
   ],
   "source": [
    "arrString = np.array([1, 2, 3, 4], dtype='S') \n",
    "arrInt = np.array([1, 2, 3, 4], dtype='i')\n",
    "\n",
    "print(arrString)\n",
    "print(arrInt)"
   ]
  },
  {
   "cell_type": "markdown",
   "id": "filled-shelf",
   "metadata": {},
   "source": [
    "and we can convert the array"
   ]
  },
  {
   "cell_type": "code",
   "execution_count": 9,
   "id": "continuing-childhood",
   "metadata": {},
   "outputs": [
    {
     "name": "stdout",
     "output_type": "stream",
     "text": [
      "int32\n",
      "float64\n"
     ]
    }
   ],
   "source": [
    "arr = np.array([1, 2, 3, 4], dtype=\"i\")\n",
    "print(arr.dtype)\n",
    "\n",
    "newarr = arr.astype(float)\n",
    "print(newarr.dtype)\n"
   ]
  },
  {
   "cell_type": "markdown",
   "id": "radio-distribution",
   "metadata": {},
   "source": [
    "### Copy and view\n",
    "\n",
    "copy creates its own copy\n",
    "\n",
    "view is linked to the original\n",
    "\n",
    "`base` checks if array owns it's own data (`None` if true)"
   ]
  },
  {
   "cell_type": "code",
   "execution_count": 10,
   "id": "plain-soviet",
   "metadata": {},
   "outputs": [
    {
     "name": "stdout",
     "output_type": "stream",
     "text": [
      "[9 2 3 4 5]\n",
      "[1 2 3 4 5]\n",
      "[9 2 3 4 5]\n",
      "[9 2 3 4 5]\n",
      "None\n",
      "[9 2 3 4 5]\n"
     ]
    }
   ],
   "source": [
    "arrC = np.array([1, 2, 3, 4, 5])\n",
    "arrV = np.array([1, 2, 3, 4, 5])\n",
    "\n",
    "arrCopy = arrC.copy()\n",
    "arrView = arrV.view()\n",
    "\n",
    "arrC[0] = 9\n",
    "arrV[0] = 9\n",
    "\n",
    "\n",
    "print(arrC)\n",
    "print(arrCopy)\n",
    "print(arrV)\n",
    "print(arrView)\n",
    "\n",
    "print(arrCopy.base)\n",
    "print(arrView.base)"
   ]
  },
  {
   "cell_type": "markdown",
   "id": "common-assembly",
   "metadata": {},
   "source": [
    "### Reshape\n"
   ]
  },
  {
   "cell_type": "code",
   "execution_count": 11,
   "id": "another-michael",
   "metadata": {},
   "outputs": [
    {
     "name": "stdout",
     "output_type": "stream",
     "text": [
      "[[ 1  2  3]\n",
      " [ 4  5  6]\n",
      " [ 7  8  9]\n",
      " [10 11 12]]\n",
      "\n",
      "\n",
      "[[[ 1  2]\n",
      "  [ 3  4]\n",
      "  [ 5  6]]\n",
      "\n",
      " [[ 7  8]\n",
      "  [ 9 10]\n",
      "  [11 12]]]\n",
      "\n",
      "\n",
      "[[ 1  2  3  4  5  6]\n",
      " [ 7  8  9 10 11 12]]\n"
     ]
    }
   ],
   "source": [
    "arr = np.array([1, 2, 3, 4, 5, 6, 7, 8, 9, 10, 11, 12])\n",
    "\n",
    "print(arr.reshape(4, 3))\n",
    "print(\"\\n\")\n",
    "print(arr.reshape(2, 3, 2))\n",
    "print(\"\\n\")\n",
    "print(arr.reshape(2, -1)) # unknown dimension with -1"
   ]
  },
  {
   "cell_type": "code",
   "execution_count": 12,
   "id": "according-month",
   "metadata": {},
   "outputs": [
    {
     "name": "stdout",
     "output_type": "stream",
     "text": [
      "[1 2 3 4 5 6]\n"
     ]
    }
   ],
   "source": [
    "\n",
    "# flatten array\n",
    "newArr = np.array([[1, 2, 3], [4, 5, 6]])\n",
    "print(newArr.reshape(-1))\n"
   ]
  },
  {
   "cell_type": "markdown",
   "id": "available-weight",
   "metadata": {},
   "source": [
    "### Iterating\n",
    "\n",
    "Arrays are iterable, if nested we can use `nditer`\n",
    "\n",
    "`ndenumerate` can be used to note where in the array structure the element is located"
   ]
  },
  {
   "cell_type": "code",
   "execution_count": 13,
   "id": "arctic-wound",
   "metadata": {},
   "outputs": [
    {
     "name": "stdout",
     "output_type": "stream",
     "text": [
      "1\n",
      "2\n",
      "3\n",
      "4\n",
      "5\n",
      "6\n",
      "7\n",
      "8\n",
      "\n",
      "\n",
      "[[1 2]\n",
      " [3 4]]\n",
      "[[5 6]\n",
      " [7 8]]\n"
     ]
    }
   ],
   "source": [
    "arr = np.array([[[1, 2], [3, 4]], [[5, 6], [7, 8]]])\n",
    "\n",
    "for x in np.nditer(arr):\n",
    "    print(x)\n",
    "    \n",
    "print(\"\\n\")    \n",
    "# compared to\n",
    "for x in arr:\n",
    "    print(x)"
   ]
  },
  {
   "cell_type": "code",
   "execution_count": 14,
   "id": "foster-africa",
   "metadata": {},
   "outputs": [
    {
     "name": "stdout",
     "output_type": "stream",
     "text": [
      "(0, 0) 1\n",
      "(0, 1) 2\n",
      "(0, 2) 3\n",
      "(0, 3) 4\n",
      "(1, 0) 5\n",
      "(1, 1) 6\n",
      "(1, 2) 7\n",
      "(1, 3) 8\n"
     ]
    }
   ],
   "source": [
    "arr = np.array([[1, 2, 3, 4], [5, 6, 7, 8]])\n",
    "\n",
    "for idx, x in np.ndenumerate(arr):\n",
    "  print(idx, x) "
   ]
  },
  {
   "cell_type": "markdown",
   "id": "accessible-irrigation",
   "metadata": {},
   "source": [
    "### Joining arrays\n",
    "\n",
    "we can also specifcy joining on **rows** (`axis=0`) or **columns** (`axis=1`).\n",
    "\n",
    "\n"
   ]
  },
  {
   "cell_type": "code",
   "execution_count": 15,
   "id": "liberal-decline",
   "metadata": {},
   "outputs": [
    {
     "name": "stdout",
     "output_type": "stream",
     "text": [
      "[1 2 3 1 2 3]\n"
     ]
    }
   ],
   "source": [
    "arr = np.array([1, 2, 3])\n",
    "\n",
    "combo = np.concatenate((arr, arr))\n",
    "\n",
    "print(combo)"
   ]
  },
  {
   "cell_type": "code",
   "execution_count": 16,
   "id": "convinced-miniature",
   "metadata": {},
   "outputs": [
    {
     "name": "stdout",
     "output_type": "stream",
     "text": [
      "[[1 2]\n",
      " [3 4]\n",
      " [5 6]\n",
      " [7 8]]\n",
      "\n",
      "\n",
      "[[1 2 5 6]\n",
      " [3 4 7 8]]\n"
     ]
    }
   ],
   "source": [
    "arr1 = np.array([[1, 2], [3, 4]])\n",
    "arr2 = np.array([[5, 6], [7, 8]])\n",
    "\n",
    "combo0 = np.concatenate((arr1, arr2), axis=0)\n",
    "combo1 = np.concatenate((arr1, arr2), axis=1)\n",
    "\n",
    "print(combo0)\n",
    "print(\"\\n\")\n",
    "print(combo1)"
   ]
  },
  {
   "cell_type": "markdown",
   "id": "frank-forestry",
   "metadata": {},
   "source": [
    "Similarly we can use `stack`, `hstack`, `vstack`, and `dstack`"
   ]
  },
  {
   "cell_type": "code",
   "execution_count": 17,
   "id": "organized-dinner",
   "metadata": {},
   "outputs": [
    {
     "name": "stdout",
     "output_type": "stream",
     "text": [
      "stack\n",
      "[[1 4]\n",
      " [2 5]\n",
      " [3 6]]\n",
      "\n",
      "hstack\n",
      "[1 2 3 4 5 6]\n",
      "\n",
      "vstack\n",
      "[[1 2 3]\n",
      " [4 5 6]]\n",
      "\n",
      "dstack\n",
      "[[[1 4]\n",
      "  [2 5]\n",
      "  [3 6]]]\n"
     ]
    }
   ],
   "source": [
    "arr1 = np.array([1, 2, 3])\n",
    "arr2 = np.array([4, 5, 6])\n",
    "\n",
    "arrStack = np.stack((arr1, arr2), axis = 1)\n",
    "arrHstack = np.hstack((arr1, arr2))\n",
    "arrVstack = np.vstack((arr1, arr2))\n",
    "arrDstack = np.dstack((arr1, arr2))\n",
    "\n",
    "print(\"stack\")\n",
    "print(arrStack)\n",
    "print(\"\\nhstack\")\n",
    "print(arrHstack)\n",
    "print(\"\\nvstack\")\n",
    "print(arrVstack)\n",
    "print(\"\\ndstack\")\n",
    "print(arrDstack)\n"
   ]
  },
  {
   "cell_type": "markdown",
   "id": "educational-inclusion",
   "metadata": {},
   "source": [
    "### Splitting arrays\n",
    "\n",
    "`np.array_split` allows for non-exact splits, wereas `np.split` requires an exact match\n",
    "\n",
    "splits can be carried out on multi-dimensional arrays with the axis specified.\n"
   ]
  },
  {
   "cell_type": "code",
   "execution_count": 18,
   "id": "proprietary-pledge",
   "metadata": {},
   "outputs": [
    {
     "name": "stdout",
     "output_type": "stream",
     "text": [
      "[array([1, 2]), array([3, 4]), array([5, 6])]\n",
      "[array([1, 2]), array([3, 4]), array([5]), array([6])]\n"
     ]
    }
   ],
   "source": [
    "arr = np.array([1, 2, 3, 4, 5, 6])\n",
    "\n",
    "# split into 3 \n",
    "\n",
    "arrSplit = np.array_split(arr, 3)\n",
    "print(arrSplit)\n",
    "\n",
    "# split into a non-multiple\n",
    "arrSplitAlt = np.array_split(arr, 4)\n",
    "print(arrSplitAlt)"
   ]
  },
  {
   "cell_type": "markdown",
   "id": "injured-public",
   "metadata": {},
   "source": [
    "as above we also have `hsplit`, `vsplit`, and `dsplit`"
   ]
  },
  {
   "cell_type": "code",
   "execution_count": 19,
   "id": "central-manitoba",
   "metadata": {},
   "outputs": [
    {
     "data": {
      "text/plain": [
       "[array([[ 1],\n",
       "        [ 4],\n",
       "        [ 7],\n",
       "        [10],\n",
       "        [13],\n",
       "        [16]]),\n",
       " array([[ 2],\n",
       "        [ 5],\n",
       "        [ 8],\n",
       "        [11],\n",
       "        [14],\n",
       "        [17]]),\n",
       " array([[ 3],\n",
       "        [ 6],\n",
       "        [ 9],\n",
       "        [12],\n",
       "        [15],\n",
       "        [18]])]"
      ]
     },
     "execution_count": 19,
     "metadata": {},
     "output_type": "execute_result"
    }
   ],
   "source": [
    "arr = np.array([[1, 2, 3], [4, 5, 6], [7, 8, 9], [10, 11, 12], [13, 14, 15], [16, 17, 18]])\n",
    "\n",
    "np.hsplit(arr, 3)"
   ]
  },
  {
   "cell_type": "markdown",
   "id": "stock-communications",
   "metadata": {},
   "source": [
    "### Searching Arrays"
   ]
  },
  {
   "cell_type": "code",
   "execution_count": 20,
   "id": "guilty-testimony",
   "metadata": {},
   "outputs": [
    {
     "name": "stdout",
     "output_type": "stream",
     "text": [
      "(array([4, 5]),)\n"
     ]
    }
   ],
   "source": [
    "arr = np.array([\"red\", \"blue\", \"blue\", \"blue\", \"green\", \"green\"])\n",
    "print(np.where(arr == \"green\"))"
   ]
  },
  {
   "cell_type": "markdown",
   "id": "contrary-tournament",
   "metadata": {},
   "source": [
    "**Binary Search**\n",
    "\n",
    "`searchsorted` searches where the value should be inserted\n",
    "\n",
    "arrays can also be used in this function"
   ]
  },
  {
   "cell_type": "code",
   "execution_count": 21,
   "id": "genuine-thesis",
   "metadata": {},
   "outputs": [
    {
     "name": "stdout",
     "output_type": "stream",
     "text": [
      "1\n",
      "1\n",
      "2\n",
      "[1 1 1]\n"
     ]
    }
   ],
   "source": [
    "# binary \n",
    "arr = np.array([1, 5, 6, 8, 10])\n",
    "\n",
    "print(np.searchsorted(arr, 2)) \n",
    "\n",
    "\n",
    "print(np.searchsorted(arr, 5)) # left most index given as default\n",
    "print(np.searchsorted(arr, 5, side=\"right\")) # right most index given\n",
    "\n",
    "\n",
    "print(np.searchsorted(arr, [2, 3, 4]))\n"
   ]
  },
  {
   "cell_type": "markdown",
   "id": "committed-flash",
   "metadata": {},
   "source": [
    "### Sorting\n"
   ]
  },
  {
   "cell_type": "code",
   "execution_count": 22,
   "id": "breathing-director",
   "metadata": {},
   "outputs": [
    {
     "name": "stdout",
     "output_type": "stream",
     "text": [
      "[0 1 2 3]\n",
      "['blue' 'blue' 'blue' 'green' 'green' 'red']\n"
     ]
    }
   ],
   "source": [
    "arrInt = np.array([3, 2, 0, 1])\n",
    "print(np.sort(arrInt))\n",
    "\n",
    "arrCol = np.array([\"red\", \"blue\", \"blue\", \"blue\", \"green\", \"green\"])\n",
    "print(np.sort(arrCol))"
   ]
  },
  {
   "cell_type": "code",
   "execution_count": 23,
   "id": "formal-binding",
   "metadata": {},
   "outputs": [
    {
     "name": "stdout",
     "output_type": "stream",
     "text": [
      "[[2 3 4]\n",
      " [0 1 5]]\n"
     ]
    }
   ],
   "source": [
    "# 2D array\n",
    "arr = np.array([[3, 2, 4], [5, 0, 1]])\n",
    "print(np.sort(arr)) "
   ]
  },
  {
   "cell_type": "markdown",
   "id": "still-treat",
   "metadata": {},
   "source": [
    "### Filtering"
   ]
  },
  {
   "cell_type": "code",
   "execution_count": 24,
   "id": "found-field",
   "metadata": {},
   "outputs": [
    {
     "name": "stdout",
     "output_type": "stream",
     "text": [
      "[1 2 4]\n",
      "[4 5 6]\n"
     ]
    },
    {
     "data": {
      "text/plain": [
       "[4, 5, 6]"
      ]
     },
     "execution_count": 24,
     "metadata": {},
     "output_type": "execute_result"
    }
   ],
   "source": [
    "arr = np.array([1, 2, 3, 4, 5, 6])\n",
    "\n",
    "# general principle\n",
    "newArr = arr[[True, True, False, True, False, False]]\n",
    "\n",
    "print(newArr)\n",
    "\n",
    "# better method\n",
    "conditionArr = arr > 3\n",
    "print(arr[conditionArr])\n",
    "\n",
    "# the above for base lists would be\n",
    "[i for i in arr if i > 3]"
   ]
  },
  {
   "cell_type": "markdown",
   "id": "forced-harvest",
   "metadata": {},
   "source": [
    "*Compare the speed of the two filtering methods*\n",
    "\n",
    "**numpy** is far quicker\n"
   ]
  },
  {
   "cell_type": "code",
   "execution_count": 25,
   "id": "desirable-congress",
   "metadata": {},
   "outputs": [
    {
     "name": "stdout",
     "output_type": "stream",
     "text": [
      "numpy takes 0.021225 s to run.\n",
      "base takes 0.314613 s to run.\n"
     ]
    }
   ],
   "source": [
    "import time\n",
    "import numpy as np\n",
    "\n",
    "\n",
    "np.random.seed(0)\n",
    "arr = np.random.randint(100, size=(1000))\n",
    "repeats = 1000\n",
    "\n",
    "def npFilter(x):\n",
    "    for i in range(0,repeats):\n",
    "        x[x >= 50]\n",
    "    return 0\n",
    "\n",
    "def baseFilter(x):\n",
    "    for i in range(0,repeats):\n",
    "        [i for i in x if i >= 50]\n",
    "    return 0\n",
    "\n",
    "\n",
    "\n",
    "start = time.time()\n",
    "npFilter(arr)\n",
    "print(\"numpy takes %f s to run.\" % (time.time() - start))\n",
    "\n",
    "start = time.time()\n",
    "baseFilter(arr)\n",
    "print(\"base takes %f s to run.\" % (time.time() - start))\n"
   ]
  },
  {
   "cell_type": "markdown",
   "id": "particular-tourism",
   "metadata": {},
   "source": [
    "### Random numbers\n"
   ]
  },
  {
   "cell_type": "code",
   "execution_count": 26,
   "id": "verified-johnson",
   "metadata": {},
   "outputs": [
    {
     "name": "stdout",
     "output_type": "stream",
     "text": [
      "0.8918009653672702\n",
      "87\n",
      "[21  2  8 10  5]\n",
      "\n",
      "choices\n",
      "7\n",
      "[7 3]\n",
      "[[5 5 9 3 5]\n",
      " [5 7 9 3 5]]\n"
     ]
    }
   ],
   "source": [
    "from numpy import random\n",
    "\n",
    "print(random.rand()) # range 0 and 1\n",
    "print(random.randint(100)) # range 0 and 100\n",
    "print(random.randint(100, size=(5)))\n",
    "\n",
    "# choices\n",
    "print(\"\\nchoices\")\n",
    "print(random.choice([3, 5, 7, 9]))\n",
    "print(random.choice([3, 5, 7, 9], size=2))\n",
    "print(random.choice([3, 5, 7, 9], size=(2,5)))\n"
   ]
  },
  {
   "cell_type": "markdown",
   "id": "working-margin",
   "metadata": {},
   "source": [
    "\n"
   ]
  },
  {
   "cell_type": "markdown",
   "id": "coordinated-pricing",
   "metadata": {},
   "source": [
    "## ufuncs\n",
    "\n",
    "universal functions operate on `ndarray` objects\n",
    "\n",
    "Good for:\n",
    "* vectorisation\n",
    "* broadcasting\n"
   ]
  },
  {
   "cell_type": "code",
   "execution_count": 27,
   "id": "prospective-carry",
   "metadata": {},
   "outputs": [
    {
     "name": "stdout",
     "output_type": "stream",
     "text": [
      "[ 7  9 11 13 15]\n",
      "[ 7  9 11 13 15]\n"
     ]
    }
   ],
   "source": [
    "x = [1, 2, 3, 4, 5]\n",
    "y = [6, 7, 8, 9, 10]\n",
    "\n",
    "a = np.add(x, y)\n",
    "print(a)\n",
    "\n",
    "\n",
    "# is equivelent to\n",
    "aa = np.array(x) + np.array(y) \n",
    "print(aa)"
   ]
  },
  {
   "cell_type": "markdown",
   "id": "impossible-identification",
   "metadata": {},
   "source": [
    "**Simple arithmetic**\n",
    "\n",
    "`add()`\n",
    "\n",
    "`subtract()`\n",
    "\n",
    "`multiply()`\n",
    "\n",
    "`divide()`\n",
    "\n",
    "`power()`\n",
    "\n",
    "`mod()` or `remainder()` - returns the remained\n",
    "\n",
    "`divmod()` - returns the quotient and the mod in 2 arrays\n",
    "\n",
    "`absolute()` or `abs()` - absolute values\n",
    "\n"
   ]
  },
  {
   "cell_type": "markdown",
   "id": "immune-withdrawal",
   "metadata": {},
   "source": [
    "**Rounding**\n",
    "\n",
    "`fix()` and `trunc()` - Remove the decimals, and return the float number closest to zero\n",
    "\n",
    "`around(in, no. of decimals)` - define the number of decimal places\n",
    "\n",
    "`floor()` - nearest lowest integer\n",
    "\n",
    "`ceiling()` - nearest highest integer\n"
   ]
  },
  {
   "cell_type": "markdown",
   "id": "pleasant-while",
   "metadata": {},
   "source": [
    "**Summation**\n",
    "\n",
    "N.B. products (multiplication) can done in the same way with `prod()` and `cumprod()`"
   ]
  },
  {
   "cell_type": "code",
   "execution_count": 28,
   "id": "active-gamma",
   "metadata": {},
   "outputs": [
    {
     "name": "stdout",
     "output_type": "stream",
     "text": [
      "12\n",
      "[6 6]\n",
      "[2 4 6]\n",
      "[1 3 6]\n"
     ]
    }
   ],
   "source": [
    "arr = np.array([1, 2, 3])\n",
    "\n",
    "sum1 = np.sum([arr, arr])\n",
    "print(sum1)\n",
    "\n",
    "# sum of each array\n",
    "sum2 = np.sum([arr, arr], axis = 1)\n",
    "print(sum2)\n",
    "\n",
    "# vertical sum\n",
    "sum3 = np.sum([arr, arr], axis = 0)\n",
    "print(sum3)\n",
    "\n",
    "# cumulative sum [1, 2, 3] = [1, 1+2, 1+2+3]\n",
    "sum4 = np.cumsum(arr)\n",
    "print(sum4)\n"
   ]
  },
  {
   "cell_type": "markdown",
   "id": "respiratory-seattle",
   "metadata": {},
   "source": [
    "**Differences**\n"
   ]
  },
  {
   "cell_type": "code",
   "execution_count": 29,
   "id": "bacterial-fossil",
   "metadata": {},
   "outputs": [
    {
     "name": "stdout",
     "output_type": "stream",
     "text": [
      "[  5  10 -20]\n",
      "[  5 -30]\n"
     ]
    }
   ],
   "source": [
    "arr = np.array([10, 15, 25, 5])\n",
    "\n",
    "diff1 = np.diff(arr) # equivelent to [10-15, 25-15, 5-25]\n",
    "print(diff1)\n",
    "\n",
    "# n is the number of repeates\n",
    "    # first [10-15, 25-15, 5-25] = [5, 10, -20]\n",
    "    # second [10-5, -20-10]\n",
    "diff2 = np.diff(arr, n=2) # equivelent to [10-15, 25-15, 5-25]\n",
    "print(diff2)"
   ]
  },
  {
   "cell_type": "markdown",
   "id": "supposed-madness",
   "metadata": {},
   "source": [
    "**Lowest Common Multiple** and **Greatest Common Denominator**\n",
    "\n",
    "LCM - the least number that is common multiple of both of the numbers\n",
    "\n",
    "GCD - the biggest number that is a common factor of both of the numbers\n"
   ]
  },
  {
   "cell_type": "code",
   "execution_count": 30,
   "id": "dense-closer",
   "metadata": {},
   "outputs": [
    {
     "name": "stdout",
     "output_type": "stream",
     "text": [
      "12\n",
      "18\n",
      "2\n",
      "4\n"
     ]
    }
   ],
   "source": [
    "## LCM\n",
    "# single elements\n",
    "x = np.lcm(4, 6)\n",
    "print(x)\n",
    "\n",
    "# arrays\n",
    "arr = np.array([3, 6, 9])\n",
    "xx = np.lcm.reduce(arr)\n",
    "print(xx)\n",
    "\n",
    "\n",
    "## GCD\n",
    "y = np.gcd(4, 6)\n",
    "print(y)\n",
    "\n",
    "arr2 = np.array([20, 8, 32, 36, 16])\n",
    "yy = np.gcd.reduce(arr2)\n",
    "print(yy)\n"
   ]
  },
  {
   "cell_type": "markdown",
   "id": "reverse-software",
   "metadata": {},
   "source": [
    "**Unique elemets**"
   ]
  },
  {
   "cell_type": "code",
   "execution_count": 31,
   "id": "lined-robin",
   "metadata": {},
   "outputs": [
    {
     "name": "stdout",
     "output_type": "stream",
     "text": [
      "[1 2 3 4 5 6 7]\n",
      "[1 2 3 4 5 6 7]\n",
      "[3 4]\n",
      "[1 2]\n",
      "[1 2 5 6]\n"
     ]
    }
   ],
   "source": [
    "arr = np.array([1, 1, 1, 2, 3, 4, 5, 5, 6, 7])\n",
    "arr1 = np.array([1, 2, 3, 4])\n",
    "arr2 = np.array([3, 4, 5, 6])\n",
    "\n",
    "\n",
    "a = np.unique(arr) # single array\n",
    "b = np.union1d(arr, arr) # 2 arrays\n",
    "c = np.intersect1d(arr1, arr2) # intersects of 2 arrays\n",
    "d = np.setdiff1d(arr1, arr2) # values in arr1 not in arr2\n",
    "e = np.setxor1d(arr1, arr2) # values not found in both\n",
    "\n",
    "nu = [print(i) for i in [a, b, c, d, e]]\n"
   ]
  },
  {
   "cell_type": "markdown",
   "id": "amended-albania",
   "metadata": {},
   "source": [
    "## Vectorisation\n",
    "\n",
    "\n",
    "**`np.frompyfunc`**\n",
    "* Takes an arbitrary Python function and returns a ufunc\n",
    "* `frompyfunc(function, no. inputs, no. outputs)`\n",
    "\n",
    "**`np.vectorize`**\n",
    "* Evaluates pyfunc over input arrays using broadcasting rules of numpy, *convenience over performance*.\n",
    "* wrapper for `frompyfunc`\n",
    "* features: carries across docstring, defines broadcasting rules, and define dtype\n",
    "\n"
   ]
  },
  {
   "cell_type": "code",
   "execution_count": 32,
   "id": "dynamic-organ",
   "metadata": {},
   "outputs": [
    {
     "data": {
      "text/plain": [
       "array([6, 14, 24, 36, 50], dtype=object)"
      ]
     },
     "execution_count": 32,
     "metadata": {},
     "output_type": "execute_result"
    }
   ],
   "source": [
    "def myMultiplier(x, y):\n",
    "    return x * y\n",
    "\n",
    "myMultiplier = np.frompyfunc(myMultiplier, 2, 1)\n",
    "\n",
    "myMultiplier([1, 2, 3, 4, 5], [6, 7, 8, 9, 10])\n"
   ]
  },
  {
   "cell_type": "code",
   "execution_count": 33,
   "id": "wrapped-destination",
   "metadata": {},
   "outputs": [
    {
     "data": {
      "text/plain": [
       "array([ 7,  9, 11, 13, 15])"
      ]
     },
     "execution_count": 33,
     "metadata": {},
     "output_type": "execute_result"
    }
   ],
   "source": [
    "def myAdder(x, y):\n",
    "    return x + y\n",
    "\n",
    "myAdder = np.vectorize(myAdder)\n",
    "\n",
    "myAdder([1, 2, 3, 4, 5], [6, 7, 8, 9, 10])\n"
   ]
  },
  {
   "cell_type": "markdown",
   "id": "relevant-delight",
   "metadata": {},
   "source": [
    "## Pandas\n",
    "works with **dataframes**\n",
    "\n",
    "slow but sometimes convenient "
   ]
  },
  {
   "cell_type": "code",
   "execution_count": 39,
   "id": "dense-catholic",
   "metadata": {},
   "outputs": [
    {
     "data": {
      "text/html": [
       "<div>\n",
       "<style scoped>\n",
       "    .dataframe tbody tr th:only-of-type {\n",
       "        vertical-align: middle;\n",
       "    }\n",
       "\n",
       "    .dataframe tbody tr th {\n",
       "        vertical-align: top;\n",
       "    }\n",
       "\n",
       "    .dataframe thead th {\n",
       "        text-align: right;\n",
       "    }\n",
       "</style>\n",
       "<table border=\"1\" class=\"dataframe\">\n",
       "  <thead>\n",
       "    <tr style=\"text-align: right;\">\n",
       "      <th></th>\n",
       "      <th>species</th>\n",
       "      <th>weight</th>\n",
       "    </tr>\n",
       "  </thead>\n",
       "  <tbody>\n",
       "    <tr>\n",
       "      <th>0</th>\n",
       "      <td>grizzly</td>\n",
       "      <td>800</td>\n",
       "    </tr>\n",
       "    <tr>\n",
       "      <th>1</th>\n",
       "      <td>panda</td>\n",
       "      <td>400</td>\n",
       "    </tr>\n",
       "    <tr>\n",
       "      <th>2</th>\n",
       "      <td>black</td>\n",
       "      <td>100</td>\n",
       "    </tr>\n",
       "  </tbody>\n",
       "</table>\n",
       "</div>"
      ],
      "text/plain": [
       "   species  weight\n",
       "0  grizzly     800\n",
       "1    panda     400\n",
       "2    black     100"
      ]
     },
     "execution_count": 39,
     "metadata": {},
     "output_type": "execute_result"
    }
   ],
   "source": [
    "import pandas as pd\n",
    "\n",
    "bearData  = {\n",
    "    \"species\": [\"grizzly\", \"panda\", \"black\"],\n",
    "    \"weight\": [800, 400, 100] \n",
    "}\n",
    "\n",
    "pd.DataFrame(bearData)"
   ]
  },
  {
   "cell_type": "markdown",
   "id": "alternate-business",
   "metadata": {},
   "source": [
    "**series** are 1D pandas arrays (like a column in the df)"
   ]
  },
  {
   "cell_type": "code",
   "execution_count": 44,
   "id": "verbal-rolling",
   "metadata": {},
   "outputs": [
    {
     "name": "stdout",
     "output_type": "stream",
     "text": [
      "0    North America\n",
      "1            China\n",
      "2    North America\n",
      "dtype: object\n"
     ]
    }
   ],
   "source": [
    "country = pd.Series([\"North America\", \"China\", \"North America\"])\n",
    "\n",
    "print(country)"
   ]
  },
  {
   "cell_type": "markdown",
   "id": "pending-saint",
   "metadata": {},
   "source": [
    "you can create own index labels"
   ]
  },
  {
   "cell_type": "code",
   "execution_count": 45,
   "id": "objective-bidder",
   "metadata": {},
   "outputs": [
    {
     "data": {
      "text/plain": [
       "a    North America\n",
       "b            China\n",
       "c    North America\n",
       "dtype: object"
      ]
     },
     "execution_count": 45,
     "metadata": {},
     "output_type": "execute_result"
    }
   ],
   "source": [
    "country = pd.Series([\"North America\", \"China\", \"North America\"],\n",
    "                   index = [\"a\", \"b\", \"c\"])\n",
    "\n",
    "\n",
    "country"
   ]
  },
  {
   "cell_type": "markdown",
   "id": "ongoing-demand",
   "metadata": {},
   "source": [
    "### Dataframe Retrival"
   ]
  },
  {
   "cell_type": "code",
   "execution_count": 60,
   "id": "minor-liability",
   "metadata": {},
   "outputs": [
    {
     "name": "stdout",
     "output_type": "stream",
     "text": [
      "species          grizzly\n",
      "weight               800\n",
      "country    North America\n",
      "Name: 0, dtype: object\n",
      "\n",
      "\n",
      "   species  weight        country\n",
      "0  grizzly     800  North America\n",
      "2    black     100  North America\n",
      "\n",
      "\n",
      "0    grizzly\n",
      "1      panda\n",
      "2      black\n",
      "Name: species, dtype: object\n"
     ]
    }
   ],
   "source": [
    "bearData  = {\n",
    "    \"species\": [\"grizzly\", \"panda\", \"black\"],\n",
    "    \"weight\": [800, 400, 100],\n",
    "    \"country\": [\"North America\", \"China\", \"North America\"]\n",
    "}\n",
    "\n",
    "bearData = pd.DataFrame(bearData)\n",
    "\n",
    "# specify the row\n",
    "print(bearData.loc[0])\n",
    "print(\"\\n\")\n",
    "print(bearData.loc[[0, 2]]) # return from a list\n",
    "\n",
    "# specific column\n",
    "print(\"\\n\")\n",
    "print(bearData[\"species\"])\n"
   ]
  },
  {
   "cell_type": "markdown",
   "id": "packed-flash",
   "metadata": {},
   "source": [
    "### Read and Write"
   ]
  },
  {
   "cell_type": "code",
   "execution_count": 64,
   "id": "measured-continuity",
   "metadata": {},
   "outputs": [],
   "source": [
    "# write \n",
    "bearData.to_csv(\"data/bearSpecies.csv\", index=False)"
   ]
  },
  {
   "cell_type": "code",
   "execution_count": 73,
   "id": "worth-board",
   "metadata": {},
   "outputs": [
    {
     "data": {
      "text/html": [
       "<div>\n",
       "<style scoped>\n",
       "    .dataframe tbody tr th:only-of-type {\n",
       "        vertical-align: middle;\n",
       "    }\n",
       "\n",
       "    .dataframe tbody tr th {\n",
       "        vertical-align: top;\n",
       "    }\n",
       "\n",
       "    .dataframe thead th {\n",
       "        text-align: right;\n",
       "    }\n",
       "</style>\n",
       "<table border=\"1\" class=\"dataframe\">\n",
       "  <thead>\n",
       "    <tr style=\"text-align: right;\">\n",
       "      <th></th>\n",
       "      <th>Species</th>\n",
       "      <th>Distance.m</th>\n",
       "      <th>Angle.degrees</th>\n",
       "    </tr>\n",
       "  </thead>\n",
       "  <tbody>\n",
       "    <tr>\n",
       "      <th>0</th>\n",
       "      <td>Populus tremula</td>\n",
       "      <td>31.665834</td>\n",
       "      <td>41.282636</td>\n",
       "    </tr>\n",
       "    <tr>\n",
       "      <th>1</th>\n",
       "      <td>Quercus robur</td>\n",
       "      <td>45.984993</td>\n",
       "      <td>44.535917</td>\n",
       "    </tr>\n",
       "    <tr>\n",
       "      <th>2</th>\n",
       "      <td>Ginkgo biloba</td>\n",
       "      <td>31.241767</td>\n",
       "      <td>25.146259</td>\n",
       "    </tr>\n",
       "    <tr>\n",
       "      <th>3</th>\n",
       "      <td>Fraxinus excelsior</td>\n",
       "      <td>34.616669</td>\n",
       "      <td>23.336127</td>\n",
       "    </tr>\n",
       "    <tr>\n",
       "      <th>4</th>\n",
       "      <td>Betula pendula</td>\n",
       "      <td>45.466165</td>\n",
       "      <td>38.349130</td>\n",
       "    </tr>\n",
       "    <tr>\n",
       "      <th>...</th>\n",
       "      <td>...</td>\n",
       "      <td>...</td>\n",
       "      <td>...</td>\n",
       "    </tr>\n",
       "    <tr>\n",
       "      <th>115</th>\n",
       "      <td>Pinus sylvestris</td>\n",
       "      <td>33.405883</td>\n",
       "      <td>35.996387</td>\n",
       "    </tr>\n",
       "    <tr>\n",
       "      <th>116</th>\n",
       "      <td>Carpinus betulus</td>\n",
       "      <td>39.501562</td>\n",
       "      <td>30.298136</td>\n",
       "    </tr>\n",
       "    <tr>\n",
       "      <th>117</th>\n",
       "      <td>Fagus sylvatica</td>\n",
       "      <td>43.988915</td>\n",
       "      <td>27.079336</td>\n",
       "    </tr>\n",
       "    <tr>\n",
       "      <th>118</th>\n",
       "      <td>Carpinus betulus</td>\n",
       "      <td>37.849727</td>\n",
       "      <td>38.573435</td>\n",
       "    </tr>\n",
       "    <tr>\n",
       "      <th>119</th>\n",
       "      <td>Alnus glutinosa</td>\n",
       "      <td>43.528852</td>\n",
       "      <td>36.761984</td>\n",
       "    </tr>\n",
       "  </tbody>\n",
       "</table>\n",
       "<p>120 rows × 3 columns</p>\n",
       "</div>"
      ],
      "text/plain": [
       "                Species  Distance.m  Angle.degrees\n",
       "0       Populus tremula   31.665834      41.282636\n",
       "1         Quercus robur   45.984993      44.535917\n",
       "2         Ginkgo biloba   31.241767      25.146259\n",
       "3    Fraxinus excelsior   34.616669      23.336127\n",
       "4        Betula pendula   45.466165      38.349130\n",
       "..                  ...         ...            ...\n",
       "115    Pinus sylvestris   33.405883      35.996387\n",
       "116    Carpinus betulus   39.501562      30.298136\n",
       "117     Fagus sylvatica   43.988915      27.079336\n",
       "118    Carpinus betulus   37.849727      38.573435\n",
       "119     Alnus glutinosa   43.528852      36.761984\n",
       "\n",
       "[120 rows x 3 columns]"
      ]
     },
     "execution_count": 73,
     "metadata": {},
     "output_type": "execute_result"
    }
   ],
   "source": [
    "# read\n",
    "\n",
    "treeData = pd.read_csv(\"data/trees.csv\")\n",
    "\n",
    "treeData"
   ]
  },
  {
   "cell_type": "markdown",
   "id": "fifty-cutting",
   "metadata": {},
   "source": [
    "### View the data\n"
   ]
  },
  {
   "cell_type": "code",
   "execution_count": 74,
   "id": "sitting-hampshire",
   "metadata": {},
   "outputs": [
    {
     "data": {
      "text/html": [
       "<div>\n",
       "<style scoped>\n",
       "    .dataframe tbody tr th:only-of-type {\n",
       "        vertical-align: middle;\n",
       "    }\n",
       "\n",
       "    .dataframe tbody tr th {\n",
       "        vertical-align: top;\n",
       "    }\n",
       "\n",
       "    .dataframe thead th {\n",
       "        text-align: right;\n",
       "    }\n",
       "</style>\n",
       "<table border=\"1\" class=\"dataframe\">\n",
       "  <thead>\n",
       "    <tr style=\"text-align: right;\">\n",
       "      <th></th>\n",
       "      <th>Species</th>\n",
       "      <th>Distance.m</th>\n",
       "      <th>Angle.degrees</th>\n",
       "    </tr>\n",
       "  </thead>\n",
       "  <tbody>\n",
       "    <tr>\n",
       "      <th>0</th>\n",
       "      <td>Populus tremula</td>\n",
       "      <td>31.665834</td>\n",
       "      <td>41.282636</td>\n",
       "    </tr>\n",
       "    <tr>\n",
       "      <th>1</th>\n",
       "      <td>Quercus robur</td>\n",
       "      <td>45.984993</td>\n",
       "      <td>44.535917</td>\n",
       "    </tr>\n",
       "    <tr>\n",
       "      <th>2</th>\n",
       "      <td>Ginkgo biloba</td>\n",
       "      <td>31.241767</td>\n",
       "      <td>25.146259</td>\n",
       "    </tr>\n",
       "    <tr>\n",
       "      <th>3</th>\n",
       "      <td>Fraxinus excelsior</td>\n",
       "      <td>34.616669</td>\n",
       "      <td>23.336127</td>\n",
       "    </tr>\n",
       "    <tr>\n",
       "      <th>4</th>\n",
       "      <td>Betula pendula</td>\n",
       "      <td>45.466165</td>\n",
       "      <td>38.349130</td>\n",
       "    </tr>\n",
       "  </tbody>\n",
       "</table>\n",
       "</div>"
      ],
      "text/plain": [
       "              Species  Distance.m  Angle.degrees\n",
       "0     Populus tremula   31.665834      41.282636\n",
       "1       Quercus robur   45.984993      44.535917\n",
       "2       Ginkgo biloba   31.241767      25.146259\n",
       "3  Fraxinus excelsior   34.616669      23.336127\n",
       "4      Betula pendula   45.466165      38.349130"
      ]
     },
     "execution_count": 74,
     "metadata": {},
     "output_type": "execute_result"
    }
   ],
   "source": [
    "treeData.head()"
   ]
  },
  {
   "cell_type": "code",
   "execution_count": 75,
   "id": "romantic-summer",
   "metadata": {},
   "outputs": [
    {
     "data": {
      "text/html": [
       "<div>\n",
       "<style scoped>\n",
       "    .dataframe tbody tr th:only-of-type {\n",
       "        vertical-align: middle;\n",
       "    }\n",
       "\n",
       "    .dataframe tbody tr th {\n",
       "        vertical-align: top;\n",
       "    }\n",
       "\n",
       "    .dataframe thead th {\n",
       "        text-align: right;\n",
       "    }\n",
       "</style>\n",
       "<table border=\"1\" class=\"dataframe\">\n",
       "  <thead>\n",
       "    <tr style=\"text-align: right;\">\n",
       "      <th></th>\n",
       "      <th>Species</th>\n",
       "      <th>Distance.m</th>\n",
       "      <th>Angle.degrees</th>\n",
       "    </tr>\n",
       "  </thead>\n",
       "  <tbody>\n",
       "    <tr>\n",
       "      <th>115</th>\n",
       "      <td>Pinus sylvestris</td>\n",
       "      <td>33.405883</td>\n",
       "      <td>35.996387</td>\n",
       "    </tr>\n",
       "    <tr>\n",
       "      <th>116</th>\n",
       "      <td>Carpinus betulus</td>\n",
       "      <td>39.501562</td>\n",
       "      <td>30.298136</td>\n",
       "    </tr>\n",
       "    <tr>\n",
       "      <th>117</th>\n",
       "      <td>Fagus sylvatica</td>\n",
       "      <td>43.988915</td>\n",
       "      <td>27.079336</td>\n",
       "    </tr>\n",
       "    <tr>\n",
       "      <th>118</th>\n",
       "      <td>Carpinus betulus</td>\n",
       "      <td>37.849727</td>\n",
       "      <td>38.573435</td>\n",
       "    </tr>\n",
       "    <tr>\n",
       "      <th>119</th>\n",
       "      <td>Alnus glutinosa</td>\n",
       "      <td>43.528852</td>\n",
       "      <td>36.761984</td>\n",
       "    </tr>\n",
       "  </tbody>\n",
       "</table>\n",
       "</div>"
      ],
      "text/plain": [
       "              Species  Distance.m  Angle.degrees\n",
       "115  Pinus sylvestris   33.405883      35.996387\n",
       "116  Carpinus betulus   39.501562      30.298136\n",
       "117   Fagus sylvatica   43.988915      27.079336\n",
       "118  Carpinus betulus   37.849727      38.573435\n",
       "119   Alnus glutinosa   43.528852      36.761984"
      ]
     },
     "execution_count": 75,
     "metadata": {},
     "output_type": "execute_result"
    }
   ],
   "source": [
    "treeData.tail()"
   ]
  },
  {
   "cell_type": "code",
   "execution_count": 86,
   "id": "defensive-potential",
   "metadata": {},
   "outputs": [
    {
     "name": "stdout",
     "output_type": "stream",
     "text": [
      "<class 'pandas.core.frame.DataFrame'>\n",
      "RangeIndex: 120 entries, 0 to 119\n",
      "Data columns (total 3 columns):\n",
      " #   Column         Non-Null Count  Dtype  \n",
      "---  ------         --------------  -----  \n",
      " 0   Species        120 non-null    object \n",
      " 1   Distance.m     120 non-null    float64\n",
      " 2   Angle.degrees  120 non-null    float64\n",
      "dtypes: float64(2), object(1)\n",
      "memory usage: 2.9+ KB\n"
     ]
    }
   ],
   "source": [
    "treeData.info()"
   ]
  },
  {
   "cell_type": "code",
   "execution_count": 88,
   "id": "fifty-shelter",
   "metadata": {},
   "outputs": [
    {
     "name": "stdout",
     "output_type": "stream",
     "text": [
      "(120, 3)\n",
      "360\n"
     ]
    }
   ],
   "source": [
    "print(treeData.shape)\n",
    "print(treeData.size)"
   ]
  },
  {
   "cell_type": "markdown",
   "id": "deluxe-integration",
   "metadata": {},
   "source": [
    "### Cleaning"
   ]
  },
  {
   "cell_type": "code",
   "execution_count": 105,
   "id": "agricultural-warrior",
   "metadata": {},
   "outputs": [
    {
     "data": {
      "text/html": [
       "<div>\n",
       "<style scoped>\n",
       "    .dataframe tbody tr th:only-of-type {\n",
       "        vertical-align: middle;\n",
       "    }\n",
       "\n",
       "    .dataframe tbody tr th {\n",
       "        vertical-align: top;\n",
       "    }\n",
       "\n",
       "    .dataframe thead th {\n",
       "        text-align: right;\n",
       "    }\n",
       "</style>\n",
       "<table border=\"1\" class=\"dataframe\">\n",
       "  <thead>\n",
       "    <tr style=\"text-align: right;\">\n",
       "      <th></th>\n",
       "      <th>Duration</th>\n",
       "      <th>Date</th>\n",
       "      <th>Pulse</th>\n",
       "      <th>Maxpulse</th>\n",
       "      <th>Calories</th>\n",
       "    </tr>\n",
       "  </thead>\n",
       "  <tbody>\n",
       "    <tr>\n",
       "      <th>0</th>\n",
       "      <td>60</td>\n",
       "      <td>'2020/12/01'</td>\n",
       "      <td>110</td>\n",
       "      <td>130</td>\n",
       "      <td>409.1</td>\n",
       "    </tr>\n",
       "    <tr>\n",
       "      <th>1</th>\n",
       "      <td>60</td>\n",
       "      <td>'2020/12/02'</td>\n",
       "      <td>117</td>\n",
       "      <td>145</td>\n",
       "      <td>479.0</td>\n",
       "    </tr>\n",
       "    <tr>\n",
       "      <th>2</th>\n",
       "      <td>60</td>\n",
       "      <td>'2020/12/03'</td>\n",
       "      <td>103</td>\n",
       "      <td>135</td>\n",
       "      <td>340.0</td>\n",
       "    </tr>\n",
       "    <tr>\n",
       "      <th>3</th>\n",
       "      <td>45</td>\n",
       "      <td>'2020/12/04'</td>\n",
       "      <td>109</td>\n",
       "      <td>175</td>\n",
       "      <td>282.4</td>\n",
       "    </tr>\n",
       "    <tr>\n",
       "      <th>4</th>\n",
       "      <td>45</td>\n",
       "      <td>'2020/12/05'</td>\n",
       "      <td>117</td>\n",
       "      <td>148</td>\n",
       "      <td>406.0</td>\n",
       "    </tr>\n",
       "  </tbody>\n",
       "</table>\n",
       "</div>"
      ],
      "text/plain": [
       "   Duration          Date  Pulse  Maxpulse  Calories\n",
       "0        60  '2020/12/01'    110       130     409.1\n",
       "1        60  '2020/12/02'    117       145     479.0\n",
       "2        60  '2020/12/03'    103       135     340.0\n",
       "3        45  '2020/12/04'    109       175     282.4\n",
       "4        45  '2020/12/05'    117       148     406.0"
      ]
     },
     "execution_count": 105,
     "metadata": {},
     "output_type": "execute_result"
    }
   ],
   "source": [
    "df = pd.read_csv(\"data/dirtydata.csv\")\n",
    "df.head()"
   ]
  },
  {
   "cell_type": "code",
   "execution_count": 116,
   "id": "analyzed-reproduction",
   "metadata": {},
   "outputs": [
    {
     "name": "stdout",
     "output_type": "stream",
     "text": [
      "160\n",
      "145\n"
     ]
    }
   ],
   "source": [
    "df = pd.read_csv(\"data/dirtydata.csv\")\n",
    "print(df.size)\n",
    "\n",
    "# drop na\n",
    "df.dropna(inplace = True) # inplace change the original df\n",
    "\n",
    "print(df.size)"
   ]
  },
  {
   "cell_type": "code",
   "execution_count": 118,
   "id": "plastic-decrease",
   "metadata": {},
   "outputs": [],
   "source": [
    "df = pd.read_csv(\"data/dirtydata.csv\")\n",
    "\n",
    "# replace the na values\n",
    "df.fillna(130, inplace = True) "
   ]
  },
  {
   "cell_type": "markdown",
   "id": "floppy-short",
   "metadata": {},
   "source": [
    "### Convert datatype"
   ]
  },
  {
   "cell_type": "code",
   "execution_count": 123,
   "id": "marked-evening",
   "metadata": {},
   "outputs": [
    {
     "name": "stdout",
     "output_type": "stream",
     "text": [
      "<class 'pandas.core.frame.DataFrame'>\n",
      "Int64Index: 29 entries, 0 to 31\n",
      "Data columns (total 5 columns):\n",
      " #   Column    Non-Null Count  Dtype         \n",
      "---  ------    --------------  -----         \n",
      " 0   Duration  29 non-null     int64         \n",
      " 1   Date      29 non-null     datetime64[ns]\n",
      " 2   Pulse     29 non-null     int64         \n",
      " 3   Maxpulse  29 non-null     int64         \n",
      " 4   Calories  29 non-null     float64       \n",
      "dtypes: datetime64[ns](1), float64(1), int64(3)\n",
      "memory usage: 1.4 KB\n"
     ]
    }
   ],
   "source": [
    "df = pd.read_csv(\"data/dirtydata.csv\")\n",
    "df.dropna(inplace = True)\n",
    "df[\"Date\"] = pd.to_datetime(df[\"Date\"])\n",
    "df.info()"
   ]
  },
  {
   "cell_type": "markdown",
   "id": "passive-purchase",
   "metadata": {},
   "source": [
    "### Correcting data"
   ]
  },
  {
   "cell_type": "code",
   "execution_count": 132,
   "id": "ranging-express",
   "metadata": {},
   "outputs": [
    {
     "name": "stdout",
     "output_type": "stream",
     "text": [
      "   Duration          Date  Pulse  Maxpulse  Calories\n",
      "0        60  '2020/12/01'    110       130     409.1\n",
      "1        60  '2020/12/02'    117       145     479.0\n",
      "2        60  '2020/12/03'    103       135     340.0\n",
      "3        45  '2020/12/04'    109       175     282.4\n",
      "4        45  '2020/12/05'    117       148     406.0\n",
      "   Duration          Date  Pulse  Maxpulse  Calories\n",
      "1        60  '2020/12/02'    117       145     479.0\n",
      "2        60  '2020/12/03'    103       135     340.0\n",
      "3        45  '2020/12/04'    109       175     282.4\n",
      "4        45  '2020/12/05'    117       148     406.0\n",
      "5        60  '2020/12/06'    102       127     300.0\n"
     ]
    }
   ],
   "source": [
    "df = pd.read_csv(\"data/dirtydata.csv\")\n",
    "\n",
    "\n",
    "# replace value\n",
    "df.loc[7, \"Duration\"] = 45 \n",
    "\n",
    "# drop row\n",
    "print(df.head())\n",
    "df.drop(0, inplace = True) # index 0\n",
    "print(df.head())"
   ]
  },
  {
   "cell_type": "code",
   "execution_count": 138,
   "id": "relative-sheffield",
   "metadata": {},
   "outputs": [
    {
     "name": "stdout",
     "output_type": "stream",
     "text": [
      "0     False\n",
      "1     False\n",
      "2     False\n",
      "3     False\n",
      "4     False\n",
      "5     False\n",
      "6     False\n",
      "7     False\n",
      "8     False\n",
      "9     False\n",
      "10    False\n",
      "11    False\n",
      "12     True\n",
      "13    False\n",
      "14    False\n",
      "15    False\n",
      "16    False\n",
      "17    False\n",
      "18    False\n",
      "19    False\n",
      "20    False\n",
      "21    False\n",
      "22    False\n",
      "23    False\n",
      "24    False\n",
      "25    False\n",
      "26    False\n",
      "27    False\n",
      "28    False\n",
      "29    False\n",
      "30    False\n",
      "31    False\n",
      "dtype: bool\n"
     ]
    }
   ],
   "source": [
    "df = pd.read_csv(\"data/dirtydata.csv\")\n",
    "print(df.duplicated())\n",
    "# remove duplicate\n",
    "df.drop_duplicates(inplace = True) "
   ]
  }
 ],
 "metadata": {
  "kernelspec": {
   "display_name": "Python 3",
   "language": "python",
   "name": "python3"
  },
  "language_info": {
   "codemirror_mode": {
    "name": "ipython",
    "version": 3
   },
   "file_extension": ".py",
   "mimetype": "text/x-python",
   "name": "python",
   "nbconvert_exporter": "python",
   "pygments_lexer": "ipython3",
   "version": "3.9.1"
  },
  "toc-autonumbering": false,
  "toc-showmarkdowntxt": false,
  "toc-showtags": false
 },
 "nbformat": 4,
 "nbformat_minor": 5
}
