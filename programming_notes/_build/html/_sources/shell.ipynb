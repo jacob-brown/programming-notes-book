{
 "cells": [
  {
   "cell_type": "markdown",
   "id": "organizational-mongolia",
   "metadata": {},
   "source": [
    "# Shell"
   ]
  },
  {
   "cell_type": "code",
   "execution_count": 1,
   "id": "optional-seattle",
   "metadata": {},
   "outputs": [
    {
     "name": "stdout",
     "output_type": "stream",
     "text": [
      "/Users/jacobbrown/Documents/Productivity/notes_Jupyter/mynotesbook/programming_notes/programming_notes\n"
     ]
    }
   ],
   "source": [
    "pwd"
   ]
  },
  {
   "cell_type": "code",
   "execution_count": 2,
   "id": "broke-duration",
   "metadata": {},
   "outputs": [
    {
     "name": "stdout",
     "output_type": "stream",
     "text": [
      "\u001b[31m_config.yml\u001b[39;49m\u001b[0m     content.md      markdown.md     python.ipynb    shell.ipynb\n",
      "_toc.yml        intro.md        notebooks.ipynb references.bib\n",
      "\n",
      "_build:\n",
      "\u001b[1m\u001b[36mhtml\u001b[39;49m\u001b[0m            \u001b[1m\u001b[36mjupyter_execute\u001b[39;49m\u001b[0m\n",
      "\n",
      "img:\n",
      "gandalf.jpg logo.png\n"
     ]
    }
   ],
   "source": [
    "ls *"
   ]
  },
  {
   "cell_type": "code",
   "execution_count": null,
   "id": "narrative-looking",
   "metadata": {},
   "outputs": [],
   "source": []
  }
 ],
 "metadata": {
  "kernelspec": {
   "display_name": "Z shell",
   "language": "zsh",
   "name": "zsh"
  },
  "language_info": {
   "codemirror_mode": "shell",
   "file_extension": ".zsh",
   "mimetype": "text/x-zsh",
   "name": "zsh",
   "pygments_lexer": "shell",
   "version": "5.7.1"
  }
 },
 "nbformat": 4,
 "nbformat_minor": 5
}
