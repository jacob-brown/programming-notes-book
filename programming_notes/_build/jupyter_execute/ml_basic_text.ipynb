{
 "cells": [
  {
   "cell_type": "markdown",
   "id": "handmade-subsection",
   "metadata": {},
   "source": [
    "# Basic Text Classification\n",
    "\n",
    "**Aim**: Classify IMDB comments as positive or negative (i.e. sentiment)\n",
    "\n",
    "We'll train a binary classifier to perform sentiment analysis on an IMDB dataset.\n",
    "\n",
    "Hence binary, either positive or negative.\n",
    "\n",
    "**Dataset**: 50,000 movie reviews. 25,000 reviews for training and 25,000 reviews for testing \n",
    "\n",
    "The data is *balanced* as it has equal number training and testing. \n"
   ]
  },
  {
   "cell_type": "code",
   "execution_count": 1,
   "id": "cultural-plant",
   "metadata": {},
   "outputs": [],
   "source": [
    "import matplotlib.pyplot as plt\n",
    "import os\n",
    "import re\n",
    "import shutil\n",
    "import string\n",
    "import tensorflow as tf\n",
    "\n",
    "from tensorflow.keras import layers\n",
    "from tensorflow.keras import losses\n",
    "from tensorflow.keras import preprocessing\n",
    "from tensorflow.keras.layers.experimental.preprocessing import TextVectorization"
   ]
  },
  {
   "cell_type": "markdown",
   "id": "administrative-convert",
   "metadata": {},
   "source": [
    "Download the data - (run once! jupyter cell converted to raw)"
   ]
  },
  {
   "cell_type": "raw",
   "id": "occupied-restriction",
   "metadata": {},
   "source": [
    "url = \"https://ai.stanford.edu/~amaas/data/sentiment/aclImdb_v1.tar.gz\"\n",
    "\n",
    "dataset = tf.keras.utils.get_file(\"data/aclImdb_v1.tar.gz\", url,\n",
    "                                    untar=True, cache_dir='.',\n",
    "                                    cache_subdir='')\n"
   ]
  },
  {
   "cell_type": "markdown",
   "id": "olive-exploration",
   "metadata": {},
   "source": [
    "general cleanup: move the folder to data - (run once! jupyter cell converted to raw)"
   ]
  },
  {
   "cell_type": "raw",
   "id": "convenient-reset",
   "metadata": {},
   "source": [
    "shutil.move('aclImdb','data/aclImdb')"
   ]
  },
  {
   "cell_type": "markdown",
   "id": "posted-thermal",
   "metadata": {},
   "source": [
    "Create a path to the data "
   ]
  },
  {
   "cell_type": "code",
   "execution_count": 2,
   "id": "romance-tsunami",
   "metadata": {},
   "outputs": [],
   "source": [
    "dataset_dir = os.path.join(\"./data/\", 'aclImdb')"
   ]
  },
  {
   "cell_type": "code",
   "execution_count": 3,
   "id": "handy-mozambique",
   "metadata": {},
   "outputs": [
    {
     "name": "stdout",
     "output_type": "stream",
     "text": [
      "./data/aclImdb\n"
     ]
    },
    {
     "data": {
      "text/plain": [
       "['.DS_Store', 'imdbEr.txt', 'test', 'imdb.vocab', 'README', 'train']"
      ]
     },
     "execution_count": 3,
     "metadata": {},
     "output_type": "execute_result"
    }
   ],
   "source": [
    "print(dataset_dir)\n",
    "\n",
    "os.listdir(dataset_dir)"
   ]
  },
  {
   "cell_type": "code",
   "execution_count": 4,
   "id": "nominated-commander",
   "metadata": {},
   "outputs": [
    {
     "data": {
      "text/plain": [
       "['urls_unsup.txt',\n",
       " '.DS_Store',\n",
       " 'neg',\n",
       " 'urls_pos.txt',\n",
       " 'urls_neg.txt',\n",
       " 'pos',\n",
       " 'unsupBow.feat',\n",
       " 'labeledBow.feat']"
      ]
     },
     "execution_count": 4,
     "metadata": {},
     "output_type": "execute_result"
    }
   ],
   "source": [
    "train_dir = os.path.join(dataset_dir, 'train')\n",
    "os.listdir(train_dir)"
   ]
  },
  {
   "cell_type": "markdown",
   "id": "commercial-metadata",
   "metadata": {},
   "source": [
    "`pos` and `neg` directories contain many reviews in text files"
   ]
  },
  {
   "cell_type": "code",
   "execution_count": 5,
   "id": "great-transcript",
   "metadata": {},
   "outputs": [
    {
     "name": "stdout",
     "output_type": "stream",
     "text": [
      "Rachel Griffiths writes and directs this award winning short film. A heartwarming story about coping with grief and cherishing the memory of those we've loved and lost. Although, only 15 minutes long, Griffiths manages to capture so much emotion and truth onto film in the short space of time. Bud Tingwell gives a touching performance as Will, a widower struggling to cope with his wife's death. Will is confronted by the harsh reality of loneliness and helplessness as he proceeds to take care of Ruth's pet cow, Tulip. The film displays the grief and responsibility one feels for those they have loved and lost. Good cinematography, great direction, and superbly acted. It will bring tears to all those who have lost a loved one, and survived.\n"
     ]
    }
   ],
   "source": [
    "sample_file = os.path.join(train_dir, 'pos/1181_9.txt')\n",
    "\n",
    "with open(sample_file) as f:\n",
    "    print(f.read())"
   ]
  },
  {
   "cell_type": "markdown",
   "id": "working-slovakia",
   "metadata": {},
   "source": [
    "## Load the data\n",
    "\n",
    "1. Reformat the directory structure (`text_dataset_from_directory` will be used)\n",
    "2. Create a labeled `tf.data.Dataset`\n",
    "\n",
    "\n",
    "`tf.data` is:\n",
    "* iterable \n",
    "* can pass directly into `model.fit`\n",
    "\n",
    "\n",
    "\n",
    "N.B. `text_dataset_from_directory` needs the following data sctructure:"
   ]
  },
  {
   "cell_type": "raw",
   "id": "alternative-spoke",
   "metadata": {},
   "source": [
    "main_directory/\n",
    "...class_a/\n",
    "......a_text_1.txt\n",
    "......a_text_2.txt\n",
    "...class_b/\n",
    "......b_text_1.txt\n",
    "......b_text_2.txt"
   ]
  },
  {
   "cell_type": "markdown",
   "id": "qualified-sudan",
   "metadata": {},
   "source": [
    "eg. \n",
    "\n",
    "`class_a` will be `neg`  \n",
    "\n",
    "`class_b` will be `pos` "
   ]
  },
  {
   "cell_type": "markdown",
   "id": "compliant-manchester",
   "metadata": {},
   "source": [
    "### 1. Reformat the directory structure"
   ]
  },
  {
   "cell_type": "raw",
   "id": "bulgarian-response",
   "metadata": {},
   "source": [
    "# run once\n",
    "remove_dir = os.path.join(train_dir, 'unsup')\n",
    "shutil.rmtree(remove_dir)"
   ]
  },
  {
   "cell_type": "code",
   "execution_count": 6,
   "id": "dimensional-indie",
   "metadata": {},
   "outputs": [
    {
     "data": {
      "text/plain": [
       "['urls_unsup.txt',\n",
       " '.DS_Store',\n",
       " 'neg',\n",
       " 'urls_pos.txt',\n",
       " 'urls_neg.txt',\n",
       " 'pos',\n",
       " 'unsupBow.feat',\n",
       " 'labeledBow.feat']"
      ]
     },
     "execution_count": 6,
     "metadata": {},
     "output_type": "execute_result"
    }
   ],
   "source": [
    "os.listdir(train_dir)"
   ]
  },
  {
   "cell_type": "markdown",
   "id": "scientific-circular",
   "metadata": {},
   "source": [
    "### 2. Create a labeled `tf.data.Dataset`\n",
    "\n",
    "\"When running a machine learning experiment, it is a best practice to divide your dataset into three splits: train, validation, and test.\"\n",
    "\n",
    "The currect dataset lacks a validation dataset, we should create one.\n",
    "\n",
    "Splitting 80:20 training:validation\n",
    "\n",
    "We set a *seed* so as the data is split without overlapping\n",
    "\n",
    "*batch size* is the number of training examples in one forward/backward pass. The higher the batch size, the more memory space you'll need.\n",
    "   \n",
    "batch size defalut = 32\n"
   ]
  },
  {
   "cell_type": "code",
   "execution_count": 7,
   "id": "baking-fighter",
   "metadata": {},
   "outputs": [
    {
     "name": "stdout",
     "output_type": "stream",
     "text": [
      "training\n",
      "Found 25000 files belonging to 2 classes.\n",
      "Using 20000 files for training.\n",
      "\n",
      "validating\n",
      "Found 25000 files belonging to 2 classes.\n",
      "Using 5000 files for validation.\n",
      "\n",
      "testing\n",
      "Found 25000 files belonging to 2 classes.\n"
     ]
    }
   ],
   "source": [
    "seed=42\n",
    "\n",
    "# training\n",
    "print(\"training\")\n",
    "\n",
    "raw_train_ds = tf.keras.preprocessing.text_dataset_from_directory(\n",
    "    'data/aclImdb/train',\n",
    "    validation_split=0.2,\n",
    "    subset='training',\n",
    "    seed=seed\n",
    ")\n",
    "\n",
    "# validation\n",
    "print(\"\\nvalidating\")\n",
    "\n",
    "raw_val_ds = tf.keras.preprocessing.text_dataset_from_directory(\n",
    "    'data/aclImdb/train',\n",
    "    validation_split=0.2,\n",
    "    subset='validation',\n",
    "    seed=seed\n",
    ")\n",
    "\n",
    "# testing\n",
    "print(\"\\ntesting\")\n",
    "\n",
    "raw_test_ds = tf.keras.preprocessing.text_dataset_from_directory('data/aclImdb/test')\n"
   ]
  },
  {
   "cell_type": "markdown",
   "id": "superb-birthday",
   "metadata": {},
   "source": [
    "### Investigate the data\n",
    "\n",
    "Note how the reviews contain html"
   ]
  },
  {
   "cell_type": "code",
   "execution_count": 8,
   "id": "ongoing-verse",
   "metadata": {},
   "outputs": [
    {
     "name": "stdout",
     "output_type": "stream",
     "text": [
      "label 0:  neg\n",
      "label 1:  pos\n"
     ]
    }
   ],
   "source": [
    "print(\"label 0: \", raw_train_ds.class_names[0])\n",
    "print(\"label 1: \", raw_train_ds.class_names[1])"
   ]
  },
  {
   "cell_type": "code",
   "execution_count": 9,
   "id": "specialized-school",
   "metadata": {},
   "outputs": [
    {
     "name": "stdout",
     "output_type": "stream",
     "text": [
      "review:  b'\"Pandemonium\" is a horror movie spoof that comes off more stupid than funny. Believe me when I tell you, I love comedies. Especially comedy spoofs. \"Airplane\", \"The Naked Gun\" trilogy, \"Blazing Saddles\", \"High Anxiety\", and \"Spaceballs\" are some of my favorite comedies that spoof a particular genre. \"Pandemonium\" is not up there with those films. Most of the scenes in this movie had me sitting there in stunned silence because the movie wasn\\'t all that funny. There are a few laughs in the film, but when you watch a comedy, you expect to laugh a lot more than a few times and that\\'s all this film has going for it. Geez, \"Scream\" had more laughs than this film and that was more of a horror film. How bizarre is that?<br /><br />*1/2 (out of four)'\n",
      "label:  0\n",
      "\n",
      "\n",
      "review:  b\"David Mamet is a very interesting and a very un-equal director. His first movie 'House of Games' was the one I liked best, and it set a series of films with characters whose perspective of life changes as they get into complicated situations, and so does the perspective of the viewer.<br /><br />So is 'Homicide' which from the title tries to set the mind of the viewer to the usual crime drama. The principal characters are two cops, one Jewish and one Irish who deal with a racially charged area. The murder of an old Jewish shop owner who proves to be an ancient veteran of the Israeli Independence war triggers the Jewish identity in the mind and heart of the Jewish detective.<br /><br />This is were the flaws of the film are the more obvious. The process of awakening is theatrical and hard to believe, the group of Jewish militants is operatic, and the way the detective eventually walks to the final violent confrontation is pathetic. The end of the film itself is Mamet-like smart, but disappoints from a human emotional perspective.<br /><br />Joe Mantegna and William Macy give strong performances, but the flaws of the story are too evident to be easily compensated.\"\n",
      "label:  0\n",
      "\n",
      "\n",
      "review:  b'Great documentary about the lives of NY firefighters during the worst terrorist attack of all time.. That reason alone is why this should be a must see collectors item.. What shocked me was not only the attacks, but the\"High Fat Diet\" and physical appearance of some of these firefighters. I think a lot of Doctors would agree with me that,in the physical shape they were in, some of these firefighters would NOT of made it to the 79th floor carrying over 60 lbs of gear. Having said that i now have a greater respect for firefighters and i realize becoming a firefighter is a life altering job. The French have a history of making great documentary\\'s and that is what this is, a Great Documentary.....'\n",
      "label:  1\n",
      "\n",
      "\n"
     ]
    }
   ],
   "source": [
    "for text, label in raw_train_ds.take(1):\n",
    "    for i in range(3):\n",
    "        print(\"review: \", text.numpy()[i])\n",
    "        print(\"label: \", label.numpy()[i])\n",
    "        print(\"\\n\")"
   ]
  },
  {
   "cell_type": "markdown",
   "id": "indian-pierce",
   "metadata": {},
   "source": [
    "### Prepare the data\n",
    "* remove html\n",
    "* remove punctuation\n",
    "* vectorize text\n",
    "\n",
    "*Tokenization* - split string into tokens, eg. sentance to words \n",
    "\n",
    "*Vectorization* - converting tokens to numbers, allows them to be fed into the neural network\n",
    "\n",
    "We will use `preprocessing.TextVectorization`, this will remove punctuation but not html\n"
   ]
  },
  {
   "cell_type": "code",
   "execution_count": 10,
   "id": "auburn-poison",
   "metadata": {},
   "outputs": [],
   "source": [
    "# convert to lowercase and remove html\n",
    "\n",
    "def custom_standardization(input_data):\n",
    "  lowercase = tf.strings.lower(input_data)\n",
    "  stripped_html = tf.strings.regex_replace(lowercase, '<br />', ' ')\n",
    "  return tf.strings.regex_replace(stripped_html,\n",
    "                                  '[%s]' % re.escape(string.punctuation),\n",
    "                                  '')\n"
   ]
  },
  {
   "cell_type": "markdown",
   "id": "virgin-disclaimer",
   "metadata": {},
   "source": [
    "create the *vecorization* layer (standardize, tokenize, and vectorize)\n",
    "\n",
    "it will use the `custom_standardization` and will output an `int` (vectorization)"
   ]
  },
  {
   "cell_type": "code",
   "execution_count": 11,
   "id": "former-employer",
   "metadata": {},
   "outputs": [],
   "source": [
    "max_features = 10000\n",
    "sequence_length = 250\n",
    "\n",
    "vectorize_layer = TextVectorization(\n",
    "    standardize = custom_standardization,\n",
    "    max_tokens = max_features,\n",
    "    output_mode = 'int',\n",
    "    output_sequence_length=sequence_length\n",
    ")"
   ]
  },
  {
   "cell_type": "markdown",
   "id": "greater-administration",
   "metadata": {},
   "source": [
    "next we fit the state of the preprocessing layer to the dataset, using `adapt` "
   ]
  },
  {
   "cell_type": "code",
   "execution_count": 12,
   "id": "motivated-indian",
   "metadata": {},
   "outputs": [],
   "source": [
    "# first remove the labels (i.e. text only dataset)\n",
    "train_text = raw_train_ds.map(lambda x, y : x)\n",
    "\n",
    "# then call adapt\n",
    "vectorize_layer.adapt(train_text)\n"
   ]
  },
  {
   "cell_type": "markdown",
   "id": "accepting-woman",
   "metadata": {},
   "source": [
    "defien a vectorization function"
   ]
  },
  {
   "cell_type": "code",
   "execution_count": 13,
   "id": "square-statistics",
   "metadata": {},
   "outputs": [],
   "source": [
    "def vectorize_text(text, label):\n",
    "  text = tf.expand_dims(text, -1)\n",
    "  return vectorize_layer(text), label"
   ]
  },
  {
   "cell_type": "markdown",
   "id": "adopted-defense",
   "metadata": {},
   "source": [
    "**investigate the data**"
   ]
  },
  {
   "cell_type": "code",
   "execution_count": 15,
   "id": "analyzed-chorus",
   "metadata": {},
   "outputs": [
    {
     "name": "stdout",
     "output_type": "stream",
     "text": [
      "1287:  silent\n",
      "length:  10000\n"
     ]
    }
   ],
   "source": [
    "print('1287: ', vectorize_layer.get_vocabulary()[1287])\n",
    "print('length: ', len(vectorize_layer.get_vocabulary()))"
   ]
  },
  {
   "cell_type": "code",
   "execution_count": 16,
   "id": "boolean-champagne",
   "metadata": {},
   "outputs": [
    {
     "name": "stdout",
     "output_type": "stream",
     "text": [
      "Review tf.Tensor(b'Silent Night, Deadly Night 5 is the very last of the series, and like part 4, it\\'s unrelated to the first three except by title and the fact that it\\'s a Christmas-themed horror flick.<br /><br />Except to the oblivious, there\\'s some obvious things going on here...Mickey Rooney plays a toymaker named Joe Petto and his creepy son\\'s name is Pino. Ring a bell, anyone? Now, a little boy named Derek heard a knock at the door one evening, and opened it to find a present on the doorstep for him. Even though it said \"don\\'t open till Christmas\", he begins to open it anyway but is stopped by his dad, who scolds him and sends him to bed, and opens the gift himself. Inside is a little red ball that sprouts Santa arms and a head, and proceeds to kill dad. Oops, maybe he should have left well-enough alone. Of course Derek is then traumatized by the incident since he watched it from the stairs, but he doesn\\'t grow up to be some killer Santa, he just stops talking.<br /><br />There\\'s a mysterious stranger lurking around, who seems very interested in the toys that Joe Petto makes. We even see him buying a bunch when Derek\\'s mom takes him to the store to find a gift for him to bring him out of his trauma. And what exactly is this guy doing? Well, we\\'re not sure but he does seem to be taking these toys apart to see what makes them tick. He does keep his landlord from evicting him by promising him to pay him in cash the next day and presents him with a \"Larry the Larvae\" toy for his kid, but of course \"Larry\" is not a good toy and gets out of the box in the car and of course, well, things aren\\'t pretty.<br /><br />Anyway, eventually what\\'s going on with Joe Petto and Pino is of course revealed, and as with the old story, Pino is not a \"real boy\". Pino is probably even more agitated and naughty because he suffers from \"Kenitalia\" (a smooth plastic crotch) so that could account for his evil ways. And the identity of the lurking stranger is revealed too, and there\\'s even kind of a happy ending of sorts. Whee.<br /><br />A step up from part 4, but not much of one. Again, Brian Yuzna is involved, and Screaming Mad George, so some decent special effects, but not enough to make this great. A few leftovers from part 4 are hanging around too, like Clint Howard and Neith Hunter, but that doesn\\'t really make any difference. Anyway, I now have seeing the whole series out of my system. Now if I could get some of it out of my brain. 4 out of 5.', shape=(), dtype=string)\n",
      "Label neg\n",
      "Vectorized review (<tf.Tensor: shape=(1, 250), dtype=int64, numpy=\n",
      "array([[1287,  313, 2380,  313,  661,    7,    2,   52,  229,    5,    2,\n",
      "         200,    3,   38,  170,  669,   29, 5492,    6,    2,   83,  297,\n",
      "         549,   32,  410,    3,    2,  186,   12,   29,    4,    1,  191,\n",
      "         510,  549,    6,    2, 8229,  212,   46,  576,  175,  168,   20,\n",
      "           1, 5361,  290,    4,    1,  761,  969,    1,    3,   24,  935,\n",
      "        2271,  393,    7,    1, 1675,    4, 3747,  250,  148,    4,  112,\n",
      "         436,  761, 3529,  548,    4, 3633,   31,    2, 1331,   28, 2096,\n",
      "           3, 2912,    9,    6,  163,    4, 1006,   20,    2,    1,   15,\n",
      "          85,   53,  147,    9,  292,   89,  959, 2314,  984,   27,  762,\n",
      "           6,  959,    9,  564,   18,    7, 2140,   32,   24, 1254,   36,\n",
      "           1,   85,    3, 3298,   85,    6, 1410,    3, 1936,    2, 3408,\n",
      "         301,  965,    7,    4,  112,  740, 1977,   12,    1, 2014, 2772,\n",
      "           3,    4,  428,    3, 5177,    6,  512, 1254,    1,  278,   27,\n",
      "         139,   25,  308,    1,  579,    5,  259, 3529,    7,   92, 8981,\n",
      "          32,    2, 3842,  230,   27,  289,    9,   35,    2, 5712,   18,\n",
      "          27,  144, 2166,   56,    6,   26,   46,  466, 2014,   27,   40,\n",
      "        2745,  657,  212,    4, 1376, 3002, 7080,  183,   36,  180,   52,\n",
      "         920,    8,    2, 4028,   12,  969,    1,  158,   71,   53,   67,\n",
      "          85, 2754,    4,  734,   51,    1, 1611,  294,   85,    6,    2,\n",
      "        1164,    6,  163,    4, 3408,   15,   85,    6,  717,   85,   44,\n",
      "           5,   24, 7158,    3,   48,  604,    7,   11,  225,  384,   73,\n",
      "          65,   21,  242,   18,   27,  120,  295,    6,   26,  667,  129,\n",
      "        4028,  948,    6,   67,   48,  158,   93,    1]])>, <tf.Tensor: shape=(), dtype=int32, numpy=0>)\n"
     ]
    }
   ],
   "source": [
    "# retrieve a batch (of 32 reviews and labels) from the dataset\n",
    "text_batch, label_batch = next(iter(raw_train_ds))\n",
    "first_review, first_label = text_batch[0], label_batch[0]\n",
    "print(\"Review\", first_review)\n",
    "print(\"Label\", raw_train_ds.class_names[first_label])\n",
    "print(\"Vectorized review\", vectorize_text(first_review, first_label))"
   ]
  },
  {
   "cell_type": "markdown",
   "id": "central-lithuania",
   "metadata": {},
   "source": [
    "### Map the vectorization layer to the datasets\n"
   ]
  },
  {
   "cell_type": "code",
   "execution_count": 17,
   "id": "interested-fleet",
   "metadata": {},
   "outputs": [],
   "source": [
    "train_ds = raw_train_ds.map(vectorize_text)\n",
    "val_ds = raw_val_ds.map(vectorize_text)\n",
    "test_ds = raw_test_ds.map(vectorize_text)"
   ]
  },
  {
   "cell_type": "markdown",
   "id": "flying-sally",
   "metadata": {},
   "source": [
    "### Configure the dataset for performance\n",
    "\n",
    "2 methods used when loading data, to make sure the I/O does not becoming blocking\n",
    "\n",
    "`cache()` - cache the data in memory, we can also store on disk if very large\n",
    "\n",
    "`prefetch()` - overlaps preprocessing and model execution when training"
   ]
  },
  {
   "cell_type": "code",
   "execution_count": 20,
   "id": "electrical-defeat",
   "metadata": {},
   "outputs": [],
   "source": [
    "AUTOTUNE = tf.data.AUTOTUNE\n",
    "\n",
    "train_ds = train_ds.cache().prefetch(buffer_size=AUTOTUNE)\n",
    "val_ds = val_ds.cache().prefetch(buffer_size=AUTOTUNE)\n",
    "test_ds = test_ds.cache().prefetch(buffer_size=AUTOTUNE)"
   ]
  },
  {
   "cell_type": "markdown",
   "id": "affiliated-bundle",
   "metadata": {},
   "source": [
    "## Create the model\n",
    "\n",
    "Layers:\n",
    "1. `Embedding` - takes ints and looks up embedding vector for each word-index. Vectors are learned during training\n",
    "2. `GlobalAveragePooling1D` - \"returns a fixed-length output vector for each example by averaging over the sequence dimension\"\n",
    "3. `Dense` - hidden, fully connected layer with $n$ hidden units\n",
    "4. Single output node, densly connected\n",
    "\n",
    "\n",
    "\n",
    "`Dropout` helps prevent overfitting\n",
    "\n",
    "N.B. embedding is the process of taking high-dimensional vectors and passing them into a (simpler) low-dimensional space."
   ]
  },
  {
   "cell_type": "code",
   "execution_count": 23,
   "id": "qualified-yesterday",
   "metadata": {},
   "outputs": [
    {
     "name": "stdout",
     "output_type": "stream",
     "text": [
      "Model: \"sequential_1\"\n",
      "_________________________________________________________________\n",
      "Layer (type)                 Output Shape              Param #   \n",
      "=================================================================\n",
      "embedding_1 (Embedding)      (None, None, 16)          160016    \n",
      "_________________________________________________________________\n",
      "dropout_2 (Dropout)          (None, None, 16)          0         \n",
      "_________________________________________________________________\n",
      "global_average_pooling1d_1 ( (None, 16)                0         \n",
      "_________________________________________________________________\n",
      "dropout_3 (Dropout)          (None, 16)                0         \n",
      "_________________________________________________________________\n",
      "dense_1 (Dense)              (None, 1)                 17        \n",
      "=================================================================\n",
      "Total params: 160,033\n",
      "Trainable params: 160,033\n",
      "Non-trainable params: 0\n",
      "_________________________________________________________________\n"
     ]
    }
   ],
   "source": [
    "embedding_dim = 16\n",
    "\n",
    "model= tf.keras.Sequential([\n",
    "    layers.Embedding(max_features + 1, embedding_dim),\n",
    "    layers.Dropout(0.2),\n",
    "    layers.GlobalAveragePooling1D(),\n",
    "    layers.Dropout(0.2),\n",
    "    layers.Dense(1)\n",
    "])\n",
    "\n",
    "model.summary()"
   ]
  },
  {
   "cell_type": "markdown",
   "id": "stone-hindu",
   "metadata": {},
   "source": [
    "## Loss function and optimiser\n",
    "\n",
    "Binary and model outputs probability, we will use `losses.BinaryCrossentropy`.\n",
    "\n"
   ]
  },
  {
   "cell_type": "code",
   "execution_count": 24,
   "id": "visible-charger",
   "metadata": {},
   "outputs": [],
   "source": [
    "model.compile(\n",
    "    loss=losses.BinaryCrossentropy(from_logits=True),\n",
    "    optimizer = 'adam',\n",
    "    metrics=tf.metrics.BinaryAccuracy(threshold=0.0)\n",
    ")"
   ]
  },
  {
   "cell_type": "markdown",
   "id": "grand-recycling",
   "metadata": {},
   "source": [
    "## Train the model"
   ]
  },
  {
   "cell_type": "code",
   "execution_count": 25,
   "id": "appreciated-revolution",
   "metadata": {},
   "outputs": [
    {
     "name": "stdout",
     "output_type": "stream",
     "text": [
      "Epoch 1/10\n",
      "625/625 [==============================] - 13s 20ms/step - loss: 0.6809 - binary_accuracy: 0.6177 - val_loss: 0.6127 - val_binary_accuracy: 0.7746\n",
      "Epoch 2/10\n",
      "625/625 [==============================] - 2s 2ms/step - loss: 0.5781 - binary_accuracy: 0.7856 - val_loss: 0.4971 - val_binary_accuracy: 0.8230\n",
      "Epoch 3/10\n",
      "625/625 [==============================] - 2s 2ms/step - loss: 0.4648 - binary_accuracy: 0.8370 - val_loss: 0.4193 - val_binary_accuracy: 0.8476\n",
      "Epoch 4/10\n",
      "625/625 [==============================] - 1s 2ms/step - loss: 0.3901 - binary_accuracy: 0.8619 - val_loss: 0.3733 - val_binary_accuracy: 0.8608\n",
      "Epoch 5/10\n",
      "625/625 [==============================] - 2s 2ms/step - loss: 0.3426 - binary_accuracy: 0.8756 - val_loss: 0.3445 - val_binary_accuracy: 0.8674\n",
      "Epoch 6/10\n",
      "625/625 [==============================] - 1s 2ms/step - loss: 0.3101 - binary_accuracy: 0.8885 - val_loss: 0.3255 - val_binary_accuracy: 0.8718\n",
      "Epoch 7/10\n",
      "625/625 [==============================] - 2s 2ms/step - loss: 0.2852 - binary_accuracy: 0.8963 - val_loss: 0.3122 - val_binary_accuracy: 0.8744\n",
      "Epoch 8/10\n",
      "625/625 [==============================] - 1s 2ms/step - loss: 0.2645 - binary_accuracy: 0.9054 - val_loss: 0.3028 - val_binary_accuracy: 0.8760\n",
      "Epoch 9/10\n",
      "625/625 [==============================] - 2s 2ms/step - loss: 0.2477 - binary_accuracy: 0.9134 - val_loss: 0.2965 - val_binary_accuracy: 0.8780\n",
      "Epoch 10/10\n",
      "625/625 [==============================] - 2s 3ms/step - loss: 0.2329 - binary_accuracy: 0.9148 - val_loss: 0.2914 - val_binary_accuracy: 0.8794\n"
     ]
    }
   ],
   "source": [
    "epochs = 10\n",
    "\n",
    "history = model.fit(\n",
    "    train_ds,\n",
    "    validation_data=val_ds,\n",
    "    epochs=epochs\n",
    ")"
   ]
  },
  {
   "cell_type": "markdown",
   "id": "instrumental-triumph",
   "metadata": {},
   "source": [
    "## Evaluate the model"
   ]
  },
  {
   "cell_type": "code",
   "execution_count": 26,
   "id": "ordered-chart",
   "metadata": {},
   "outputs": [
    {
     "name": "stdout",
     "output_type": "stream",
     "text": [
      "782/782 [==============================] - 16s 20ms/step - loss: 0.3100 - binary_accuracy: 0.8737\n"
     ]
    },
    {
     "data": {
      "text/plain": [
       "[0.31000372767448425, 0.8737199902534485]"
      ]
     },
     "execution_count": 26,
     "metadata": {},
     "output_type": "execute_result"
    }
   ],
   "source": [
    "model.evaluate(test_ds)"
   ]
  },
  {
   "cell_type": "markdown",
   "id": "latin-performance",
   "metadata": {},
   "source": [
    "our accuracy is about 87% with this approach (a quick and dirty fix)"
   ]
  },
  {
   "cell_type": "markdown",
   "id": "sunset-polymer",
   "metadata": {},
   "source": [
    "## Accuracy and loss over time\n",
    "How well did the training go? \n",
    "\n",
    "We can plot *accuracy* and *loss* for the training and the validation.\n",
    "\n",
    "`model.fit()` returns `history`, a dict of the training.history\n",
    "\n",
    "\n",
    "\n",
    "**Training loss** is the error on the training set of data. \n",
    "\n",
    "**Validation loss** is the error after running the validation set of data through the trained network\n"
   ]
  },
  {
   "cell_type": "code",
   "execution_count": 28,
   "id": "running-pillow",
   "metadata": {},
   "outputs": [
    {
     "data": {
      "text/plain": [
       "dict_keys(['loss', 'binary_accuracy', 'val_loss', 'val_binary_accuracy'])"
      ]
     },
     "execution_count": 28,
     "metadata": {},
     "output_type": "execute_result"
    }
   ],
   "source": [
    "history_dict = history.history\n",
    "history_dict.keys()\n"
   ]
  },
  {
   "cell_type": "code",
   "execution_count": 31,
   "id": "assured-pension",
   "metadata": {},
   "outputs": [
    {
     "data": {
      "image/png": "[encoded data removed]",
      "text/plain": [
       "<Figure size 864x432 with 2 Axes>"
      ]
     },
     "metadata": {
      "filenames": {
       "image/png": "/Users/jacobbrown/Documents/Productivity/notes_Jupyter/mynotesbook/programming_notes/programming_notes/_build/jupyter_execute/ml_basic_text_49_0.png"
      },
      "needs_background": "light"
     },
     "output_type": "display_data"
    }
   ],
   "source": [
    "acc = history_dict['binary_accuracy']\n",
    "val_acc = history_dict['val_binary_accuracy']\n",
    "loss = history_dict['loss']\n",
    "val_loss = history_dict['val_loss']\n",
    "\n",
    "epochs = range(1, len(acc) + 1)\n",
    "\n",
    "\n",
    "def plotVal():\n",
    "    plt.plot(epochs, loss, 'bo', label='Training loss')\n",
    "    # b is for \"solid blue line\"\n",
    "    plt.plot(epochs, val_loss, 'b', label='Validation loss')\n",
    "    plt.title('Training and validation loss')\n",
    "    plt.xlabel('Epochs')\n",
    "    plt.ylabel('Loss')\n",
    "    plt.legend()\n",
    "\n",
    "def plotAcc():\n",
    "    plt.plot(epochs, acc, 'bo', label='Training acc')\n",
    "    plt.plot(epochs, val_acc, 'b', label='Validation acc')\n",
    "    plt.title('Training and validation accuracy')\n",
    "    plt.xlabel('Epochs')\n",
    "    plt.ylabel('Accuracy')\n",
    "    plt.legend(loc='lower right')\n",
    "\n",
    "\n",
    "plt.figure(figsize=(12,6))\n",
    "plt.subplot(1, 2, 1)\n",
    "plotVal()\n",
    "plt.subplot(1,2,2)\n",
    "plotAcc()\n",
    "plt.show()\n"
   ]
  },
  {
   "cell_type": "markdown",
   "id": "fuzzy-pitch",
   "metadata": {},
   "source": [
    "**training**: loss decrease, and accuracy increase - what we want and expect\n",
    "\n",
    "**validation**: loss and accuracy plateau before the training - not really what we want\n",
    "\n",
    "From this the validation dataset (i.e. \"new data\") underperforms, due to *overfitting*. The model performs far better on the training dataset than it does on the new data."
   ]
  },
  {
   "cell_type": "markdown",
   "id": "following-authentication",
   "metadata": {},
   "source": [
    "## Export the model\n",
    "\n",
    "We may want to include the `TextVectorization` layer in our model before feeding it more data. \n",
    "\n",
    "We can create a new model by using the existing trained one. "
   ]
  },
  {
   "cell_type": "code",
   "execution_count": 32,
   "id": "upper-twist",
   "metadata": {},
   "outputs": [],
   "source": [
    "export_model = tf.keras.Sequential([\n",
    "    vectorize_layer,\n",
    "    model,\n",
    "    layers.Activation('sigmoid')\n",
    "])\n",
    "\n",
    "export_model.compile(\n",
    "    loss=losses.BinaryCrossentropy(from_logits=False),\n",
    "    optimizer = 'adam',\n",
    "    metrics= ['accuracy']\n",
    ")"
   ]
  },
  {
   "cell_type": "code",
   "execution_count": 44,
   "id": "experimental-memphis",
   "metadata": {},
   "outputs": [
    {
     "data": {
      "text/plain": [
       "array([[0.6968127 ],\n",
       "       [0.43794838],\n",
       "       [0.6660558 ],\n",
       "       [0.47758237]], dtype=float32)"
      ]
     },
     "execution_count": 44,
     "metadata": {},
     "output_type": "execute_result"
    }
   ],
   "source": [
    "# test with raw strings\n",
    "\n",
    "examples = [\n",
    "    \"What a great film!\",\n",
    "    \"load of crap\",\n",
    "    \"best film of the year :)\",\n",
    "    \"rubbish film, not worth your time\"\n",
    "]\n",
    "\n",
    "export_model.predict(examples)\n"
   ]
  },
  {
   "cell_type": "code",
   "execution_count": 45,
   "id": "afraid-reputation",
   "metadata": {},
   "outputs": [
    {
     "name": "stdout",
     "output_type": "stream",
     "text": [
      "label 0:  neg\n",
      "label 1:  pos\n"
     ]
    }
   ],
   "source": [
    "print(\"label 0: \", raw_train_ds.class_names[0])\n",
    "print(\"label 1: \", raw_train_ds.class_names[1])"
   ]
  }
 ],
 "metadata": {
  "kernelspec": {
   "display_name": "Python 3",
   "language": "python",
   "name": "python3"
  },
  "language_info": {
   "codemirror_mode": {
    "name": "ipython",
    "version": 3
   },
   "file_extension": ".py",
   "mimetype": "text/x-python",
   "name": "python",
   "nbconvert_exporter": "python",
   "pygments_lexer": "ipython3",
   "version": "3.8.7"
  }
 },
 "nbformat": 4,
 "nbformat_minor": 5
}