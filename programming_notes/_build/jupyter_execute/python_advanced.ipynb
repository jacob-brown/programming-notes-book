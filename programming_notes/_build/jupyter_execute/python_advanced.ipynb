{
 "cells": [
  {
   "cell_type": "markdown",
   "id": "unavailable-liver",
   "metadata": {},
   "source": [
    "# Python: Advanced"
   ]
  },
  {
   "cell_type": "markdown",
   "id": "offensive-density",
   "metadata": {},
   "source": [
    "## Classes\n",
    "\n",
    "**Classes** are like blueprints for creating objects.\n",
    "\n",
    "**Instances** are what is built using the class.\n",
    "\n",
    "The `__init__()` function is found in all **classes**. It is used to assign values to object properties, or  other operations when the *object is being created*.\n",
    "\n",
    "`self` is used to reference the current instance of the class, and is used to access variables that belong to the class. *it doesn't need to be named self*\n",
    "\n",
    "Classes can contain **methods** (in object functions)\n"
   ]
  },
  {
   "cell_type": "code",
   "execution_count": 1,
   "id": "sufficient-catholic",
   "metadata": {},
   "outputs": [
    {
     "name": "stdout",
     "output_type": "stream",
     "text": [
      "Ford\n",
      "150\n"
     ]
    }
   ],
   "source": [
    "class car:\n",
    "    def __init__(self, make, topspeed):\n",
    "        self.make = make\n",
    "        self.topspeed = topspeed\n",
    "\n",
    "blueCar = car(\"Ford\", \"150\")\n",
    "\n",
    "print(blueCar.make)\n",
    "print(blueCar.topspeed)"
   ]
  },
  {
   "cell_type": "markdown",
   "id": "bronze-language",
   "metadata": {},
   "source": [
    "add a method to the class"
   ]
  },
  {
   "cell_type": "code",
   "execution_count": 2,
   "id": "distributed-reliance",
   "metadata": {},
   "outputs": [
    {
     "name": "stdout",
     "output_type": "stream",
     "text": [
      "Hello I am a tiger\n"
     ]
    }
   ],
   "source": [
    "class animal:\n",
    "    def __init__(self, name, weight, habitat):\n",
    "        self.name = name\n",
    "        self.weight = weight\n",
    "        self.habitat = habitat\n",
    "    \n",
    "    def sayHello(self):\n",
    "        print(\"Hello I am a \" + self.name)\n",
    "\n",
    "        \n",
    "tiger =  animal(\"tiger\", 200, \"forest\")\n",
    "\n",
    "tiger.sayHello()"
   ]
  },
  {
   "cell_type": "markdown",
   "id": "ignored-running",
   "metadata": {},
   "source": [
    "modifying object parameters is similar to normal python sytax  "
   ]
  },
  {
   "cell_type": "code",
   "execution_count": 3,
   "id": "generous-farmer",
   "metadata": {},
   "outputs": [
    {
     "name": "stdout",
     "output_type": "stream",
     "text": [
      "220\n",
      "{'name': 'tiger', 'weight': 220}\n"
     ]
    }
   ],
   "source": [
    "tiger.weight = 220\n",
    "print(tiger.weight)\n",
    "\n",
    "del tiger.habitat\n",
    "print(tiger.__dict__) # quick investigation"
   ]
  },
  {
   "cell_type": "markdown",
   "id": "under-hostel",
   "metadata": {},
   "source": [
    "### Attribute Visibility\n",
    "\n",
    "public - **no change**\n",
    "\n",
    "protected - **1 underscore prefix**\n",
    "\n",
    "private - **2 underscore prefix**"
   ]
  },
  {
   "cell_type": "code",
   "execution_count": 4,
   "id": "elegant-brighton",
   "metadata": {},
   "outputs": [
    {
     "name": "stdout",
     "output_type": "stream",
     "text": [
      "jacob\n",
      "30000\n"
     ]
    }
   ],
   "source": [
    "class employee:\n",
    "    def __init__(self, name, salary, bonus):\n",
    "        self.name = name # public\n",
    "        self._salary = salary # protected\n",
    "        self.__bonus = bonus # private\n",
    "        \n",
    "jacob = employee(\"jacob\", 30000, 2000)\n",
    "print(jacob.name)\n",
    "print(jacob._salary)\n",
    "#print(jacob.__bonus) # would return an error"
   ]
  },
  {
   "cell_type": "markdown",
   "id": "international-value",
   "metadata": {},
   "source": [
    "### Inheritance\n",
    "Inheritance allows us to define a class that inherits methods and properties from another class. \n",
    "\n",
    "**parent** and **child** classes will be used.\n",
    "\n"
   ]
  },
  {
   "cell_type": "code",
   "execution_count": 5,
   "id": "persistent-function",
   "metadata": {},
   "outputs": [
    {
     "name": "stdout",
     "output_type": "stream",
     "text": [
      "Great White\n"
     ]
    }
   ],
   "source": [
    "# Parent class\n",
    "\n",
    "class animal:\n",
    "    def __init__(self, name, weight, habitat):\n",
    "        self.name = name\n",
    "        self.weight = weight\n",
    "        self.habitat = habitat\n",
    "    \n",
    "    def sayHello(self):\n",
    "        print(\"Hello I am a \" + self.name)\n",
    "\n",
    "        \n",
    "# Child class\n",
    "\n",
    "class fish(animal):\n",
    "    pass # used for empty classes\n",
    "\n",
    "shark = fish(\"Great White\", \"1000\", \"tropical ocean\")\n",
    "\n",
    "print(shark.name)\n",
    "\n"
   ]
  },
  {
   "cell_type": "markdown",
   "id": "theoretical-hygiene",
   "metadata": {},
   "source": [
    "if we were to add the `__init__()` function, the child overrides that of the parents class.\n",
    "\n",
    "To keep it, add a call to the parents `__init__()` directly or use `super()`"
   ]
  },
  {
   "cell_type": "code",
   "execution_count": 6,
   "id": "close-rating",
   "metadata": {},
   "outputs": [
    {
     "name": "stdout",
     "output_type": "stream",
     "text": [
      "{'name': 'Golden', 'weight': 2, 'habitat': 'mountains'}\n",
      "{'name': 'Grizzly', 'weight': 500, 'habitat': 'forest'}\n"
     ]
    }
   ],
   "source": [
    "class animal:\n",
    "    def __init__(self, name, weight, habitat):\n",
    "        self.name = name\n",
    "        self.weight = weight\n",
    "        self.habitat = habitat\n",
    "\n",
    "\n",
    "# explicitly calling\n",
    "class bird(animal):\n",
    "    def __init__(self, name, weight, habitat):\n",
    "        animal.__init__(self, name, weight, habitat)\n",
    "\n",
    "        \n",
    "# using super()\n",
    "class mammal(animal):\n",
    "    def __init__(self, name, weight, habitat):\n",
    "        super().__init__(name, weight, habitat)\n",
    "\n",
    "        \n",
    "        \n",
    "eagle = bird(\"Golden\", 2, \"mountains\")\n",
    "print(eagle.__dict__)\n",
    "\n",
    "bear = mammal(\"Grizzly\", 500, \"forest\")\n",
    "print(bear.__dict__)"
   ]
  },
  {
   "cell_type": "markdown",
   "id": "ceramic-bunch",
   "metadata": {},
   "source": [
    "properties can also be added at the inheritance stage"
   ]
  },
  {
   "cell_type": "code",
   "execution_count": 7,
   "id": "forced-repository",
   "metadata": {},
   "outputs": [
    {
     "name": "stdout",
     "output_type": "stream",
     "text": [
      "The  fire ant  has a colony size of  100000\n"
     ]
    },
    {
     "data": {
      "text/plain": [
       "{'name': 'fire ant',\n",
       " 'weight': 0.001,\n",
       " 'habitat': 'tropical forest',\n",
       " 'colonySize': 100000,\n",
       " 'exoskeleton': True}"
      ]
     },
     "execution_count": 7,
     "metadata": {},
     "output_type": "execute_result"
    }
   ],
   "source": [
    "class animal:\n",
    "    def __init__(self, name, weight, habitat):\n",
    "        self.name = name\n",
    "        self.weight = weight\n",
    "        self.habitat = habitat\n",
    "\n",
    "        \n",
    "class insect(animal):\n",
    "    def __init__(self, name, weight, habitat, colonySize):\n",
    "        super().__init__(name, weight, habitat)\n",
    "        self.colonySize = colonySize\n",
    "        self.exoskeleton = True # you can also add properties that aren't assigned\n",
    "    \n",
    "    def printColonySize(self):\n",
    "        print(\"The \", self.name, \" has a colony size of \", self.colonySize)\n",
    "\n",
    "        \n",
    "        \n",
    "ant = insect(\"fire ant\", 0.001, \"tropical forest\", 100000)\n",
    "\n",
    "ant.printColonySize()\n",
    "\n",
    "ant.__dict__"
   ]
  },
  {
   "cell_type": "markdown",
   "id": "expanded-notice",
   "metadata": {},
   "source": [
    "### Super - Extended\n",
    "\n",
    "from - https://realpython.com/python-super/#what-can-super-do-for-you\n",
    "\n",
    "`super(Square, self).__init__()`\n",
    "the first element should be the same name as the **new class**\n",
    "\n",
    "calling methods using super: `super().area()`\n",
    "\n",
    "imagine that we don't want to inherite a method eg. a cube should not be able to use `area()` outside of the class. \n",
    "\n",
    "In this instance we should **modify** the method by using the same name\n",
    "\n"
   ]
  },
  {
   "cell_type": "code",
   "execution_count": 8,
   "id": "environmental-summit",
   "metadata": {},
   "outputs": [
    {
     "name": "stdout",
     "output_type": "stream",
     "text": [
      "square\n",
      "16\n",
      "cube\n",
      "96\n"
     ]
    }
   ],
   "source": [
    "# superclass - parent\n",
    "class Rectangle:\n",
    "    def __init__(self, length, width):\n",
    "        self.length = length\n",
    "        self.width = width\n",
    "\n",
    "    def area(self):\n",
    "        return self.length * self.width\n",
    "\n",
    "    def perimeter(self):\n",
    "        return 2 * self.length + 2 * self.width\n",
    "\n",
    "\n",
    "# subclass - child\n",
    "class Square(Rectangle):\n",
    "    def __init__(self, length):\n",
    "        super(Square, self).__init__(length, length)\n",
    "\n",
    "\n",
    "class Cube(Square):\n",
    "    # modify an existing method\n",
    "    def area(self):\n",
    "        face_area = super().area()  # using the area() method\n",
    "        return face_area * 6\n",
    "\n",
    "    # add a new method\n",
    "    def volume(self):\n",
    "        face_area = super().area()\n",
    "        return face_area * self.length\n",
    "\n",
    "\n",
    "print(\"square\")\n",
    "squareObj = Square(4)\n",
    "print(squareObj.area())\n",
    "\n",
    "print(\"cube\")\n",
    "cubeObj = Cube(4)\n",
    "print(cubeObj.area())"
   ]
  },
  {
   "cell_type": "markdown",
   "id": "regulated-looking",
   "metadata": {},
   "source": [
    "### Multiple inheritance\n",
    "\n",
    "We must be careful when inheriting from multiple classes.\n",
    "\n",
    "For example, the below *will return an error*\n",
    "\n",
    "\n",
    "**Method Resolution Order** - is the order in which the methods are called. \n",
    "\n",
    "`__mro__` - provides info on the order"
   ]
  },
  {
   "cell_type": "code",
   "execution_count": 9,
   "id": "juvenile-indicator",
   "metadata": {},
   "outputs": [],
   "source": [
    "class Triangle:\n",
    "    def __init__(self, base, height):\n",
    "        self.base = base\n",
    "        self.height = height\n",
    "\n",
    "    def area(self):\n",
    "        return 0.5 * self.base * self.height\n",
    "\n",
    "\n",
    "# inherit from 2 classes\n",
    "class RightPyramid(Triangle, Square):\n",
    "    def __init__(self, base, slant_height):\n",
    "        self.base = base\n",
    "        self.slant_height = slant_height\n",
    "\n",
    "    def area(self):\n",
    "        base_area = super().area\n",
    "        perimeter = super().perimeter\n",
    "        return 0.5 * perimeter * self.slant_height + base_area\n",
    "\n",
    "pyramid = RightPyramid(2, 4)\n",
    "# pyramid.area() # returns an error"
   ]
  },
  {
   "cell_type": "code",
   "execution_count": 10,
   "id": "double-encoding",
   "metadata": {},
   "outputs": [
    {
     "data": {
      "text/plain": [
       "(__main__.RightPyramid,\n",
       " __main__.Triangle,\n",
       " __main__.Square,\n",
       " __main__.Rectangle,\n",
       " object)"
      ]
     },
     "execution_count": 10,
     "metadata": {},
     "output_type": "execute_result"
    }
   ],
   "source": [
    "# method resolution order\n",
    "RightPyramid.__mro__"
   ]
  },
  {
   "cell_type": "markdown",
   "id": "bronze-honey",
   "metadata": {},
   "source": [
    "note how the order is RightPyramid, Triangle, Square\n",
    "\n",
    "We want to switch the order of Triangle and Square"
   ]
  },
  {
   "cell_type": "code",
   "execution_count": 11,
   "id": "suited-police",
   "metadata": {},
   "outputs": [
    {
     "data": {
      "text/plain": [
       "(__main__.RightPyramidAlt,\n",
       " __main__.Square,\n",
       " __main__.Rectangle,\n",
       " __main__.Triangle,\n",
       " object)"
      ]
     },
     "execution_count": 11,
     "metadata": {},
     "output_type": "execute_result"
    }
   ],
   "source": [
    "class RightPyramidAlt(Square, Triangle):\n",
    "    def __init__(self, base, slant_height):\n",
    "        self.base = base\n",
    "        self.slant_height = slant_height\n",
    "\n",
    "    def area(self):\n",
    "        base_area = super().area\n",
    "        perimeter = super().perimeter\n",
    "        return 0.5 * perimeter * self.slant_height + base_area\n",
    "\n",
    "RightPyramidAlt.__mro__"
   ]
  },
  {
   "cell_type": "markdown",
   "id": "continent-alert",
   "metadata": {},
   "source": [
    "There are still some issues though: \n",
    "1. two separate classes with the same method name and signature i.e. we are inheriting the `area()` method from Square and Triange\n",
    "2. the new class doesn't distinguish between Triange and Square objects very well. i.e. they don't reference their superclass\n",
    "\n",
    "Issue 1 resolution: name the method `area()` differently eg. `squ_area` and `tri_area`\n",
    "\n",
    "\n",
    "Issue 2 resolution: \n",
    "* add `super().__init__()` to the `.__init__()` in Rectange and Trainge\n",
    "* allow `.__init__()` to take keyword dictionary"
   ]
  },
  {
   "cell_type": "markdown",
   "id": "reverse-dressing",
   "metadata": {},
   "source": [
    "Alternatively, we could define a new class "
   ]
  },
  {
   "cell_type": "code",
   "execution_count": 12,
   "id": "further-mentor",
   "metadata": {},
   "outputs": [
    {
     "name": "stdout",
     "output_type": "stream",
     "text": [
      "8\n"
     ]
    }
   ],
   "source": [
    "class Rectangle:\n",
    "    def __init__(self, length, width):\n",
    "        self.length = length\n",
    "        self.width = width\n",
    "\n",
    "    def area(self):\n",
    "        return self.length * self.width\n",
    "\n",
    "\n",
    "class Square(Rectangle):\n",
    "    def __init__(self, length):\n",
    "        super().__init__(length, length)\n",
    "\n",
    "\n",
    "# the new volume superclass\n",
    "class Volume:\n",
    "    def volume(self):\n",
    "        return self.area() * self.height\n",
    "\n",
    "\n",
    "# subclass\n",
    "class Cube(Volume, Square):\n",
    "    def __init__(self, length):\n",
    "        super().__init__(length)\n",
    "        self.height = length\n",
    "\n",
    "\n",
    "cube = Cube(2)\n",
    "print(cube.volume())"
   ]
  },
  {
   "cell_type": "markdown",
   "id": "further-default",
   "metadata": {},
   "source": [
    "### Iterators\n",
    "Is an object that can be iterated upon. \n",
    "\n",
    "Specifically consitsting of the metods `__iter__()` and `__next__()`\n",
    "\n",
    "`__iter__()` - returns the iterator object\n",
    "\n",
    "`__next__()` - returns the next item in the sequence\n",
    "\n"
   ]
  },
  {
   "cell_type": "code",
   "execution_count": 13,
   "id": "compact-operation",
   "metadata": {},
   "outputs": [
    {
     "name": "stdout",
     "output_type": "stream",
     "text": [
      "1\n",
      "2\n",
      "3\n"
     ]
    }
   ],
   "source": [
    "class numbers:\n",
    "    def __iter__(self):\n",
    "        self.a = 1\n",
    "        return self\n",
    "    \n",
    "    def __next__(self):\n",
    "        x = self.a\n",
    "        self.a += 1\n",
    "        return x\n",
    "\n",
    "myclass = numbers()\n",
    "myiter = iter(myclass)\n",
    "print(next(myiter))\n",
    "print(next(myiter))\n",
    "print(next(myiter))\n",
    "\n"
   ]
  },
  {
   "cell_type": "markdown",
   "id": "essential-vision",
   "metadata": {},
   "source": [
    "to stop the iteration use `StopIteration`"
   ]
  },
  {
   "cell_type": "code",
   "execution_count": 14,
   "id": "pleased-tumor",
   "metadata": {},
   "outputs": [
    {
     "name": "stdout",
     "output_type": "stream",
     "text": [
      "1\n",
      "2\n",
      "3\n",
      "4\n",
      "5\n",
      "6\n",
      "7\n",
      "8\n",
      "9\n",
      "10\n"
     ]
    }
   ],
   "source": [
    "class numbers:\n",
    "    def __iter__(self):\n",
    "        self.a = 1\n",
    "        return self\n",
    "    \n",
    "    def __next__(self):\n",
    "        if self.a <= 10:\n",
    "            x = self.a\n",
    "            self.a += 1\n",
    "            return x\n",
    "        else:\n",
    "            raise StopIteration\n",
    "\n",
    "myclass = numbers()\n",
    "myiter = iter(myclass)\n",
    "\n",
    "for x in myiter:\n",
    "    print(x)"
   ]
  },
  {
   "cell_type": "markdown",
   "id": "pending-budapest",
   "metadata": {},
   "source": [
    "## Class Concepts\n",
    "\n",
    "classes have a number of key concepts\n",
    "* inheritance - creating a new class from a parent\n",
    "* encapsulation - being unable to effect the core data, unless a function specifices this \n",
    "* Polymorphism - to use a common interface for multiple forms"
   ]
  },
  {
   "cell_type": "markdown",
   "id": "ultimate-bible",
   "metadata": {},
   "source": [
    "### Inheritance"
   ]
  },
  {
   "cell_type": "code",
   "execution_count": 15,
   "id": "popular-violation",
   "metadata": {},
   "outputs": [
    {
     "name": "stdout",
     "output_type": "stream",
     "text": [
      "hello I am a skate\n",
      "bubble bubble bubble\n",
      "I am a skate\n"
     ]
    }
   ],
   "source": [
    "# Parent class\n",
    "class animal:\n",
    "    def __init__(self, species, habitat, size):\n",
    "        self.species = species\n",
    "        self.habitat = habitat\n",
    "        self.size = size\n",
    "\n",
    "    def __str__(self):\n",
    "        return \"I am a \" + self.species\n",
    "\n",
    "    def sayHelloSpecies(self):\n",
    "        print(\"hello I am a \" + self.species)\n",
    "\n",
    "# child class\n",
    "class fish(animal):\n",
    "    def __init__(self, species, habitat, size):\n",
    "        super().__init__(species, habitat, size)\n",
    "\n",
    "    def fishSpeak(self):\n",
    "        print(\"bubble bubble bubble\")\n",
    "        \n",
    "        \n",
    "        \n",
    "        \n",
    "skate = fish(\"skate\", \"north sea\", 4)\n",
    "skate.sayHelloSpecies()\n",
    "skate.fishSpeak()\n",
    "print(skate)"
   ]
  },
  {
   "cell_type": "markdown",
   "id": "viral-algorithm",
   "metadata": {},
   "source": [
    "### Encapsulation \n",
    "\n",
    "note how the `__maxprice` cannot be changed without the use of the specificed function as it is a *private attribute*"
   ]
  },
  {
   "cell_type": "code",
   "execution_count": 16,
   "id": "remarkable-fitting",
   "metadata": {},
   "outputs": [
    {
     "name": "stdout",
     "output_type": "stream",
     "text": [
      "selling at price 900\n",
      "selling at price 900\n",
      "selling at price 1000\n"
     ]
    }
   ],
   "source": [
    "class Computer:\n",
    "    def __init__(self):\n",
    "        self.__maxprice = 900\n",
    "\n",
    "    def sell(self):\n",
    "        print(\"selling at price {}\".format(self.__maxprice))\n",
    "\n",
    "    def setMaxPrice(self, price):\n",
    "        self.__maxprice = price\n",
    "\n",
    "\n",
    "c = Computer()\n",
    "\n",
    "c.sell()\n",
    "\n",
    "# change the price - doesn't work! good\n",
    "c.__maxprice = 9\n",
    "c.sell()\n",
    "\n",
    "# using setter function - works\n",
    "c.setMaxPrice(1000)\n",
    "c.sell()"
   ]
  },
  {
   "cell_type": "markdown",
   "id": "under-induction",
   "metadata": {},
   "source": [
    "### Polymorphism\n",
    "\n",
    "We can have multiple common classes, that can be used by other functions/class/etc.\n",
    "\n",
    "the `flying_test()` function uses the `fly()` method in both the parrot and emu classes. "
   ]
  },
  {
   "cell_type": "code",
   "execution_count": 17,
   "id": "similar-walter",
   "metadata": {},
   "outputs": [
    {
     "name": "stdout",
     "output_type": "stream",
     "text": [
      "can fly\n",
      "cannot fly\n"
     ]
    }
   ],
   "source": [
    "# parent\n",
    "class animal:\n",
    "    def __init__(self, species, habitat, size):\n",
    "        self.species = species\n",
    "        self.habitat = habitat\n",
    "        self.size = size\n",
    "\n",
    "\n",
    "class parrot(animal):\n",
    "    def __init__(self, species, habitat, size):\n",
    "        super().__init__(species, habitat, size)\n",
    "\n",
    "    def fly(self):\n",
    "        print(\"can fly\")\n",
    "\n",
    "\n",
    "class emu(animal):\n",
    "    def __init__(self, species, habitat, size):\n",
    "        super().__init__(species, habitat, size)\n",
    "\n",
    "    def fly(self):\n",
    "        print(\"cannot fly\")\n",
    "\n",
    "\n",
    "# define a common test\n",
    "def flying_test(birdSpecies):\n",
    "    birdSpecies.fly()\n",
    "\n",
    "\n",
    "# create object and run tests\n",
    "polly = parrot(\"parrot\", \"tropics\", 1)\n",
    "paul = emu(\"emu\", \"tropics\", 67)\n",
    "flying_test(polly)\n",
    "flying_test(paul)\n"
   ]
  },
  {
   "cell_type": "markdown",
   "id": "surprised-chicago",
   "metadata": {},
   "source": [
    "## Custom iterators\n",
    "uses `__iter__()` and `__next__()` methods\n",
    "\n",
    "`__iter__()` - returns the iterator object\n",
    "\n",
    "`__next__()` - returns the next item in the sequence\n",
    "    it also requires use of `StopIteration`\n"
   ]
  },
  {
   "cell_type": "code",
   "execution_count": 18,
   "id": "blocked-geology",
   "metadata": {},
   "outputs": [
    {
     "name": "stdout",
     "output_type": "stream",
     "text": [
      "1\n",
      "2\n",
      "4\n",
      "8\n"
     ]
    }
   ],
   "source": [
    "class powerTwo:\n",
    "    def __init__(self, max=0):\n",
    "        self.max = max\n",
    "\n",
    "    def __iter__(self):\n",
    "        self.n = 0\n",
    "        return self\n",
    "\n",
    "    def __next__(self):\n",
    "        if self.n <= self.max:\n",
    "            result = 2 ** self.n\n",
    "            self.n += 1\n",
    "            return result\n",
    "        else:\n",
    "            raise StopIteration\n",
    "\n",
    "\n",
    "for i in powerTwo(3):\n",
    "    print(i)\n",
    "\n",
    "\n",
    "\n"
   ]
  },
  {
   "cell_type": "markdown",
   "id": "synthetic-phase",
   "metadata": {},
   "source": [
    "## Generators\n",
    "Are a simple way of creating iterations\n",
    "\n",
    "`yield` is used at least once in a function. It has the same effect as the `return` function, but pauses the functions state, allowing it to be iterable.\n",
    "\n",
    "`__iter__()` and `__next__()` methods are automatically initiated\n",
    "\n",
    "They are:\n",
    "* memory efficient\n",
    "* easier to understand\n"
   ]
  },
  {
   "cell_type": "code",
   "execution_count": 19,
   "id": "stuck-graduate",
   "metadata": {},
   "outputs": [
    {
     "name": "stdout",
     "output_type": "stream",
     "text": [
      "1\n",
      "2\n",
      "4\n",
      "8\n"
     ]
    }
   ],
   "source": [
    "def powerTwoAlt(max = 0):\n",
    "    n = 0 \n",
    "    while n <= max:\n",
    "        yield 2 ** n\n",
    "        n += 1\n",
    "\n",
    "for i in powerTwoAlt(3):\n",
    "    print(i)"
   ]
  },
  {
   "cell_type": "markdown",
   "id": "humanitarian-galaxy",
   "metadata": {},
   "source": [
    "An alternative is in the style of a list comprehension, but uses `()` over `[]`"
   ]
  },
  {
   "cell_type": "code",
   "execution_count": 20,
   "id": "offshore-extent",
   "metadata": {},
   "outputs": [
    {
     "name": "stdout",
     "output_type": "stream",
     "text": [
      "[1, 2, 4, 8]\n",
      "<generator object <genexpr> at 0x102e48970>\n",
      "1\n",
      "2\n",
      "4\n",
      "8\n"
     ]
    }
   ],
   "source": [
    "# list comprehension\n",
    "listPowerTwo = [2 ** x for x in range(0, 4)]\n",
    "\n",
    "# generator\n",
    "generatorPowerTwo = (2 ** x for x in range(0, 4))\n",
    "\n",
    "print(listPowerTwo)\n",
    "print(generatorPowerTwo)\n",
    "\n",
    "for i in generatorPowerTwo:\n",
    "    print(i)"
   ]
  },
  {
   "cell_type": "markdown",
   "id": "alien-support",
   "metadata": {},
   "source": [
    "## Closure\n",
    "if a function has a *nested* function with a value that must be *referenced in the enclosed function* then closure should be used. \n",
    "\n",
    "It is the concept of returning the nested function\n"
   ]
  },
  {
   "cell_type": "code",
   "execution_count": 21,
   "id": "trained-snapshot",
   "metadata": {},
   "outputs": [
    {
     "name": "stdout",
     "output_type": "stream",
     "text": [
      "hello there\n"
     ]
    }
   ],
   "source": [
    "def makePrinter(msg):\n",
    "    \n",
    "    def printer():\n",
    "        print(msg)\n",
    "        \n",
    "    def doSomethingElse():\n",
    "        return 0\n",
    "    \n",
    "    return printer\n",
    "\n",
    "testPrint = makePrinter(\"hello there\")\n",
    "testPrint()"
   ]
  },
  {
   "cell_type": "markdown",
   "id": "brazilian-water",
   "metadata": {},
   "source": [
    "## Decorators\n",
    "adds functionallity to existing code - *metacoding* \n",
    "\n",
    "decorators act as a wrapper\n",
    "\n",
    "Divider example, we are aiming to add functionality to: \n",
    "\n",
    "```python\n",
    "def divide(a, b):\n",
    "    return a / b\n",
    "```"
   ]
  },
  {
   "cell_type": "code",
   "execution_count": 22,
   "id": "mounted-rubber",
   "metadata": {},
   "outputs": [
    {
     "name": "stdout",
     "output_type": "stream",
     "text": [
      "I am going to divide  10  and  2\n"
     ]
    },
    {
     "data": {
      "text/plain": [
       "5.0"
      ]
     },
     "execution_count": 22,
     "metadata": {},
     "output_type": "execute_result"
    }
   ],
   "source": [
    "# the decorator function\n",
    "def describeDivide(func):\n",
    "    def innerDivide(a, b):\n",
    "        print(\"I am going to divide \", a, \" and \", b)\n",
    "    \n",
    "        return func(a, b) # returns answer\n",
    "    return innerDivide # returns statement\n",
    "\n",
    "\n",
    "@describeDivide\n",
    "def divide(a, b):\n",
    "    return a / b\n",
    "\n",
    "\n",
    "divide(10, 2)\n"
   ]
  },
  {
   "cell_type": "markdown",
   "id": "congressional-david",
   "metadata": {},
   "source": [
    "Decorators can be **chained together**, making the code more modular  \n",
    "\n",
    "in the below example:\n",
    "\n",
    "`args` is the tuple of positional arguments\n",
    "\n",
    "`kwargs` is the dictionary of keyword arguments\n",
    "\n",
    "thus...\n",
    "\n",
    "`function(*args, **kwargs)` is th ultimate python wildcard\n",
    "\n",
    "**pseudocode for decorators** \n",
    "1. define function\n",
    "2. define inner function allowing everything to pass\n",
    "3. print `*`s / `%`s\n",
    "4. Let the function run\n",
    "5. print `*`s / `%`s\n",
    "6. exit\n",
    "\n"
   ]
  },
  {
   "cell_type": "code",
   "execution_count": 23,
   "id": "supreme-omega",
   "metadata": {},
   "outputs": [
    {
     "name": "stdout",
     "output_type": "stream",
     "text": [
      "******************************\n",
      "%%%%%%%%%%%%%%%%%%%%%%%%%%%%%%\n",
      "Hello I am a banner\n",
      "%%%%%%%%%%%%%%%%%%%%%%%%%%%%%%\n",
      "******************************\n"
     ]
    }
   ],
   "source": [
    "def addStars(func):\n",
    "    def inner(*args, **kwargs):\n",
    "        print(\"*\" * 30)\n",
    "        func(*args, **kwargs)\n",
    "        print(\"*\" * 30)\n",
    "    return inner\n",
    "\n",
    "\n",
    "def addPercentage(func):\n",
    "    def inner(*args, **kwargs):\n",
    "        print(\"%\" * 30)\n",
    "        func(*args, **kwargs)\n",
    "        print(\"%\" * 30)\n",
    "    return inner\n",
    "\n",
    "\n",
    "# now chain them \n",
    "@addStars\n",
    "@addPercentage\n",
    "def printBanner(msg):\n",
    "    print(msg)\n",
    "\n",
    "printBanner(\"Hello I am a banner\")\n"
   ]
  },
  {
   "cell_type": "markdown",
   "id": "associate-orientation",
   "metadata": {},
   "source": [
    "## Getters, setters, and `property`\n",
    "\n",
    "When using getters and setters it is important to ensure we have backwards compatibility. \n",
    "\n",
    "For example, assume we want to convert the below use getters and setters"
   ]
  },
  {
   "cell_type": "code",
   "execution_count": 24,
   "id": "skilled-turner",
   "metadata": {},
   "outputs": [
    {
     "name": "stdout",
     "output_type": "stream",
     "text": [
      "panda\n"
     ]
    }
   ],
   "source": [
    "class animal:\n",
    "    def __init__(self, species):\n",
    "        self.species = species\n",
    "\n",
    "bear = animal(\"panda\")\n",
    "\n",
    "print(bear.species)"
   ]
  },
  {
   "cell_type": "code",
   "execution_count": 25,
   "id": "relevant-subdivision",
   "metadata": {},
   "outputs": [
    {
     "name": "stdout",
     "output_type": "stream",
     "text": [
      "panda\n",
      "grizzly\n"
     ]
    }
   ],
   "source": [
    "class animal:\n",
    "    def __init__(self, species):\n",
    "        self.setSpecies(species)\n",
    "    \n",
    "    def setSpecies(self, valueSpecies):\n",
    "        self.__species = valueSpecies # note the attribute is private\n",
    "    \n",
    "    def getSpecies(self):\n",
    "        return self.__species\n",
    "\n",
    "bear = animal(\"panda\")\n",
    "print(bear.getSpecies())\n",
    "bear.setSpecies(\"grizzly\")\n",
    "print(bear.getSpecies())"
   ]
  },
  {
   "cell_type": "markdown",
   "id": "important-paradise",
   "metadata": {},
   "source": [
    "So one issue we now face is that `bear.species` has now been replaced with `bear.getSpecies()`\n",
    "\n",
    "This is not backwards compatible...\n",
    "\n",
    "This is where `property` comes in! \n",
    "\n",
    "`property(fget=None, fset=None, fdel=None, doc=None)`\n",
    "\n",
    "`fget` - get value attribute\n",
    "\n",
    "`fset` - set value attribute\n",
    "\n",
    "`fdel` - delete value attribute\n",
    "\n",
    "`doc` - string value\n"
   ]
  },
  {
   "cell_type": "code",
   "execution_count": 26,
   "id": "popular-primary",
   "metadata": {},
   "outputs": [
    {
     "name": "stdout",
     "output_type": "stream",
     "text": [
      "panda\n",
      "grizzly\n"
     ]
    }
   ],
   "source": [
    "class animal:\n",
    "    def __init__(self, species):\n",
    "        self.setSpecies(species)\n",
    "    \n",
    "    def setSpecies(self, valueSpecies):\n",
    "        self.__species = valueSpecies # note the attribute is private\n",
    "    \n",
    "    def getSpecies(self):\n",
    "        return self.__species\n",
    "    \n",
    "    # enable backwards compatibility\n",
    "    species = property(fget=getSpecies, fset=setSpecies)\n",
    "\n",
    "bear = animal(\"panda\")\n",
    "print(bear.species)\n",
    "bear.species = \"grizzly\"\n",
    "print(bear.species)\n"
   ]
  },
  {
   "cell_type": "markdown",
   "id": "hindu-supervisor",
   "metadata": {},
   "source": [
    "### `@property` \n",
    "\n",
    "A more pythonic way, is to use the `@property`  decorator.\n",
    "\n",
    "Which has:\n",
    "* `getter (fget)` - this is the default with @property\n",
    "* `setter (fset)`\n",
    "* `deleter (fdel)`\n",
    "* `mro`\n",
    "\n",
    "When using the same name eg. `species` it is important that the visability is **private** or **protected** \n",
    "\n",
    "N.B. how `@property` is used for establising and getting and `@funcName.setter`/`@funcName.deleter` are used."
   ]
  },
  {
   "cell_type": "code",
   "execution_count": 27,
   "id": "colored-confusion",
   "metadata": {},
   "outputs": [],
   "source": [
    "class animal:\n",
    "    def __init__(self, species):\n",
    "        self.species = species \n",
    "        \n",
    "    @property \n",
    "    def species(self):\n",
    "        return self.__species\n",
    "    \n",
    "    @species.setter\n",
    "    def species(self, newSpecies):\n",
    "        self.__species = newSpecies\n",
    "        \n",
    "    @species.deleter\n",
    "    def species(self):\n",
    "        del self.__species"
   ]
  },
  {
   "cell_type": "code",
   "execution_count": 28,
   "id": "existing-aaron",
   "metadata": {},
   "outputs": [
    {
     "name": "stdout",
     "output_type": "stream",
     "text": [
      "panda\n",
      "grizzly\n",
      "{'_animal__species': 'grizzly'}\n",
      "{}\n"
     ]
    }
   ],
   "source": [
    "# initiate and get\n",
    "pandaBear = animal(\"panda\")\n",
    "print(pandaBear.species)\n",
    "\n",
    "# set\n",
    "pandaBear.species = \"grizzly\"\n",
    "print(pandaBear.species)\n",
    "\n",
    "# delete\n",
    "print(pandaBear.__dict__)\n",
    "del pandaBear.species\n",
    "print(pandaBear.__dict__)"
   ]
  },
  {
   "cell_type": "markdown",
   "id": "legal-collins",
   "metadata": {},
   "source": [
    "## Instant, Class, and Static Methods\n",
    "\n",
    "**Instant** - a basic class method, takes `self` and points to an instance of the class\n",
    "\n",
    "**Class** - takes a class parameter `cls` and points to the class when the method is called\n",
    "\n",
    "**Static** - do not require a class instance creation, thus are not dependent on the state of the object."
   ]
  },
  {
   "cell_type": "code",
   "execution_count": 29,
   "id": "beautiful-polyester",
   "metadata": {},
   "outputs": [],
   "source": [
    "class MyClass:\n",
    "    def method(self):\n",
    "        return 'instance method called', self\n",
    "\n",
    "    @classmethod\n",
    "    def classmethod(cls):\n",
    "        return 'class method called', cls\n",
    "\n",
    "    @staticmethod\n",
    "    def staticmethod():\n",
    "        return 'static method called'\n"
   ]
  },
  {
   "cell_type": "code",
   "execution_count": 30,
   "id": "signal-preparation",
   "metadata": {},
   "outputs": [
    {
     "data": {
      "text/plain": [
       "('instance method called', <__main__.MyClass at 0x102e254f0>)"
      ]
     },
     "execution_count": 30,
     "metadata": {},
     "output_type": "execute_result"
    }
   ],
   "source": [
    "obj = MyClass()\n",
    "obj.method()"
   ]
  },
  {
   "cell_type": "code",
   "execution_count": 31,
   "id": "interior-bubble",
   "metadata": {},
   "outputs": [
    {
     "data": {
      "text/plain": [
       "('class method called', __main__.MyClass)"
      ]
     },
     "execution_count": 31,
     "metadata": {},
     "output_type": "execute_result"
    }
   ],
   "source": [
    "obj.classmethod()"
   ]
  },
  {
   "cell_type": "code",
   "execution_count": 32,
   "id": "vital-thesis",
   "metadata": {},
   "outputs": [
    {
     "data": {
      "text/plain": [
       "'static method called'"
      ]
     },
     "execution_count": 32,
     "metadata": {},
     "output_type": "execute_result"
    }
   ],
   "source": [
    "obj.staticmethod()"
   ]
  },
  {
   "cell_type": "markdown",
   "id": "available-zambia",
   "metadata": {},
   "source": [
    "### Class methods: when to use\n",
    "\n",
    "One example of usage is with *factory functions*. These are predefined methods that feed back into the class.\n",
    "\n",
    "**Pizza example.**\n",
    "\n",
    "Assume we have a class `pizza` that allows users to define toppings. We also want to have some preset pizza types however. \n"
   ]
  },
  {
   "cell_type": "code",
   "execution_count": 33,
   "id": "underlying-syndrome",
   "metadata": {},
   "outputs": [
    {
     "name": "stdout",
     "output_type": "stream",
     "text": [
      "Ingredients: ['mozzarella']\n",
      "Ingredients: ['mozzarella', 'pineapple', 'sweetcorn', 'olives']\n",
      "Ingredients: ['mozzarella', 'pineapple', 'sweetcorn', 'olives']\n"
     ]
    }
   ],
   "source": [
    "class pizza:\n",
    "    def __init__(self, ingredients):\n",
    "        self.ingredients = ingredients\n",
    "    \n",
    "    def __repr__(self): \n",
    "        return \"Ingredients: {}\".format(self.ingredients)\n",
    "    \n",
    "    @classmethod\n",
    "    def jacobSpecial(cls):\n",
    "        return cls(['mozzarella', 'pineapple', 'sweetcorn', 'olives'])\n",
    "    \n",
    "    \n",
    "# we can use the class as normal\n",
    "standardPizza = pizza(['mozzarella'])\n",
    "print(standardPizza)\n",
    "\n",
    "\n",
    "# or we can call the classmethod\n",
    "print(pizza.jacobSpecial())\n",
    "\n",
    "\n",
    "# note how it exists in the new object\n",
    "print(standardPizza.jacobSpecial()) "
   ]
  },
  {
   "cell_type": "markdown",
   "id": "suited-finnish",
   "metadata": {},
   "source": [
    "### Static methods: when to use\n",
    "\n",
    "Day to day, static methods aren't used often.\n",
    "\n",
    "A large benefit is improving **code readability**, signifying that the method does not depend on state of the object itself.\n",
    "\n",
    "When then?:\n",
    "1. grouping a utility function in a class (because it can't go anywhere else)\n",
    "2. having a single implementation\n",
    "\n"
   ]
  },
  {
   "cell_type": "code",
   "execution_count": 34,
   "id": "blind-consent",
   "metadata": {},
   "outputs": [
    {
     "name": "stdout",
     "output_type": "stream",
     "text": [
      "01/01/2020\n"
     ]
    },
    {
     "data": {
      "text/plain": [
       "'01-01-2020'"
      ]
     },
     "execution_count": 34,
     "metadata": {},
     "output_type": "execute_result"
    }
   ],
   "source": [
    "# 1. grouping a utility function in a class (because it can't go anywhere else)\n",
    "\n",
    "class Dates:\n",
    "    def __init__(self, date):\n",
    "        self.__date = date\n",
    "    \n",
    "    def getDate(self):\n",
    "        return self.__date\n",
    "    \n",
    "    @staticmethod\n",
    "    def toDashDate(date):\n",
    "        return date.replace(\"/\", \"-\")\n",
    "\n",
    "dateObj = Dates(\"01/01/2020\")\n",
    "print(dateObj.getDate())\n",
    "\n",
    "Dates.toDashDate(\"01/01/2020\")"
   ]
  },
  {
   "cell_type": "markdown",
   "id": "earned-egypt",
   "metadata": {},
   "source": [
    "`toDashDate` is completely independent of the class and object, but storing the method here makes sense."
   ]
  },
  {
   "cell_type": "code",
   "execution_count": 35,
   "id": "artificial-belarus",
   "metadata": {},
   "outputs": [
    {
     "name": "stdout",
     "output_type": "stream",
     "text": [
      "01/01/2020\n",
      "15-12-2016\n"
     ]
    }
   ],
   "source": [
    "# 2. having a single implementation\n",
    "\n",
    "class Dates:\n",
    "    def __init__(self, date):\n",
    "        self.date = date\n",
    "    \n",
    "    def getDate(self):\n",
    "        return self.date\n",
    "    \n",
    "    @staticmethod\n",
    "    def toDashDate(date):\n",
    "        return date.replace(\"/\", \"-\")\n",
    "    \n",
    "\n",
    "class DatesWithSlashes(Dates):\n",
    "    def getDate(self):\n",
    "        return Dates.toDashDate(self.date)    \n",
    "\n",
    "dateObj = Dates(\"01/01/2020\")\n",
    "print(dateObj.getDate())\n",
    "\n",
    "\n",
    "dateFromDB = DatesWithSlashes(\"15/12/2016\")\n",
    "print(dateFromDB.getDate())"
   ]
  },
  {
   "cell_type": "markdown",
   "id": "tight-bahamas",
   "metadata": {},
   "source": [
    "here we wouldn't want `DatesWithSlashes` to override the static utility "
   ]
  },
  {
   "cell_type": "markdown",
   "id": "addressed-abortion",
   "metadata": {},
   "source": [
    "## Magic Methods"
   ]
  },
  {
   "cell_type": "markdown",
   "id": "massive-nigeria",
   "metadata": {},
   "source": [
    "## \n",
    "\n",
    "`__repr__()` is used to help with printing the object. \n",
    "\n",
    "it gets called when you try to convert an object into a string through the various means that are available eg. `print()`, `str()`, etc."
   ]
  },
  {
   "cell_type": "markdown",
   "id": "magnetic-filling",
   "metadata": {},
   "source": [
    "## Initiate and call method\n",
    "sometimes you may want to call a method when the class is initiated"
   ]
  },
  {
   "cell_type": "code",
   "execution_count": 1,
   "id": "young-truth",
   "metadata": {},
   "outputs": [
    {
     "name": "stdout",
     "output_type": "stream",
     "text": [
      "I am a dog\n"
     ]
    }
   ],
   "source": [
    "class animal:\n",
    "    def __init__(self, name):\n",
    "        self.name = name\n",
    "        self.sayName() # initiate here\n",
    "\n",
    "    def sayName(self):\n",
    "        print(\"I am a\", self.name)\n",
    "\n",
    "dog = animal(\"dog\")"
   ]
  },
  {
   "cell_type": "markdown",
   "id": "brave-beatles",
   "metadata": {},
   "source": [
    "## kwargs\n",
    "Usage of `**kwargs` with classes. \n",
    "Allow the user to input as many fields as they wish. \n"
   ]
  },
  {
   "cell_type": "code",
   "execution_count": 3,
   "id": "norman-attendance",
   "metadata": {},
   "outputs": [
    {
     "name": "stdout",
     "output_type": "stream",
     "text": [
      "Jacob\n",
      "Brown\n",
      "180\n",
      "{'name': 'Jacob', 'lastname': 'Brown', 'height': 180, 'mobile': '0123456789'}\n"
     ]
    }
   ],
   "source": [
    "class Employee:\n",
    "    def __init__(self, fullname, **kwargs):\n",
    "        fullname_array = fullname.split()\n",
    "        self.name = fullname_array[0]\n",
    "        self.lastname = fullname_array[1]\n",
    "        self.__dict__.update(kwargs)\n",
    "\n",
    "\n",
    "jacob = Employee(\"Jacob Brown\", height=180, mobile = \"0123456789\")\n",
    "print(jacob.name)\n",
    "print(jacob.lastname)\n",
    "print(jacob.height)\n",
    "print(jacob.__dict__)"
   ]
  }
 ],
 "metadata": {
  "kernelspec": {
   "display_name": "Python 3",
   "language": "python",
   "name": "python3"
  },
  "language_info": {
   "codemirror_mode": {
    "name": "ipython",
    "version": 3
   },
   "file_extension": ".py",
   "mimetype": "text/x-python",
   "name": "python",
   "nbconvert_exporter": "python",
   "pygments_lexer": "ipython3",
   "version": "3.8.7"
  }
 },
 "nbformat": 4,
 "nbformat_minor": 5
}