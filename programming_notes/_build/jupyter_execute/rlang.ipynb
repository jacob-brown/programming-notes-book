{
 "cells": [
  {
   "cell_type": "markdown",
   "id": "defined-behalf",
   "metadata": {},
   "source": [
    "# R \n"
   ]
  },
  {
   "cell_type": "code",
   "execution_count": 2,
   "id": "typical-effects",
   "metadata": {},
   "outputs": [
    {
     "data": {
      "text/html": [
       "7"
      ],
      "text/latex": [
       "7"
      ],
      "text/markdown": [
       "7"
      ],
      "text/plain": [
       "[1] 7"
      ]
     },
     "metadata": {},
     "output_type": "display_data"
    }
   ],
   "source": [
    "a <- 1 + 1 \n",
    "\n",
    "a + 5"
   ]
  },
  {
   "cell_type": "markdown",
   "id": "three-ultimate",
   "metadata": {},
   "source": [
    "an obvious eror\n",
    "\n"
   ]
  }
 ],
 "metadata": {
  "kernelspec": {
   "display_name": "R",
   "language": "R",
   "name": "ir"
  },
  "language_info": {
   "codemirror_mode": "r",
   "file_extension": ".r",
   "mimetype": "text/x-r-source",
   "name": "R",
   "pygments_lexer": "r",
   "version": "4.0.3"
  }
 },
 "nbformat": 4,
 "nbformat_minor": 5
}