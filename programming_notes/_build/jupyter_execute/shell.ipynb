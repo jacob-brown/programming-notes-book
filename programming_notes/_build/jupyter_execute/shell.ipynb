{
 "cells": [
  {
   "cell_type": "markdown",
   "id": "greatest-wales",
   "metadata": {},
   "source": [
    "# Shell"
   ]
  },
  {
   "cell_type": "code",
   "execution_count": 1,
   "id": "moral-external",
   "metadata": {},
   "outputs": [
    {
     "name": "stdout",
     "output_type": "stream",
     "text": [
      "/Users/jacobbrown/Documents/Productivity/notes_Jupyter/mynotesbook/programming_notes/programming_notes\n"
     ]
    }
   ],
   "source": [
    "pwd"
   ]
  },
  {
   "cell_type": "code",
   "execution_count": 4,
   "id": "documentary-drinking",
   "metadata": {},
   "outputs": [
    {
     "name": "stdout",
     "output_type": "stream",
     "text": [
      "total 80\n",
      "drwxr-xr-x  14 jacobbrown  staff   448 Jan 18 16:45 \u001b[1m\u001b[36m.\u001b[39;49m\u001b[0m\n",
      "drwxr-xr-x   9 jacobbrown  staff   288 Jan 18 15:22 \u001b[1m\u001b[36m..\u001b[39;49m\u001b[0m\n",
      "drwxr-xr-x   2 jacobbrown  staff    64 Jan 18 16:45 \u001b[1m\u001b[36m.ipynb_checkpoints\u001b[39;49m\u001b[0m\n",
      "drwxr-xr-x   5 jacobbrown  staff   160 Jan 18 14:18 \u001b[1m\u001b[36m_build\u001b[39;49m\u001b[0m\n",
      "-rwxr-xr-x   1 jacobbrown  staff   692 Jan 18 15:24 \u001b[31m_config.yml\u001b[39;49m\u001b[0m\n",
      "-rw-r--r--   1 jacobbrown  staff   269 Jan 18 16:09 _toc.yml\n",
      "-rw-r--r--   1 jacobbrown  staff   414 Jan 18 15:44 content.md\n",
      "drwxr-xr-x   4 jacobbrown  staff   128 Jan 18 15:24 \u001b[1m\u001b[36mimg\u001b[39;49m\u001b[0m\n",
      "-rw-r--r--   1 jacobbrown  staff   161 Jan 18 15:27 intro.md\n",
      "-rw-r--r--   1 jacobbrown  staff  3736 Jan 18 14:16 markdown.md\n",
      "-rw-r--r--   1 jacobbrown  staff  3373 Jan 18 16:26 notebooks.ipynb\n",
      "-rw-r--r--   1 jacobbrown  staff  1680 Jan 18 15:18 python.ipynb\n",
      "-rw-r--r--   1 jacobbrown  staff  5451 Jan 18 14:16 references.bib\n",
      "-rw-r--r--   1 jacobbrown  staff  1631 Jan 18 16:24 shell.ipynb\n"
     ]
    }
   ],
   "source": [
    "ls -al"
   ]
  }
 ],
 "metadata": {
  "kernelspec": {
   "display_name": "Z shell",
   "language": "zsh",
   "name": "zsh"
  },
  "language_info": {
   "codemirror_mode": "shell",
   "file_extension": ".zsh",
   "mimetype": "text/x-zsh",
   "name": "zsh",
   "pygments_lexer": "shell",
   "version": "5.7.1"
  }
 },
 "nbformat": 4,
 "nbformat_minor": 5
}