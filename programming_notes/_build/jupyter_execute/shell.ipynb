{
 "cells": [
  {
   "cell_type": "markdown",
   "id": "organizational-mongolia",
   "metadata": {},
   "source": [
    "# Shell"
   ]
  },
  {
   "cell_type": "code",
   "execution_count": 1,
   "id": "optional-seattle",
   "metadata": {},
   "outputs": [
    {
     "name": "stdout",
     "output_type": "stream",
     "text": [
      "/Users/jacobbrown/Documents/Productivity/notes_Jupyter/mynotesbook/programming_notes/programming_notes\r\n"
     ]
    }
   ],
   "source": [
    "pwd"
   ]
  },
  {
   "cell_type": "code",
   "execution_count": 2,
   "id": "broke-duration",
   "metadata": {},
   "outputs": [
    {
     "name": "stdout",
     "output_type": "stream",
     "text": [
      "total 80\r\n"
     ]
    },
    {
     "name": "stdout",
     "output_type": "stream",
     "text": [
      "drwxr-xr-x  14 jacobbrown  staff   448 Jan 18 16:47 \u001b[1m\u001b[36m.\u001b[39;49m\u001b[0m\r\n"
     ]
    },
    {
     "name": "stdout",
     "output_type": "stream",
     "text": [
      "drwxr-xr-x   9 jacobbrown  staff   288 Jan 18 15:22 \u001b[1m\u001b[36m..\u001b[39;49m\u001b[0m\r\n"
     ]
    },
    {
     "name": "stdout",
     "output_type": "stream",
     "text": [
      "drwxr-xr-x   3 jacobbrown  staff    96 Jan 18 16:47 \u001b[1m\u001b[36m.ipynb_checkpoints\u001b[39;49m\u001b[0m\r\n"
     ]
    },
    {
     "name": "stdout",
     "output_type": "stream",
     "text": [
      "drwxr-xr-x   5 jacobbrown  staff   160 Jan 18 14:18 \u001b[1m\u001b[36m_build\u001b[39;49m\u001b[0m\r\n"
     ]
    },
    {
     "name": "stdout",
     "output_type": "stream",
     "text": [
      "-rwxr-xr-x   1 jacobbrown  staff   692 Jan 18 15:24 \u001b[31m_config.yml\u001b[39;49m\u001b[0m\r\n"
     ]
    },
    {
     "name": "stdout",
     "output_type": "stream",
     "text": [
      "-rw-r--r--   1 jacobbrown  staff   286 Jan 18 16:53 _toc.yml\r\n"
     ]
    },
    {
     "name": "stdout",
     "output_type": "stream",
     "text": [
      "-rw-r--r--   1 jacobbrown  staff   414 Jan 18 15:44 content.md\r\n"
     ]
    },
    {
     "name": "stdout",
     "output_type": "stream",
     "text": [
      "drwxr-xr-x   4 jacobbrown  staff   128 Jan 18 15:24 \u001b[1m\u001b[36mimg\u001b[39;49m\u001b[0m\r\n"
     ]
    },
    {
     "name": "stdout",
     "output_type": "stream",
     "text": [
      "-rw-r--r--   1 jacobbrown  staff   161 Jan 18 15:27 intro.md\r\n"
     ]
    },
    {
     "name": "stdout",
     "output_type": "stream",
     "text": [
      "-rw-r--r--   1 jacobbrown  staff  3736 Jan 18 14:16 markdown.md\r\n"
     ]
    },
    {
     "name": "stdout",
     "output_type": "stream",
     "text": [
      "-rw-r--r--   1 jacobbrown  staff  3373 Jan 18 16:26 notebooks.ipynb\r\n"
     ]
    },
    {
     "name": "stdout",
     "output_type": "stream",
     "text": [
      "-rw-r--r--   1 jacobbrown  staff  1680 Jan 18 15:18 python.ipynb\r\n"
     ]
    },
    {
     "name": "stdout",
     "output_type": "stream",
     "text": [
      "-rw-r--r--   1 jacobbrown  staff  5451 Jan 18 14:16 references.bib\r\n"
     ]
    },
    {
     "name": "stdout",
     "output_type": "stream",
     "text": [
      "-rw-r--r--@  1 jacobbrown  staff  2509 Jan 18 16:47 shell.ipynb\r\n"
     ]
    }
   ],
   "source": [
    "ls -al"
   ]
  },
  {
   "cell_type": "code",
   "execution_count": null,
   "id": "narrative-looking",
   "metadata": {},
   "outputs": [],
   "source": []
  }
 ],
 "metadata": {
  "kernelspec": {
   "display_name": "Z shell",
   "language": "zsh",
   "name": "zsh"
  },
  "language_info": {
   "codemirror_mode": "shell",
   "file_extension": ".zsh",
   "mimetype": "text/x-zsh",
   "name": "zsh",
   "pygments_lexer": "shell",
   "version": "5.7.1"
  }
 },
 "nbformat": 4,
 "nbformat_minor": 5
}