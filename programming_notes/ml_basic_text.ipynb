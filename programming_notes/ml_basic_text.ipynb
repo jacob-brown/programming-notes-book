{
 "cells": [
  {
   "cell_type": "markdown",
   "id": "alone-perfume",
   "metadata": {},
   "source": [
    "# Basic Text Classification\n",
    "\n",
    "**Aim**: Classify IMDB comments as positive or negative (i.e. sentiment)\n",
    "\n",
    "We'll train a binary classifier to perform sentiment analysis on an IMDB dataset.\n",
    "\n",
    "Hence binary, either positive or negative.\n",
    "\n",
    "**Dataset**: 50,000 movie reviews. 25,000 reviews for training and 25,000 reviews for testing \n",
    "\n",
    "The data is *balanced* as it has equal number training and testing. \n"
   ]
  },
  {
   "cell_type": "code",
   "execution_count": 1,
   "id": "close-yeast",
   "metadata": {},
   "outputs": [],
   "source": [
    "import matplotlib.pyplot as plt\n",
    "import os\n",
    "import re\n",
    "import shutil\n",
    "import string\n",
    "import tensorflow as tf\n",
    "\n",
    "from tensorflow.keras import layers\n",
    "from tensorflow.keras import losses\n",
    "from tensorflow.keras import preprocessing\n",
    "from tensorflow.keras.layers.experimental.preprocessing import TextVectorization"
   ]
  },
  {
   "cell_type": "markdown",
   "id": "forbidden-lecture",
   "metadata": {},
   "source": [
    "Download the data - (run once! jupyter cell converted to raw)"
   ]
  },
  {
   "cell_type": "raw",
   "id": "quality-medline",
   "metadata": {},
   "source": [
    "url = \"https://ai.stanford.edu/~amaas/data/sentiment/aclImdb_v1.tar.gz\"\n",
    "\n",
    "dataset = tf.keras.utils.get_file(\"data/aclImdb_v1.tar.gz\", url,\n",
    "                                    untar=True, cache_dir='.',\n",
    "                                    cache_subdir='')\n"
   ]
  },
  {
   "cell_type": "markdown",
   "id": "controlled-reynolds",
   "metadata": {},
   "source": [
    "general cleanup: move the folder to data - (run once! jupyter cell converted to raw)"
   ]
  },
  {
   "cell_type": "raw",
   "id": "tight-midwest",
   "metadata": {},
   "source": [
    "# general cleanup - move the folder to data\n",
    "import shutil\n",
    "shutil.move('aclImdb','data/aclImdb')"
   ]
  },
  {
   "cell_type": "markdown",
   "id": "stock-airline",
   "metadata": {},
   "source": [
    "Create a path to the data "
   ]
  },
  {
   "cell_type": "code",
   "execution_count": 20,
   "id": "interim-ethics",
   "metadata": {},
   "outputs": [],
   "source": [
    "dataset_dir = os.path.join(os.path.dirname(dataset), 'aclImdb')"
   ]
  },
  {
   "cell_type": "code",
   "execution_count": 24,
   "id": "colored-festival",
   "metadata": {},
   "outputs": [
    {
     "name": "stdout",
     "output_type": "stream",
     "text": [
      "./data/aclImdb\n"
     ]
    },
    {
     "data": {
      "text/plain": [
       "['imdbEr.txt', 'test', 'imdb.vocab', 'README', 'train']"
      ]
     },
     "execution_count": 24,
     "metadata": {},
     "output_type": "execute_result"
    }
   ],
   "source": [
    "print(dataset_dir)\n",
    "\n",
    "os.listdir(dataset_dir)"
   ]
  },
  {
   "cell_type": "code",
   "execution_count": 26,
   "id": "black-triple",
   "metadata": {},
   "outputs": [
    {
     "data": {
      "text/plain": [
       "['urls_unsup.txt',\n",
       " 'neg',\n",
       " 'urls_pos.txt',\n",
       " 'unsup',\n",
       " 'urls_neg.txt',\n",
       " 'pos',\n",
       " 'unsupBow.feat',\n",
       " 'labeledBow.feat']"
      ]
     },
     "execution_count": 26,
     "metadata": {},
     "output_type": "execute_result"
    }
   ],
   "source": [
    "train_dir = os.path.join(dataset_dir, 'train')\n",
    "os.listdir(train_dir)"
   ]
  },
  {
   "cell_type": "markdown",
   "id": "affected-south",
   "metadata": {},
   "source": [
    "`pos` and `neg` directories contain many reviews in text files"
   ]
  },
  {
   "cell_type": "code",
   "execution_count": 27,
   "id": "interior-laugh",
   "metadata": {},
   "outputs": [
    {
     "name": "stdout",
     "output_type": "stream",
     "text": [
      "Rachel Griffiths writes and directs this award winning short film. A heartwarming story about coping with grief and cherishing the memory of those we've loved and lost. Although, only 15 minutes long, Griffiths manages to capture so much emotion and truth onto film in the short space of time. Bud Tingwell gives a touching performance as Will, a widower struggling to cope with his wife's death. Will is confronted by the harsh reality of loneliness and helplessness as he proceeds to take care of Ruth's pet cow, Tulip. The film displays the grief and responsibility one feels for those they have loved and lost. Good cinematography, great direction, and superbly acted. It will bring tears to all those who have lost a loved one, and survived.\n"
     ]
    }
   ],
   "source": [
    "sample_file = os.path.join(train_dir, 'pos/1181_9.txt')\n",
    "\n",
    "with open(sample_file) as f:\n",
    "    print(f.read())"
   ]
  },
  {
   "cell_type": "markdown",
   "id": "continent-story",
   "metadata": {},
   "source": [
    "## Load the data\n",
    "\n",
    "https://www.tensorflow.org/tutorials/keras/text_classification"
   ]
  },
  {
   "cell_type": "code",
   "execution_count": null,
   "id": "stretch-hawaii",
   "metadata": {},
   "outputs": [],
   "source": []
  }
 ],
 "metadata": {
  "kernelspec": {
   "display_name": "Python 3",
   "language": "python",
   "name": "python3"
  },
  "language_info": {
   "codemirror_mode": {
    "name": "ipython",
    "version": 3
   },
   "file_extension": ".py",
   "mimetype": "text/x-python",
   "name": "python",
   "nbconvert_exporter": "python",
   "pygments_lexer": "ipython3",
   "version": "3.8.7"
  }
 },
 "nbformat": 4,
 "nbformat_minor": 5
}
