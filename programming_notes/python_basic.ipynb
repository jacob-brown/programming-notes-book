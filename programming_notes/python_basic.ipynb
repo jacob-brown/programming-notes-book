{
 "cells": [
  {
   "cell_type": "markdown",
   "id": "agreed-enzyme",
   "metadata": {},
   "source": [
    "# Python: Basics"
   ]
  },
  {
   "cell_type": "markdown",
   "id": "juvenile-mistake",
   "metadata": {},
   "source": [
    "### Lists\n",
    "Methods: \n",
    "\n",
    "* `append()`\n",
    "* `clear()`\n",
    "* `copy()`\n",
    "* `count()`\n",
    "* `extend()`\n",
    "* `index()`\n",
    "* `insert()`\n",
    "* `pop()`\n",
    "* `remove()`\n",
    "* `reverse()`\n",
    "* `sort()`\n"
   ]
  },
  {
   "cell_type": "code",
   "execution_count": 1,
   "id": "interior-fitting",
   "metadata": {},
   "outputs": [
    {
     "name": "stdout",
     "output_type": "stream",
     "text": [
      "['apple', 'banana', 'orange', 'kiwi']\n"
     ]
    }
   ],
   "source": [
    "demoList = [\"apple\", \"banana\", \"orange\", \"kiwi\"]\n",
    "print(demoList)"
   ]
  },
  {
   "cell_type": "markdown",
   "id": "stainless-demand",
   "metadata": {},
   "source": [
    "Adding/Removing items"
   ]
  },
  {
   "cell_type": "code",
   "execution_count": 2,
   "id": "interim-addition",
   "metadata": {},
   "outputs": [
    {
     "name": "stdout",
     "output_type": "stream",
     "text": [
      "['apple', 'banana', 'orange', 'kiwi', 'cherry']\n",
      "['apple', 'grape', 'banana', 'orange', 'kiwi', 'cherry']\n"
     ]
    }
   ],
   "source": [
    "demoList.append('cherry')\n",
    "print(demoList) \n",
    "\n",
    "demoList.insert(1, 'grape')\n",
    "print(demoList) "
   ]
  },
  {
   "cell_type": "markdown",
   "id": "collected-singer",
   "metadata": {},
   "source": [
    "join 2 lists"
   ]
  },
  {
   "cell_type": "code",
   "execution_count": 3,
   "id": "overhead-price",
   "metadata": {},
   "outputs": [
    {
     "name": "stdout",
     "output_type": "stream",
     "text": [
      "['apple', 'banana', 'cherry', 'mango', 'pineapple', 'papaya']\n"
     ]
    }
   ],
   "source": [
    "thislist = [\"apple\", \"banana\", \"cherry\"]\n",
    "tropical = [\"mango\", \"pineapple\", \"papaya\"]\n",
    "thislist.extend(tropical)\n",
    "print(thislist)"
   ]
  },
  {
   "cell_type": "markdown",
   "id": "delayed-width",
   "metadata": {},
   "source": [
    "or..."
   ]
  },
  {
   "cell_type": "code",
   "execution_count": 4,
   "id": "prostate-forestry",
   "metadata": {},
   "outputs": [
    {
     "data": {
      "text/plain": [
       "['apple', 'banana', 'cherry', 'mango', 'pineapple', 'papaya']"
      ]
     },
     "execution_count": 4,
     "metadata": {},
     "output_type": "execute_result"
    }
   ],
   "source": [
    "thislist = [\"apple\", \"banana\", \"cherry\"]\n",
    "tropical = [\"mango\", \"pineapple\", \"papaya\"]\n",
    "\n",
    "thislist + tropical"
   ]
  },
  {
   "cell_type": "markdown",
   "id": "continued-magnet",
   "metadata": {},
   "source": [
    "Removing items"
   ]
  },
  {
   "cell_type": "code",
   "execution_count": 5,
   "id": "taken-remedy",
   "metadata": {},
   "outputs": [
    {
     "name": "stdout",
     "output_type": "stream",
     "text": [
      "['banana', 'orange', 'kiwi']\n",
      "['banana', 'kiwi']\n",
      "['kiwi']\n",
      "[]\n"
     ]
    }
   ],
   "source": [
    "demoList = [\"apple\", \"banana\", \"orange\", \"kiwi\"]\n",
    "\n",
    "demoList.remove('apple')\n",
    "print(demoList)\n",
    "\n",
    "demoList.pop(1)\n",
    "print(demoList)\n",
    "\n",
    "del demoList[0]\n",
    "print(demoList)\n",
    "\n",
    "demoList.clear() # removes all items\n",
    "print(demoList)"
   ]
  },
  {
   "cell_type": "markdown",
   "id": "entitled-snowboard",
   "metadata": {},
   "source": [
    "### Copying a list\n",
    "make sure the lists aren't linked, with a deep copy"
   ]
  },
  {
   "cell_type": "code",
   "execution_count": 6,
   "id": "stunning-invitation",
   "metadata": {},
   "outputs": [
    {
     "name": "stdout",
     "output_type": "stream",
     "text": [
      "['apple', 'banana', 'cherry']\n",
      "['apple', 'cherry']\n",
      "['apple', 'banana', 'cherry']\n"
     ]
    }
   ],
   "source": [
    "thislist = [\"apple\", \"banana\", \"cherry\"]\n",
    "mylist = thislist.copy()\n",
    "print(mylist)\n",
    "\n",
    "del thislist[1]\n",
    "print(thislist)\n",
    "print(mylist)"
   ]
  },
  {
   "cell_type": "markdown",
   "id": "cooperative-herald",
   "metadata": {},
   "source": [
    "### Tuples\n",
    "\n",
    "unchangeable\n",
    "\n",
    "`count()` and `index()`\n"
   ]
  },
  {
   "cell_type": "code",
   "execution_count": 7,
   "id": "international-schema",
   "metadata": {},
   "outputs": [
    {
     "data": {
      "text/plain": [
       "(1, 2, 3)"
      ]
     },
     "execution_count": 7,
     "metadata": {},
     "output_type": "execute_result"
    }
   ],
   "source": [
    "tupExample = (1, 2, 3)\n",
    "tupExample"
   ]
  },
  {
   "cell_type": "markdown",
   "id": "scheduled-queensland",
   "metadata": {},
   "source": [
    "### Sets\n",
    "unordered and unindexed, adding/removing is possible but not changing\n",
    "\n",
    "\n"
   ]
  },
  {
   "cell_type": "code",
   "execution_count": 8,
   "id": "small-genius",
   "metadata": {},
   "outputs": [
    {
     "name": "stdout",
     "output_type": "stream",
     "text": [
      "{'orange', 'banana', 'cherry', 'apple'}\n"
     ]
    }
   ],
   "source": [
    "thisset = {\"apple\", \"banana\", \"cherry\"}\n",
    "\n",
    "thisset.add(\"orange\")\n",
    "\n",
    "print(thisset) "
   ]
  },
  {
   "cell_type": "markdown",
   "id": "lasting-television",
   "metadata": {},
   "source": [
    "### Dictionaries"
   ]
  },
  {
   "cell_type": "code",
   "execution_count": 9,
   "id": "stainless-meeting",
   "metadata": {},
   "outputs": [
    {
     "name": "stdout",
     "output_type": "stream",
     "text": [
      "{'type': 'apple', 'colour': ['red', 'green'], 'weight': 200}\n",
      "apple\n"
     ]
    }
   ],
   "source": [
    "fruitDict = {\n",
    "    \"type\" : \"apple\",\n",
    "    \"colour\" : [\"red\", \"green\"],\n",
    "    \"weight\" : 200\n",
    "}\n",
    "\n",
    "print(fruitDict)\n",
    "\n",
    "print(fruitDict[\"type\"])\n",
    "\n",
    "\n"
   ]
  },
  {
   "cell_type": "code",
   "execution_count": 10,
   "id": "aggressive-hamburg",
   "metadata": {},
   "outputs": [
    {
     "data": {
      "text/plain": [
       "200"
      ]
     },
     "execution_count": 10,
     "metadata": {},
     "output_type": "execute_result"
    }
   ],
   "source": [
    "fruitDict.get(\"weight\")"
   ]
  },
  {
   "cell_type": "code",
   "execution_count": 11,
   "id": "organizational-marks",
   "metadata": {},
   "outputs": [
    {
     "data": {
      "text/plain": [
       "dict_keys(['type', 'colour', 'weight'])"
      ]
     },
     "execution_count": 11,
     "metadata": {},
     "output_type": "execute_result"
    }
   ],
   "source": [
    "fruitDict.keys()"
   ]
  },
  {
   "cell_type": "code",
   "execution_count": 12,
   "id": "animated-mention",
   "metadata": {},
   "outputs": [
    {
     "data": {
      "text/plain": [
       "dict_values(['apple', ['red', 'green'], 200])"
      ]
     },
     "execution_count": 12,
     "metadata": {},
     "output_type": "execute_result"
    }
   ],
   "source": [
    "fruitDict.values()"
   ]
  },
  {
   "cell_type": "code",
   "execution_count": 13,
   "id": "after-replication",
   "metadata": {},
   "outputs": [
    {
     "data": {
      "text/plain": [
       "dict_items([('type', 'apple'), ('colour', ['red', 'green']), ('weight', 200)])"
      ]
     },
     "execution_count": 13,
     "metadata": {},
     "output_type": "execute_result"
    }
   ],
   "source": [
    "fruitDict.items()"
   ]
  },
  {
   "cell_type": "markdown",
   "id": "purple-neighbor",
   "metadata": {},
   "source": [
    "Changing, adding, and removing items in a dictionary"
   ]
  },
  {
   "cell_type": "code",
   "execution_count": 14,
   "id": "southwest-adapter",
   "metadata": {},
   "outputs": [
    {
     "name": "stdout",
     "output_type": "stream",
     "text": [
      "{'type': 'apple', 'colour': ['red', 'green'], 'weight': 500}\n",
      "{'type': 'apple', 'colour': ['red', 'green'], 'weight': 500, 'smell': 'appley'}\n",
      "summer\n",
      "{'type': 'apple', 'weight': 500, 'smell': 'appley', 'season': 'summer'}\n"
     ]
    }
   ],
   "source": [
    "fruitDict = {\n",
    "    \"type\" : \"apple\",\n",
    "    \"colour\" : [\"red\", \"green\"],\n",
    "    \"weight\" : 200\n",
    "}\n",
    "\n",
    "fruitDict[\"weight\"] = 500\n",
    "print(fruitDict)\n",
    "\n",
    "fruitDict.update({\"smell\" : \"appley\"})\n",
    "print(fruitDict)\n",
    "\n",
    "fruitDict[\"season\"] = \"summer\"\n",
    "print(fruitDict[\"season\"])\n",
    "\n",
    "del fruitDict[\"colour\"]\n",
    "print(fruitDict)"
   ]
  },
  {
   "cell_type": "markdown",
   "id": "vocational-manor",
   "metadata": {},
   "source": [
    "## Loops\n"
   ]
  },
  {
   "cell_type": "code",
   "execution_count": 15,
   "id": "spare-polyester",
   "metadata": {},
   "outputs": [
    {
     "name": "stdout",
     "output_type": "stream",
     "text": [
      "0\n",
      "1\n",
      "2\n",
      "3\n",
      "4\n"
     ]
    }
   ],
   "source": [
    "for i in range(0,5):\n",
    "    print(i)"
   ]
  },
  {
   "cell_type": "code",
   "execution_count": 16,
   "id": "contrary-symbol",
   "metadata": {},
   "outputs": [
    {
     "name": "stdout",
     "output_type": "stream",
     "text": [
      "0\n",
      "1\n",
      "2\n",
      "3\n",
      "4\n",
      "5\n"
     ]
    }
   ],
   "source": [
    "x = 0\n",
    "while x < 6:\n",
    "    print(x)\n",
    "    x = x + 1\n",
    "    "
   ]
  },
  {
   "cell_type": "markdown",
   "id": "collective-management",
   "metadata": {},
   "source": [
    "breaks within loops"
   ]
  },
  {
   "cell_type": "code",
   "execution_count": 17,
   "id": "stretch-carbon",
   "metadata": {},
   "outputs": [
    {
     "name": "stdout",
     "output_type": "stream",
     "text": [
      "0\n",
      "1\n",
      "2\n",
      "3\n",
      "4\n"
     ]
    }
   ],
   "source": [
    "x = 0\n",
    "while x < 6:\n",
    "    print(x)\n",
    "    \n",
    "    if x == 4:\n",
    "        break\n",
    "    \n",
    "    x = x + 1"
   ]
  },
  {
   "cell_type": "markdown",
   "id": "hearing-headset",
   "metadata": {},
   "source": [
    "continue jumps back to the start of the loop"
   ]
  },
  {
   "cell_type": "code",
   "execution_count": 18,
   "id": "honest-monthly",
   "metadata": {},
   "outputs": [
    {
     "name": "stdout",
     "output_type": "stream",
     "text": [
      "1\n",
      "2\n",
      "3\n",
      "5\n",
      "6\n"
     ]
    }
   ],
   "source": [
    "x = 0\n",
    "while x < 6:\n",
    "    x += 1\n",
    "    if x == 4:\n",
    "        continue\n",
    "    print(x)"
   ]
  },
  {
   "cell_type": "code",
   "execution_count": 19,
   "id": "permanent-valentine",
   "metadata": {},
   "outputs": [
    {
     "name": "stdout",
     "output_type": "stream",
     "text": [
      "1\n",
      "2\n",
      "3\n",
      "4\n",
      "5\n",
      "i is no longer less than 6\n"
     ]
    }
   ],
   "source": [
    "i = 1\n",
    "while i < 6:\n",
    "  print(i)\n",
    "  i += 1\n",
    "else:\n",
    "  print(\"i is no longer less than 6\")"
   ]
  },
  {
   "cell_type": "markdown",
   "id": "indonesian-cedar",
   "metadata": {},
   "source": [
    "## Conditions (If..Else)"
   ]
  },
  {
   "cell_type": "code",
   "execution_count": 20,
   "id": "interior-constitution",
   "metadata": {},
   "outputs": [
    {
     "name": "stdout",
     "output_type": "stream",
     "text": [
      "b is larger\n"
     ]
    }
   ],
   "source": [
    "a = 2\n",
    "b = 20\n",
    "\n",
    "if a > b:\n",
    "    print(\"a is larger\")\n",
    "elif a == b:\n",
    "    print(\"they are equal\")\n",
    "else:\n",
    "    print(\"b is larger\")\n",
    "    \n"
   ]
  },
  {
   "cell_type": "code",
   "execution_count": 21,
   "id": "greater-parker",
   "metadata": {},
   "outputs": [
    {
     "name": "stdout",
     "output_type": "stream",
     "text": [
      "At least one of the conditions is True\n"
     ]
    }
   ],
   "source": [
    "a = 200\n",
    "b = 33\n",
    "c = 500\n",
    "\n",
    "if a > b or a > c:\n",
    "  print(\"At least one of the conditions is True\")"
   ]
  },
  {
   "cell_type": "markdown",
   "id": "sitting-defendant",
   "metadata": {},
   "source": [
    "use `pass` to avoid an error."
   ]
  },
  {
   "cell_type": "code",
   "execution_count": 22,
   "id": "occasional-little",
   "metadata": {},
   "outputs": [],
   "source": [
    "if 1 > 10:\n",
    "    pass"
   ]
  },
  {
   "cell_type": "markdown",
   "id": "controversial-farmer",
   "metadata": {},
   "source": [
    "## List Comprehension"
   ]
  },
  {
   "cell_type": "code",
   "execution_count": 23,
   "id": "apart-album",
   "metadata": {},
   "outputs": [
    {
     "data": {
      "text/plain": [
       "['banana', 'cherry']"
      ]
     },
     "execution_count": 23,
     "metadata": {},
     "output_type": "execute_result"
    }
   ],
   "source": [
    "newList = [\"apple\", \"banana\", \"cherry\"]\n",
    "\n",
    "[x for x in newList]\n",
    "\n",
    "[x for x in newList if x != 'apple']"
   ]
  },
  {
   "cell_type": "code",
   "execution_count": 24,
   "id": "nonprofit-render",
   "metadata": {},
   "outputs": [
    {
     "data": {
      "text/plain": [
       "['banana', 'cherry']"
      ]
     },
     "execution_count": 24,
     "metadata": {},
     "output_type": "execute_result"
    }
   ],
   "source": [
    "[x for x in newList if x != 'apple']"
   ]
  },
  {
   "cell_type": "code",
   "execution_count": 25,
   "id": "modular-edward",
   "metadata": {},
   "outputs": [
    {
     "data": {
      "text/plain": [
       "['APPLE', 'BANANA', 'CHERRY']"
      ]
     },
     "execution_count": 25,
     "metadata": {},
     "output_type": "execute_result"
    }
   ],
   "source": [
    "[x.upper() for x in newList]"
   ]
  },
  {
   "cell_type": "markdown",
   "id": "chemical-explanation",
   "metadata": {},
   "source": [
    "## Functions and lambda\n",
    "\n",
    "lambda can have only one expression"
   ]
  },
  {
   "cell_type": "code",
   "execution_count": 26,
   "id": "adapted-offset",
   "metadata": {},
   "outputs": [
    {
     "name": "stdout",
     "output_type": "stream",
     "text": [
      "Hello\n"
     ]
    }
   ],
   "source": [
    "def printHello():\n",
    "    print(\"Hello\")\n",
    "\n",
    "printHello()"
   ]
  },
  {
   "cell_type": "code",
   "execution_count": 27,
   "id": "bigger-colon",
   "metadata": {},
   "outputs": [
    {
     "data": {
      "text/plain": [
       "12"
      ]
     },
     "execution_count": 27,
     "metadata": {},
     "output_type": "execute_result"
    }
   ],
   "source": [
    "addTen = lambda x : x  + 10\n",
    "\n",
    "addTen(2)"
   ]
  },
  {
   "cell_type": "code",
   "execution_count": 28,
   "id": "second-breach",
   "metadata": {},
   "outputs": [
    {
     "name": "stdout",
     "output_type": "stream",
     "text": [
      "30\n"
     ]
    }
   ],
   "source": [
    "x = lambda a, b : a * b\n",
    "print(x(5, 6)) "
   ]
  },
  {
   "cell_type": "markdown",
   "id": "negative-serum",
   "metadata": {},
   "source": [
    "## Modules\n",
    "Code library or a local `.py` file"
   ]
  },
  {
   "cell_type": "code",
   "execution_count": 29,
   "id": "grave-february",
   "metadata": {},
   "outputs": [
    {
     "data": {
      "text/plain": [
       "array([1, 2, 3])"
      ]
     },
     "execution_count": 29,
     "metadata": {},
     "output_type": "execute_result"
    }
   ],
   "source": [
    "import numpy as np\n",
    "\n",
    "np.array([1, 2, 3])"
   ]
  },
  {
   "cell_type": "code",
   "execution_count": 30,
   "id": "olympic-chemical",
   "metadata": {},
   "outputs": [
    {
     "data": {
      "text/html": [
       "<div>\n",
       "<style scoped>\n",
       "    .dataframe tbody tr th:only-of-type {\n",
       "        vertical-align: middle;\n",
       "    }\n",
       "\n",
       "    .dataframe tbody tr th {\n",
       "        vertical-align: top;\n",
       "    }\n",
       "\n",
       "    .dataframe thead th {\n",
       "        text-align: right;\n",
       "    }\n",
       "</style>\n",
       "<table border=\"1\" class=\"dataframe\">\n",
       "  <thead>\n",
       "    <tr style=\"text-align: right;\">\n",
       "      <th></th>\n",
       "      <th>0</th>\n",
       "    </tr>\n",
       "  </thead>\n",
       "  <tbody>\n",
       "    <tr>\n",
       "      <th>0</th>\n",
       "      <td>1</td>\n",
       "    </tr>\n",
       "    <tr>\n",
       "      <th>1</th>\n",
       "      <td>2</td>\n",
       "    </tr>\n",
       "    <tr>\n",
       "      <th>2</th>\n",
       "      <td>3</td>\n",
       "    </tr>\n",
       "  </tbody>\n",
       "</table>\n",
       "</div>"
      ],
      "text/plain": [
       "   0\n",
       "0  1\n",
       "1  2\n",
       "2  3"
      ]
     },
     "execution_count": 30,
     "metadata": {},
     "output_type": "execute_result"
    }
   ],
   "source": [
    "from pandas import DataFrame as df\n",
    "\n",
    "df([1,2,3])"
   ]
  },
  {
   "cell_type": "markdown",
   "id": "civic-musician",
   "metadata": {},
   "source": [
    "## RegEx\n",
    "`import re`\n",
    "\n",
    "`re.` methods:\n",
    "\n",
    "* `findall` - Returns a list containing all matches\n",
    "* `search` - Returns a Match object if there is a match anywhere in the string\n",
    "    * `.span()` - returns a tuple containing the start and end positions of the match.\n",
    "    * `.string` - returns the string passed into the function\n",
    "    * `.group()` - returns the part of the string where there was a match\n",
    "* `split` - Returns a list where the string has been split at each match\n",
    "* `sub` - Replaces one or many matches with a string\n",
    "\n",
    "*from w3*\n"
   ]
  },
  {
   "cell_type": "markdown",
   "id": "historic-bennett",
   "metadata": {},
   "source": [
    "## File Handling\n",
    "\n",
    "`open(filename, mode)`\n",
    "\n",
    "Mode types:\n",
    "\n",
    "`\"r\"` - read\n",
    "\n",
    "`\"a\"` - append\n",
    "\n",
    "`\"w\"` - write\n",
    "\n",
    "`\"x\"` - create\n",
    "\n",
    "open, readlines,and close\n",
    "\n",
    "```python\n",
    "f = open(\"demofile.txt\", \"r\")\n",
    "print(f.readline())\n",
    "f.close() \n",
    "```\n",
    "\n"
   ]
  },
  {
   "cell_type": "markdown",
   "id": "minor-netherlands",
   "metadata": {},
   "source": [
    "https://www.w3schools.com/python/numpy_intro.asp"
   ]
  }
 ],
 "metadata": {
  "kernelspec": {
   "display_name": "Python 3",
   "language": "python",
   "name": "python3"
  },
  "language_info": {
   "codemirror_mode": {
    "name": "ipython",
    "version": 3
   },
   "file_extension": ".py",
   "mimetype": "text/x-python",
   "name": "python",
   "nbconvert_exporter": "python",
   "pygments_lexer": "ipython3",
   "version": "3.9.1"
  }
 },
 "nbformat": 4,
 "nbformat_minor": 5
}
