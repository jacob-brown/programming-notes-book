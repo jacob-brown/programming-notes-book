{
 "cells": [
  {
   "cell_type": "markdown",
   "id": "knowing-classification",
   "metadata": {},
   "source": [
    "# R \n"
   ]
  },
  {
   "cell_type": "code",
   "execution_count": 2,
   "id": "seventh-mexico",
   "metadata": {},
   "outputs": [
    {
     "data": {
      "text/html": [
       "7"
      ],
      "text/latex": [
       "7"
      ],
      "text/markdown": [
       "7"
      ],
      "text/plain": [
       "[1] 7"
      ]
     },
     "metadata": {},
     "output_type": "display_data"
    }
   ],
   "source": [
    "a <- 1 + 1 \n",
    "\n",
    "a + 5"
   ]
  },
  {
   "cell_type": "markdown",
   "id": "cooked-backup",
   "metadata": {},
   "source": [
    "an obvious eror when \n",
    "\n"
   ]
  }
 ],
 "metadata": {
  "kernelspec": {
   "display_name": "R",
   "language": "R",
   "name": "ir"
  },
  "language_info": {
   "codemirror_mode": "r",
   "file_extension": ".r",
   "mimetype": "text/x-r-source",
   "name": "R",
   "pygments_lexer": "r",
   "version": "4.0.3"
  }
 },
 "nbformat": 4,
 "nbformat_minor": 5
}
