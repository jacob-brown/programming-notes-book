{
 "cells": [
  {
   "cell_type": "markdown",
   "id": "proud-article",
   "metadata": {},
   "source": [
    "# Shell\n",
    "zsh use\n",
    "\n",
    "set directory for use"
   ]
  },
  {
   "cell_type": "markdown",
   "id": "adult-consortium",
   "metadata": {},
   "source": [
    "## Size of files/folders"
   ]
  },
  {
   "cell_type": "code",
   "execution_count": 2,
   "id": "macro-agreement",
   "metadata": {},
   "outputs": [
    {
     "name": "stdout",
     "output_type": "stream",
     "text": [
      "5.4M\t_build\n",
      "4.0K\t_config.yml\n",
      "4.0K\t_toc.yml\n",
      "4.0K\tcontent.md\n",
      " 48K\timg\n",
      "4.0K\tintro.md\n",
      "4.0K\tmarkdown.md\n",
      "4.0K\tnotebooks.ipynb\n",
      " 24K\tpython_advanced.ipynb\n",
      " 20K\tpython_basic.ipynb\n",
      "8.0K\treferences.bib\n",
      "4.0K\trlang.ipynb\n",
      "4.0K\tshell.ipynb\n"
     ]
    }
   ],
   "source": [
    "du -sh *"
   ]
  },
  {
   "cell_type": "code",
   "execution_count": null,
   "id": "sweet-barrier",
   "metadata": {},
   "outputs": [],
   "source": []
  }
 ],
 "metadata": {
  "kernelspec": {
   "display_name": "Z shell",
   "language": "zsh",
   "name": "zsh"
  },
  "language_info": {
   "codemirror_mode": "shell",
   "file_extension": ".zsh",
   "mimetype": "text/x-zsh",
   "name": "zsh",
   "pygments_lexer": "shell",
   "version": "5.7.1"
  }
 },
 "nbformat": 4,
 "nbformat_minor": 5
}
